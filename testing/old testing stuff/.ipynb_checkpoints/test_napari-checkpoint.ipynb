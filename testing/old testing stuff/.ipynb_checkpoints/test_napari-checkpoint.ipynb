{
 "cells": [
  {
   "cell_type": "markdown",
   "metadata": {},
   "source": [
    "## Dependencies\n",
    "\n",
    "The below analysis is has the following python dependencies:\n",
    "- napari\n",
    "- dask-image"
   ]
  },
  {
   "cell_type": "code",
   "execution_count": 1,
   "metadata": {},
   "outputs": [],
   "source": [
    "%gui qt5\n",
    "# needed to launch a PyQt5 application (napari)"
   ]
  },
  {
   "cell_type": "markdown",
   "metadata": {},
   "source": [
    "## Loading the data\n",
    "We are using the `dask-image` package to load a *Paraphronima crassipes* DICOM dataset and the `napari` package to visualise this data."
   ]
  },
  {
   "cell_type": "code",
   "execution_count": 16,
   "metadata": {},
   "outputs": [],
   "source": [
    "from dask_image.imread import imread\n",
    "from nilearn.image import load_img, get_data\n",
    "\n",
    "stack1 = imread(\"P_crassipes_FEG191022_077A/new/*.dcm\")\n",
    "stack = get_data(load_img(\"/Users/jakemanger/phd_projects/mct_imfiles/flammula_20180307/flammula_20180307.nii\"))"
   ]
  },
  {
   "cell_type": "markdown",
   "metadata": {},
   "source": [
    "Let's inspect the data:"
   ]
  },
  {
   "cell_type": "code",
   "execution_count": 17,
   "metadata": {},
   "outputs": [
    {
     "data": {
      "text/plain": [
       "memmap([[[0, 0, 0, ..., 0, 0, 0],\n",
       "         [0, 0, 0, ..., 0, 0, 0],\n",
       "         [0, 0, 0, ..., 0, 0, 0],\n",
       "         ...,\n",
       "         [0, 0, 0, ..., 0, 0, 0],\n",
       "         [0, 0, 0, ..., 0, 0, 0],\n",
       "         [0, 0, 0, ..., 0, 0, 0]],\n",
       "\n",
       "        [[0, 0, 0, ..., 0, 0, 0],\n",
       "         [0, 0, 0, ..., 0, 0, 0],\n",
       "         [0, 0, 0, ..., 0, 0, 0],\n",
       "         ...,\n",
       "         [0, 0, 0, ..., 0, 0, 0],\n",
       "         [0, 0, 0, ..., 0, 0, 0],\n",
       "         [0, 0, 0, ..., 0, 0, 0]],\n",
       "\n",
       "        [[0, 0, 0, ..., 0, 0, 0],\n",
       "         [0, 0, 0, ..., 0, 0, 0],\n",
       "         [0, 0, 0, ..., 0, 0, 0],\n",
       "         ...,\n",
       "         [0, 0, 0, ..., 0, 0, 0],\n",
       "         [0, 0, 0, ..., 0, 0, 0],\n",
       "         [0, 0, 0, ..., 0, 0, 0]],\n",
       "\n",
       "        ...,\n",
       "\n",
       "        [[0, 0, 0, ..., 0, 0, 0],\n",
       "         [0, 0, 0, ..., 0, 0, 0],\n",
       "         [0, 0, 0, ..., 0, 0, 0],\n",
       "         ...,\n",
       "         [0, 0, 0, ..., 0, 0, 0],\n",
       "         [0, 0, 0, ..., 0, 0, 0],\n",
       "         [0, 0, 0, ..., 0, 0, 0]],\n",
       "\n",
       "        [[0, 0, 0, ..., 0, 0, 0],\n",
       "         [0, 0, 0, ..., 0, 0, 0],\n",
       "         [0, 0, 0, ..., 0, 0, 0],\n",
       "         ...,\n",
       "         [0, 0, 0, ..., 0, 0, 0],\n",
       "         [0, 0, 0, ..., 0, 0, 0],\n",
       "         [0, 0, 0, ..., 0, 0, 0]],\n",
       "\n",
       "        [[0, 0, 0, ..., 0, 0, 0],\n",
       "         [0, 0, 0, ..., 0, 0, 0],\n",
       "         [0, 0, 0, ..., 0, 0, 0],\n",
       "         ...,\n",
       "         [0, 0, 0, ..., 0, 0, 0],\n",
       "         [0, 0, 0, ..., 0, 0, 0],\n",
       "         [0, 0, 0, ..., 0, 0, 0]]], dtype=uint16)"
      ]
     },
     "execution_count": 17,
     "metadata": {},
     "output_type": "execute_result"
    }
   ],
   "source": [
    "stack"
   ]
  },
  {
   "cell_type": "markdown",
   "metadata": {},
   "source": [
    "## Plotting the data\n",
    "Now let's view the volumetric data using napari"
   ]
  },
  {
   "cell_type": "code",
   "execution_count": 18,
   "metadata": {},
   "outputs": [
    {
     "data": {
      "text/plain": [
       "<Image layer 'stack' at 0x185b5e828>"
      ]
     },
     "execution_count": 18,
     "metadata": {},
     "output_type": "execute_result"
    }
   ],
   "source": [
    "import napari\n",
    "\n",
    "# setup the viewer\n",
    "viewer = napari.Viewer()\n",
    "viewer.dims.ndisplay = 3 # toggle 3 dimensional view\n",
    "\n",
    "viewer.add_image(stack, contrast_limits=(18000, 32800))"
   ]
  },
  {
   "cell_type": "markdown",
   "metadata": {},
   "source": [
    "To see inside, lets cut the volume in half and plot again"
   ]
  },
  {
   "cell_type": "code",
   "execution_count": 16,
   "metadata": {},
   "outputs": [
    {
     "data": {
      "text/plain": [
       "<Image layer 'half_stack' at 0x1a3da3da0>"
      ]
     },
     "execution_count": 16,
     "metadata": {},
     "output_type": "execute_result"
    }
   ],
   "source": [
    "half_stack = stack[:, 0:326, :]\n",
    "viewer.add_image(half_stack, contrast_limits=(18000, 32800))"
   ]
  },
  {
   "cell_type": "markdown",
   "metadata": {},
   "source": [
    "Let's read in the annotated point data and add this to the plot"
   ]
  },
  {
   "cell_type": "code",
   "execution_count": 17,
   "metadata": {},
   "outputs": [],
   "source": [
    "import scipy.io\n",
    "mat = scipy.io.loadmat('P_crassipes_FEG191022_077A.mat')"
   ]
  },
  {
   "cell_type": "code",
   "execution_count": 18,
   "metadata": {},
   "outputs": [
    {
     "data": {
      "text/plain": [
       "dict_keys(['__header__', '__version__', '__globals__', 'save_dat', '__function_workspace__'])"
      ]
     },
     "execution_count": 18,
     "metadata": {},
     "output_type": "execute_result"
    }
   ],
   "source": [
    "type(mat)\n",
    "mat.keys()"
   ]
  },
  {
   "cell_type": "code",
   "execution_count": 19,
   "metadata": {},
   "outputs": [
    {
     "data": {
      "text/html": [
       "<div>\n",
       "<style scoped>\n",
       "    .dataframe tbody tr th:only-of-type {\n",
       "        vertical-align: middle;\n",
       "    }\n",
       "\n",
       "    .dataframe tbody tr th {\n",
       "        vertical-align: top;\n",
       "    }\n",
       "\n",
       "    .dataframe thead th {\n",
       "        text-align: right;\n",
       "    }\n",
       "</style>\n",
       "<table border=\"1\" class=\"dataframe\">\n",
       "  <thead>\n",
       "    <tr style=\"text-align: right;\">\n",
       "      <th></th>\n",
       "      <th>x</th>\n",
       "      <th>y</th>\n",
       "      <th>z</th>\n",
       "    </tr>\n",
       "  </thead>\n",
       "  <tbody>\n",
       "    <tr>\n",
       "      <th>0</th>\n",
       "      <td>40.481631</td>\n",
       "      <td>147.725003</td>\n",
       "      <td>199.015571</td>\n",
       "    </tr>\n",
       "    <tr>\n",
       "      <th>1</th>\n",
       "      <td>267.238732</td>\n",
       "      <td>79.774611</td>\n",
       "      <td>154.688388</td>\n",
       "    </tr>\n",
       "    <tr>\n",
       "      <th>2</th>\n",
       "      <td>40.195919</td>\n",
       "      <td>144.879549</td>\n",
       "      <td>247.636955</td>\n",
       "    </tr>\n",
       "    <tr>\n",
       "      <th>3</th>\n",
       "      <td>25.693888</td>\n",
       "      <td>181.412526</td>\n",
       "      <td>214.614645</td>\n",
       "    </tr>\n",
       "    <tr>\n",
       "      <th>4</th>\n",
       "      <td>257.335501</td>\n",
       "      <td>88.203109</td>\n",
       "      <td>153.242276</td>\n",
       "    </tr>\n",
       "    <tr>\n",
       "      <th>...</th>\n",
       "      <td>...</td>\n",
       "      <td>...</td>\n",
       "      <td>...</td>\n",
       "    </tr>\n",
       "    <tr>\n",
       "      <th>420</th>\n",
       "      <td>351.756917</td>\n",
       "      <td>141.633198</td>\n",
       "      <td>131.476212</td>\n",
       "    </tr>\n",
       "    <tr>\n",
       "      <th>421</th>\n",
       "      <td>348.101522</td>\n",
       "      <td>138.402087</td>\n",
       "      <td>123.711460</td>\n",
       "    </tr>\n",
       "    <tr>\n",
       "      <th>422</th>\n",
       "      <td>355.190020</td>\n",
       "      <td>137.432012</td>\n",
       "      <td>116.417385</td>\n",
       "    </tr>\n",
       "    <tr>\n",
       "      <th>423</th>\n",
       "      <td>389.251064</td>\n",
       "      <td>189.948370</td>\n",
       "      <td>131.885950</td>\n",
       "    </tr>\n",
       "    <tr>\n",
       "      <th>424</th>\n",
       "      <td>481.118988</td>\n",
       "      <td>227.562210</td>\n",
       "      <td>109.472328</td>\n",
       "    </tr>\n",
       "  </tbody>\n",
       "</table>\n",
       "<p>425 rows × 3 columns</p>\n",
       "</div>"
      ],
      "text/plain": [
       "              x           y           z\n",
       "0     40.481631  147.725003  199.015571\n",
       "1    267.238732   79.774611  154.688388\n",
       "2     40.195919  144.879549  247.636955\n",
       "3     25.693888  181.412526  214.614645\n",
       "4    257.335501   88.203109  153.242276\n",
       "..          ...         ...         ...\n",
       "420  351.756917  141.633198  131.476212\n",
       "421  348.101522  138.402087  123.711460\n",
       "422  355.190020  137.432012  116.417385\n",
       "423  389.251064  189.948370  131.885950\n",
       "424  481.118988  227.562210  109.472328\n",
       "\n",
       "[425 rows x 3 columns]"
      ]
     },
     "execution_count": 19,
     "metadata": {},
     "output_type": "execute_result"
    }
   ],
   "source": [
    "import pandas as pb\n",
    "points = pb.DataFrame(mat['save_dat'][0]['data'][0][0][0][0])\n",
    "\n",
    "points = pb.DataFrame(mat['save_dat'][0]['data'][0][0][0][0]).iloc[:,[2, 0, 1]]\n",
    "points.columns = ['x', 'y', 'z']\n",
    "points"
   ]
  },
  {
   "cell_type": "code",
   "execution_count": 20,
   "metadata": {},
   "outputs": [
    {
     "data": {
      "text/plain": [
       "<Points layer 'Points' at 0x14b5b8160>"
      ]
     },
     "execution_count": 20,
     "metadata": {},
     "output_type": "execute_result"
    }
   ],
   "source": [
    "viewer.add_points(points)"
   ]
  },
  {
   "cell_type": "markdown",
   "metadata": {},
   "source": [
    "Let's plot a rhabdom"
   ]
  },
  {
   "cell_type": "code",
   "execution_count": 21,
   "metadata": {},
   "outputs": [
    {
     "data": {
      "text/plain": [
       "<Image layer 'cube_around_point' at 0x188ac2828>"
      ]
     },
     "execution_count": 21,
     "metadata": {},
     "output_type": "execute_result"
    }
   ],
   "source": [
    "import numpy as np\n",
    "\n",
    "buffer = 30\n",
    "\n",
    "# rhabdom\n",
    "point_row = 50\n",
    "\n",
    "x_min = round(points.iloc[point_row, 0] - buffer)\n",
    "x_max = round(points.iloc[point_row, 0] + buffer)\n",
    "y_min = round(points.iloc[point_row, 1] - buffer)\n",
    "y_max = round(points.iloc[point_row, 1] + buffer)\n",
    "z_min = round(points.iloc[point_row, 2] - buffer)\n",
    "z_max = round(points.iloc[point_row, 2] + buffer)\n",
    "cube_around_point = stack[x_min:x_max, y_min:y_max, z_min:z_max]\n",
    "\n",
    "# setup the viewer\n",
    "cube_viewer = napari.Viewer()\n",
    "cube_viewer.dims.ndisplay = 3 # toggle 3 dimensional view\n",
    "\n",
    "cube_viewer.add_image(cube_around_point, contrast_limits=(18000, 32800))"
   ]
  },
  {
   "cell_type": "markdown",
   "metadata": {},
   "source": [
    "Now lets plot a cornea"
   ]
  },
  {
   "cell_type": "code",
   "execution_count": 22,
   "metadata": {},
   "outputs": [
    {
     "data": {
      "text/plain": [
       "<Image layer 'cube_around_point' at 0x1e22cf630>"
      ]
     },
     "execution_count": 22,
     "metadata": {},
     "output_type": "execute_result"
    }
   ],
   "source": [
    "buffer = 30\n",
    "\n",
    "# cornea\n",
    "point_row = 200\n",
    "\n",
    "x_min = round(points.iloc[point_row, 0] - buffer)\n",
    "x_max = round(points.iloc[point_row, 0] + buffer)\n",
    "y_min = round(points.iloc[point_row, 1] - buffer)\n",
    "y_max = round(points.iloc[point_row, 1] + buffer)\n",
    "z_min = round(points.iloc[point_row, 2] - buffer)\n",
    "z_max = round(points.iloc[point_row, 2] + buffer)\n",
    "cube_around_point = stack[x_min:x_max, y_min:y_max, z_min:z_max]\n",
    "\n",
    "# setup the viewer\n",
    "cube_viewer = napari.Viewer()\n",
    "cube_viewer.dims.ndisplay = 3 # toggle 3 dimensional view\n",
    "\n",
    "cube_viewer.add_image(cube_around_point, contrast_limits=(18000, 32800))"
   ]
  },
  {
   "cell_type": "code",
   "execution_count": null,
   "metadata": {},
   "outputs": [],
   "source": []
  },
  {
   "cell_type": "code",
   "execution_count": null,
   "metadata": {},
   "outputs": [],
   "source": []
  }
 ],
 "metadata": {
  "kernelspec": {
   "display_name": "Python 3",
   "language": "python",
   "name": "python3"
  },
  "language_info": {
   "codemirror_mode": {
    "name": "ipython",
    "version": 3
   },
   "file_extension": ".py",
   "mimetype": "text/x-python",
   "name": "python",
   "nbconvert_exporter": "python",
   "pygments_lexer": "ipython3",
   "version": "3.6.8"
  }
 },
 "nbformat": 4,
 "nbformat_minor": 4
}
