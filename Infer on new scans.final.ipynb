{
 "cells": [
  {
   "cell_type": "markdown",
   "id": "0",
   "metadata": {},
   "source": [
    "# Cystisoma corneas"
   ]
  },
  {
   "cell_type": "markdown",
   "id": "1",
   "metadata": {},
   "source": [
    "## Inference"
   ]
  },
  {
   "cell_type": "markdown",
   "id": "2",
   "metadata": {},
   "source": [
    "First open your heatmap in napari. "
   ]
  },
  {
   "cell_type": "code",
   "execution_count": null,
   "id": "3",
   "metadata": {},
   "outputs": [],
   "source": [
    "# import modules\n",
    "import torchio as tio\n",
    "\n",
    "# load in the nifti file with torchio\n",
    "image_path = '/media/jake/Dropbox_mirror/Smithsonian Dropbox/Jan Hemmi/hyperiid scans/Scans_nifti/Paraphronima_crassipes_f536_u1701837_head/Paraphronima_crassipes_f536_u1701837_head.nii'\n",
    "\n",
    "image = tio.ScalarImage(image_path)\n",
    "\n"
   ]
  },
  {
   "cell_type": "code",
   "execution_count": null,
   "id": "4",
   "metadata": {},
   "outputs": [],
   "source": [
    "image"
   ]
  },
  {
   "cell_type": "code",
   "execution_count": null,
   "id": "5",
   "metadata": {},
   "outputs": [],
   "source": [
    "# view file with napari\n",
    "import napari\n",
    "\n",
    "\n",
    "viewer = napari.view_image(image.numpy(), name='image')\n"
   ]
  },
  {
   "cell_type": "markdown",
   "id": "6",
   "metadata": {},
   "source": [
    "In napari, label a few of the features (that are next to each other) to estimate the resample ratio, then save it as a csv file and load it in the next step\n"
   ]
  },
  {
   "cell_type": "code",
   "execution_count": null,
   "id": "7",
   "metadata": {},
   "outputs": [],
   "source": [
    "import pandas as pd\n",
    "# 2nd scan\n",
    "#RR = pd.read_csv('/home/jake/projects/dhr/FEG20190213_01_corneas_resample_ratio.csv')\n",
    "# 3rd scan\n",
    "# RR = pd.read_csv('/home/jake/projects/dhr/Cystisoma_sp_FEG221129_366_corneas_estimating_resample_ratio.csv')\n",
    "RR = pd.read_csv('resample_ratio_measurements/resample_ratio_measurement_Paraphronima_crassipes_f536_u1701837_head.csv')\n",
    "\n",
    "RR"
   ]
  },
  {
   "cell_type": "code",
   "execution_count": null,
   "id": "8",
   "metadata": {},
   "outputs": [],
   "source": [
    "from scipy.spatial import distance_matrix\n",
    "\n",
    "coordinates = RR[['axis-1', 'axis-2', 'axis-3']].values\n",
    "dist_matrix = distance_matrix(coordinates, coordinates) #Create a distance matrix\n"
   ]
  },
  {
   "cell_type": "code",
   "execution_count": null,
   "id": "9",
   "metadata": {},
   "outputs": [],
   "source": [
    "import numpy as np\n",
    "np.fill_diagonal(dist_matrix, np.inf)\n",
    "\n",
    "# Find the nearest neighbor distance for each point\n",
    "nearest_distances = np.min(dist_matrix, axis=1)\n",
    "\n",
    "# Add the nearest distances to the dataframe\n",
    "RR['nearest_distance'] = nearest_distances\n",
    "RR"
   ]
  },
  {
   "cell_type": "code",
   "execution_count": null,
   "id": "10",
   "metadata": {},
   "outputs": [],
   "source": [
    "mean_nearest_distance = RR['nearest_distance'].mean()\n",
    "mean_nearest_distance"
   ]
  },
  {
   "cell_type": "code",
   "execution_count": null,
   "id": "11",
   "metadata": {},
   "outputs": [],
   "source": [
    "resample_ratio = mean_nearest_distance/10 #Makes average distance between features 10 voxels\n",
    "resample_ratio"
   ]
  },
  {
   "cell_type": "markdown",
   "id": "12",
   "metadata": {},
   "source": [
    "## Inference"
   ]
  },
  {
   "cell_type": "code",
   "execution_count": null,
   "id": "13",
   "metadata": {},
   "outputs": [],
   "source": [
    "!python main.py infer -h #If you need help for parameters in infer"
   ]
  },
  {
   "cell_type": "markdown",
   "id": "14",
   "metadata": {},
   "source": [
    "Make inference first with 1 direction in the x, y, and z axis before creating inference in 3 directions. This will produce three files: two csv files (one for the resampled space, and the other not), and a nifty file with predictions.\n",
    "\n",
    "*Note: these files are currently saved to /home/jake/projects/dhr/output/"
   ]
  },
  {
   "cell_type": "code",
   "execution_count": null,
   "id": "15",
   "metadata": {},
   "outputs": [],
   "source": [
    "#Inference with 1 direction in x, y, and z\n",
    "# !python main.py infer configs/paraphronima_corneas.yaml -v '/media/jake/Dropbox_mirror/Smithsonian Dropbox/Jan Hemmi/hyperiid scans/Scans_nifti/Paraphronima_crassipes_f536_u1701837_head/Paraphronima_crassipes_f536_u1701837_head.nii' -m ./logs/paraphronima_corneas/lightning_logs/version_13/ -rr 3.1768202046528278 -nx 1 -ny 1 -nz 1\n",
    "\n",
    "# Inference in 3 directions with 0.25 threshold\n",
    "!python main.py infer configs/paraphronima_corneas.yaml -v '/media/jake/Dropbox_mirror/Smithsonian Dropbox/Jan Hemmi/hyperiid scans/Scans_nifti/Paraphronima_crassipes_f536_u1701837_head/Paraphronima_crassipes_f536_u1701837_head.nii' -m ./logs/paraphronima_corneas/lightning_logs/version_13/ -rr 3.1768202046528278 -nx 3 -ny 3 -nz 3 --average_threshold 0.25 -ipmv 0.25"
   ]
  },
  {
   "cell_type": "markdown",
   "id": "16",
   "metadata": {},
   "source": [
    "You can then try in more directions (3 direction in x, y, z is usually best) and modify parameters such as max filter (-mxf) (although this usually doesn't work well with Cystisoma), average threshold (-at), and peak minimum values (-ipmv)."
   ]
  },
  {
   "cell_type": "code",
   "execution_count": null,
   "id": "17",
   "metadata": {},
   "outputs": [],
   "source": [
    "#Attempts of inferences for 2nd scan (best model should be found on last commented line in this kernel)\n",
    "# !python main.py infer configs/cystisoma_corneas.yaml -v /media/jake/2tb_ssd/mctv_data/Cystisoma_Hawaii_FEG20190213_01_head/FEG20190213_010.nii -m ./logs/cystisoma_corneas/lightning_logs/version_13/ -rr 2.588516765563356 -nx 3 -ny 3 -nz 3 -ipmv 0.2 -at 1\n",
    "# !python main.py infer configs/cystisoma_corneas.yaml -v /media/jake/2tb_ssd/mctv_data/Cystisoma_Hawaii_FEG20190213_01_head/FEG20190213_010.nii -m ./logs/cystisoma_corneas/lightning_logs/version_13/ -rr 2.588516765563356 -nx 3 -ny 3 -nz 3 -ipmv 0.2 -at 1.5\n",
    "# !python main.py infer configs/cystisoma_corneas.yaml -v /media/jake/2tb_ssd/mctv_data/Cystisoma_Hawaii_FEG20190213_01_head/FEG20190213_010.nii -m ./logs/cystisoma_corneas/lightning_logs/version_13/ -rr 2.588516765563356 -nx 3 -ny 3 -nz 3 -ipmv 0.2 -at 2\n",
    "# !python main.py infer configs/cystisoma_corneas.yaml -v /media/jake/2tb_ssd/mctv_data/Cystisoma_Hawaii_FEG20190213_01_head/FEG20190213_010.nii -m ./logs/cystisoma_corneas/lightning_logs/version_13/ -rr 2.588516765563356 -nx 3 -ny 3 -nz 3 -ipmv 0.2 -at 0.5\n",
    "#!python main.py infer configs/cystisoma_corneas.yaml -v /media/jake/2tb_ssd/mctv_data/Cystisoma_Hawaii_FEG20190213_01_head/FEG20190213_010.nii -m ./logs/cystisoma_corneas/lightning_logs/version_13/ -rr 2.588516765563356 -nx 3 -ny 3 -nz 3 -ipmv 0.2 -at 0.5 --infer_with_max_filter_fun\n",
    "#!python main.py infer configs/cystisoma_corneas.yaml -v /media/jake/2tb_ssd/mctv_data/Cystisoma_Hawaii_FEG20190213_01_head/FEG20190213_010.nii -m ./logs/cystisoma_corneas/lightning_logs/version_13/ -rr 2.588516765563356 -nx 3 -ny 3 -nz 3 -ipmv 0.5 -at 0.5 \n",
    "#!python main.py infer configs/cystisoma_corneas.yaml -v /media/jake/2tb_ssd/mctv_data/Cystisoma_Hawaii_FEG20190213_01_head/FEG20190213_010.nii -m ./logs/cystisoma_corneas/lightning_logs/version_13/ -rr 2.588516765563356 -nx 3 -ny 3 -nz 3 -ipmv 0.4 -at 0.5 \n",
    "#!python main.py infer configs/cystisoma_corneas.yaml -v /media/jake/2tb_ssd/mctv_data/Cystisoma_Hawaii_FEG20190213_01_head/FEG20190213_010.nii -m ./logs/cystisoma_corneas/lightning_logs/version_13/ -rr 2.588516765563356 -nx 3 -ny 3 -nz 3 -ipmv 0.3 -at 0.5 \n",
    "#!python main.py infer configs/cystisoma_corneas.yaml -v /media/jake/2tb_ssd/mctv_data/Cystisoma_Hawaii_FEG20190213_01_head/FEG20190213_010.nii -m ./logs/cystisoma_corneas/lightning_logs/version_13/ -rr 2.588516765563356 -nx 3 -ny 3 -nz 3 -ipmv 0.5 -at 0.5 --infer_with_max_filter_fun\n",
    "#!python main.py infer configs/cystisoma_corneas.yaml -v /media/jake/2tb_ssd/mctv_data/Cystisoma_Hawaii_FEG20190213_01_head/FEG20190213_010.nii -m ./logs/cystisoma_corneas/lightning_logs/version_13/ -rr 2.588516765563356 -nx 3 -ny 3 -nz 3 -ipmv 0.4 -at 0.5 --infer_with_max_filter_fun\n",
    "#!python main.py infer configs/cystisoma_corneas.yaml -v /media/jake/2tb_ssd/mctv_data/Cystisoma_Hawaii_FEG20190213_01_head/FEG20190213_010.nii -m ./logs/cystisoma_corneas/lightning_logs/version_13/ -rr 2.588516765563356 -nx 3 -ny 3 -nz 3 -ipmv 0.3 -at 0.5 --infer_with_max_filter_fun\n",
    "#!python main.py infer configs/cystisoma_corneas.yaml -v /media/jake/2tb_ssd/mctv_data/Cystisoma_Hawaii_FEG20190213_01_head/FEG20190213_010.nii -m ./logs/cystisoma_corneas/lightning_logs/version_13/ -rr 2.588516765563356 -nx 3 -ny 3 -nz 3 -ipmv 0.5 -at 0.01 \n",
    "#!python main.py infer configs/cystisoma_corneas.yaml -v /media/jake/2tb_ssd/mctv_data/Cystisoma_Hawaii_FEG20190213_01_head/FEG20190213_010.nii -m ./logs/cystisoma_corneas/lightning_logs/version_13/ -rr 2.588516765563356 -nx 3 -ny 3 -nz 3 -ipmv 0.4 -at 0.02\n",
    "#!python main.py infer configs/cystisoma_corneas.yaml -v /media/jake/2tb_ssd/mctv_data/Cystisoma_Hawaii_FEG20190213_01_head/FEG20190213_010.nii -m ./logs/cystisoma_corneas/lightning_logs/version_13/ -rr 2.588516765563356 -nx 3 -ny 3 -nz 3 -ipmv 0.3 -at 0.03\n",
    "#!python main.py infer configs/cystisoma_corneas.yaml -v /media/jake/2tb_ssd/mctv_data/Cystisoma_Hawaii_FEG20190213_01_head/FEG20190213_010.nii -m ./logs/cystisoma_corneas/lightning_logs/version_13/ -rr 2.588516765563356 -nx 3 -ny 3 -nz 3 -ipmv 0.5 -at 0.04 \n",
    "#!python main.py infer configs/cystisoma_corneas.yaml -v /media/jake/2tb_ssd/mctv_data/Cystisoma_Hawaii_FEG20190213_01_head/FEG20190213_010.nii -m ./logs/cystisoma_corneas/lightning_logs/version_13/ -rr 2.588516765563356 -nx 3 -ny 3 -nz 3 -ipmv 0.4 -at 0.05\n",
    "#!python main.py infer configs/cystisoma_corneas.yaml -v /media/jake/2tb_ssd/mctv_data/Cystisoma_Hawaii_FEG20190213_01_head/FEG20190213_010.nii -m ./logs/cystisoma_corneas/lightning_logs/version_13/ -rr 2.588516765563356 -nx 3 -ny 3 -nz 3 -ipmv 0.3 -at 0.1\n",
    "#!python main.py infer configs/cystisoma_corneas.yaml -v /media/jake/2tb_ssd/mctv_data/Cystisoma_Hawaii_FEG20190213_01_head/FEG20190213_010.nii -m ./logs/cystisoma_corneas/lightning_logs/version_13/ -rr 2.588516765563356 -nx 3 -ny 3 -nz 3 -ipmv 0.5 -at 0.2 \n",
    "#!python main.py infer configs/cystisoma_corneas.yaml -v /media/jake/2tb_ssd/mctv_data/Cystisoma_Hawaii_FEG20190213_01_head/FEG20190213_010.nii -m ./logs/cystisoma_corneas/lightning_logs/version_13/ -rr 2.588516765563356 -nx 3 -ny 3 -nz 3 -ipmv 0.4 -at 0.3 \n",
    "#!python main.py infer configs/cystisoma_corneas.yaml -v /media/jake/2tb_ssd/mctv_data/Cystisoma_Hawaii_FEG20190213_01_head/FEG20190213_010.nii -m ./logs/cystisoma_corneas/lightning_logs/version_13/ -rr 2.588516765563356 -nx 3 -ny 3 -nz 3 -ipmv 0.3 -at 0.4\n",
    "#!python main.py infer configs/cystisoma_corneas.yaml -v /media/jake/2tb_ssd/mctv_data/Cystisoma_Hawaii_FEG20190213_01_head/FEG20190213_010.nii -m ./logs/cystisoma_corneas/lightning_logs/version_13/ -rr 2.588516765563356 -nx 3 -ny 3 -nz 3 -ipmv 0.3 -at 0.5 --infer_with_max_filter_fun\n",
    "#!python main.py infer configs/cystisoma_corneas.yaml -v /media/jake/2tb_ssd/mctv_data/Cystisoma_Hawaii_FEG20190213_01_head/FEG20190213_010.nii -m ./logs/cystisoma_corneas/lightning_logs/version_13/ -rr 2.588516765563356 -nx 3 -ny 3 -nz 3 -ipmv 0.2 -at 0.02 --infer_with_max_filter_fun\n",
    "#!python main.py infer configs/cystisoma_corneas.yaml -v /media/jake/2tb_ssd/mctv_data/Cystisoma_Hawaii_FEG20190213_01_head/FEG20190213_010.nii -m ./logs/cystisoma_corneas/lightning_logs/version_13/ -rr 2.588516765563356 -nx 3 -ny 3 -nz 3 -ipmv 0.15 -at 0.02 --infer_with_max_filter_fun\n",
    "# !python main.py infer configs/cystisoma_corneas.yaml -v /media/jake/2tb_ssd/mctv_data/Cystisoma_Hawaii_FEG20190213_01_head/FEG20190213_010.nii -m ./logs/cystisoma_corneas/lightning_logs/version_13/ -rr 2.588516765563356 -nx 3 -ny 3 -nz 3 -ipmv 0.1 -at 0.02 --infer_with_max_filter_fun\n",
    "# !python main.py infer configs/cystisoma_corneas.yaml -v /media/jake/2tb_ssd/mctv_data/Cystisoma_Hawaii_FEG20190213_01_head/FEG20190213_010.nii -m ./logs/cystisoma_corneas/lightning_logs/version_13/ -rr 2.588516765563356 -nx 3 -ny 3 -nz 3 -ipmv 0.2 -at 0.03 --infer_with_max_filter_fun\n",
    "# !python main.py infer configs/cystisoma_corneas.yaml -v /media/jake/2tb_ssd/mctv_data/Cystisoma_Hawaii_FEG20190213_01_head/FEG20190213_010.nii -m ./logs/cystisoma_corneas/lightning_logs/version_13/ -rr 2.588516765563356 -nx 3 -ny 3 -nz 3 -ipmv 0.15 -at 0.03 --infer_with_max_filter_fun\n",
    "# !python main.py infer configs/cystisoma_corneas.yaml -v /media/jake/2tb_ssd/mctv_data/Cystisoma_Hawaii_FEG20190213_01_head/FEG20190213_010.nii -m ./logs/cystisoma_corneas/lightning_logs/version_13/ -rr 2.588516765563356 -nx 3 -ny 3 -nz 3 -ipmv 0.1 -at 0.03 --infer_with_max_filter_fun\n",
    "# !python main.py infer configs/cystisoma_corneas.yaml -v /media/jake/2tb_ssd/mctv_data/Cystisoma_Hawaii_FEG20190213_01_head/FEG20190213_010.nii -m ./logs/cystisoma_corneas/lightning_logs/version_13/ -rr 2.588516765563356 -nx 3 -ny 3 -nz 3 -ipmv 0.2 -at 0.02 \n",
    "# !python main.py infer configs/cystisoma_corneas.yaml -v /media/jake/2tb_ssd/mctv_data/Cystisoma_Hawaii_FEG20190213_01_head/FEG20190213_010.nii -m ./logs/cystisoma_corneas/lightning_logs/version_13/ -rr 2.588516765563356 -nx 3 -ny 3 -nz 3 -ipmv 0.15 -at 0.02 \n",
    "# !python main.py infer configs/cystisoma_corneas.yaml -v /media/jake/2tb_ssd/mctv_data/Cystisoma_Hawaii_FEG20190213_01_head/FEG20190213_010.nii -m ./logs/cystisoma_corneas/lightning_logs/version_13/ -rr 2.588516765563356 -nx 3 -ny 3 -nz 3 -ipmv 0.1 -at 0.02 \n",
    "# !python main.py infer configs/cystisoma_corneas.yaml -v /media/jake/2tb_ssd/mctv_data/Cystisoma_Hawaii_FEG20190213_01_head/FEG20190213_010.nii -m ./logs/cystisoma_corneas/lightning_logs/version_13/ -rr 2.588516765563356 -nx 3 -ny 3 -nz 3 -ipmv 0.2 -at 0.03 \n",
    "# !python main.py infer configs/cystisoma_corneas.yaml -v /media/jake/2tb_ssd/mctv_data/Cystisoma_Hawaii_FEG20190213_01_head/FEG20190213_010.nii -m ./logs/cystisoma_corneas/lightning_logs/version_13/ -rr 2.588516765563356 -nx 3 -ny 3 -nz 3 -ipmv 0.15 -at 0.03 \n",
    "# !python main.py infer configs/cystisoma_corneas.yaml -v /media/jake/2tb_ssd/mctv_data/Cystisoma_Hawaii_FEG20190213_01_head/FEG20190213_010.nii -m ./logs/cystisoma_corneas/lightning_logs/version_13/ -rr 2.588516765563356 -nx 3 -ny 3 -nz 3 -ipmv 0.1 -at 0.03 \n",
    "# !python main.py infer configs/cystisoma_corneas.yaml -v /media/jake/2tb_ssd/mctv_data/Cystisoma_Hawaii_FEG20190213_01_head/FEG20190213_010.nii -m ./logs/cystisoma_corneas/lightning_logs/version_13/ -rr 2.588516765563356 -nx 3 -ny 3 -nz 3 -ipmv 0.2 -at 0.01 --infer_with_max_filter_fun\n",
    "# !python main.py infer configs/cystisoma_corneas.yaml -v /media/jake/2tb_ssd/mctv_data/Cystisoma_Hawaii_FEG20190213_01_head/FEG20190213_010.nii -m ./logs/cystisoma_corneas/lightning_logs/version_13/ -rr 2.588516765563356 -nx 3 -ny 3 -nz 3 -ipmv 0.15 -at 0.01 --infer_with_max_filter_fun\n",
    "# !python main.py infer configs/cystisoma_corneas.yaml -v /media/jake/2tb_ssd/mctv_data/Cystisoma_Hawaii_FEG20190213_01_head/FEG20190213_010.nii -m ./logs/cystisoma_corneas/lightning_logs/version_13/ -rr 2.588516765563356 -nx 3 -ny 3 -nz 3 -ipmv 0.1 -at 0.01 --infer_with_max_filter_fun\n",
    "# !python main.py infer configs/cystisoma_corneas.yaml -v /media/jake/2tb_ssd/mctv_data/Cystisoma_Hawaii_FEG20190213_01_head/FEG20190213_010.nii -m ./logs/cystisoma_corneas/lightning_logs/version_13/ -rr 2.588516765563356 -nx 3 -ny 3 -nz 3 -ipmv 0.2 -at 0.01 \n",
    "# !python main.py infer configs/cystisoma_corneas.yaml -v /media/jake/2tb_ssd/mctv_data/Cystisoma_Hawaii_FEG20190213_01_head/FEG20190213_010.nii -m ./logs/cystisoma_corneas/lightning_logs/version_13/ -rr 2.588516765563356 -nx 3 -ny 3 -nz 3 -ipmv 0.15 -at 0.01 \n",
    "# !python main.py infer configs/cystisoma_corneas.yaml -v /media/jake/2tb_ssd/mctv_data/Cystisoma_Hawaii_FEG20190213_01_head/FEG20190213_010.nii -m ./logs/cystisoma_corneas/lightning_logs/version_13/ -rr 2.588516765563356 -nx 3 -ny 3 -nz 3 -ipmv 0.1 -at 0.01\n",
    "# !python main.py infer configs/cystisoma_corneas.yaml -v /media/jake/2tb_ssd/mctv_data/Cystisoma_Hawaii_FEG20190213_01_head/FEG20190213_010.nii -m ./logs/cystisoma_corneas/lightning_logs/version_13/ -rr 2.588516765563356 -nx 3 -ny 3 -nz 3 -ipmv 0.5 -at 0.02 --infer_with_max_filter_fun\n",
    "# !python main.py infer configs/cystisoma_corneas.yaml -v /media/jake/2tb_ssd/mctv_data/Cystisoma_Hawaii_FEG20190213_01_head/FEG20190213_010.nii -m ./logs/cystisoma_corneas/lightning_logs/version_13/ -rr 2.588516765563356 -nx 3 -ny 3 -nz 3 -ipmv 0.4 -at 0.02 --infer_with_max_filter_fun\n",
    "# !python main.py infer configs/cystisoma_corneas.yaml -v /media/jake/2tb_ssd/mctv_data/Cystisoma_Hawaii_FEG20190213_01_head/FEG20190213_010.nii -m ./logs/cystisoma_corneas/lightning_logs/version_13/ -rr 2.588516765563356 -nx 3 -ny 3 -nz 3 -ipmv 0.3 -at 0.02 --infer_with_max_filter_fun\n",
    "# !python main.py infer configs/cystisoma_corneas.yaml -v /media/jake/2tb_ssd/mctv_data/Cystisoma_Hawaii_FEG20190213_01_head/FEG20190213_010.nii -m ./logs/cystisoma_corneas/lightning_logs/version_13/ -rr 2.588516765563356 -nx 3 -ny 3 -nz 3 -ipmv 0.5 -at 0.02 \n",
    "# !python main.py infer configs/cystisoma_corneas.yaml -v /media/jake/2tb_ssd/mctv_data/Cystisoma_Hawaii_FEG20190213_01_head/FEG20190213_010.nii -m ./logs/cystisoma_corneas/lightning_logs/version_13/ -rr 2.588516765563356 -nx 3 -ny 3 -nz 3 -ipmv 0.4 -at 0.02 \n",
    "# !python main.py infer configs/cystisoma_corneas.yaml -v /media/jake/2tb_ssd/mctv_data/Cystisoma_Hawaii_FEG20190213_01_head/FEG20190213_010.nii -m ./logs/cystisoma_corneas/lightning_logs/version_13/ -rr 2.588516765563356 -nx 3 -ny 3 -nz 3 -ipmv 0.3 -at 0.02\n",
    "# !python main.py infer configs/cystisoma_corneas.yaml -v /media/jake/2tb_ssd/mctv_data/Cystisoma_Hawaii_FEG20190213_01_head/FEG20190213_010.nii -m ./logs/cystisoma_corneas/lightning_logs/version_13/ -rr 2.588516765563356 -nx 3 -ny 3 -nz 3 -ipmv 0.5 -at 0.4 --infer_with_max_filter_fun\n",
    "# !python main.py infer configs/cystisoma_corneas.yaml -v /media/jake/2tb_ssd/mctv_data/Cystisoma_Hawaii_FEG20190213_01_head/FEG20190213_010.nii -m ./logs/cystisoma_corneas/lightning_logs/version_13/ -rr 2.588516765563356 -nx 3 -ny 3 -nz 3 -ipmv 0.5 -at 0.3 --infer_with_max_filter_fun\n",
    "# !python main.py infer configs/cystisoma_corneas.yaml -v /media/jake/2tb_ssd/mctv_data/Cystisoma_Hawaii_FEG20190213_01_head/FEG20190213_010.nii -m ./logs/cystisoma_corneas/lightning_logs/version_13/ -rr 2.588516765563356 -nx 3 -ny 3 -nz 3 -ipmv 0.5 -at 0.2 --infer_with_max_filter_fun\n",
    "# !python main.py infer configs/cystisoma_corneas.yaml -v /media/jake/2tb_ssd/mctv_data/Cystisoma_Hawaii_FEG20190213_01_head/FEG20190213_010.nii -m ./logs/cystisoma_corneas/lightning_logs/version_13/ -rr 2.588516765563356 -nx 3 -ny 3 -nz 3 -ipmv 0.5 -at 0.1 --infer_with_max_filter_fun\n",
    "# !python main.py infer configs/cystisoma_corneas.yaml -v /media/jake/2tb_ssd/mctv_data/Cystisoma_Hawaii_FEG20190213_01_head/FEG20190213_010.nii -m ./logs/cystisoma_corneas/lightning_logs/version_13/ -rr 2.588516765563356 -nx 3 -ny 3 -nz 3 -ipmv 0.5 -at 0.05 --infer_with_max_filter_fun\n",
    "\n",
    "\n",
    "#Best inference for 2nd scan\n",
    "#!python main.py infer configs/cystisoma_corneas.yaml -v /media/jake/2tb_ssd/mctv_data/Cystisoma_Hawaii_FEG20190213_01_head/FEG20190213_010.nii -m ./logs/cystisoma_corneas/lightning_logs/version_13/ -rr 2.588516765563356 -nx 3 -ny 3 -nz 3 -ipmv 0.5 -at 0.5 "
   ]
  },
  {
   "cell_type": "code",
   "execution_count": null,
   "id": "18",
   "metadata": {},
   "outputs": [],
   "source": [
    "#Scan 3 (not used)\n",
    "# !python main.py infer configs/cystisoma_corneas.yaml -v '/media/jake/2tb_ssd/mctv_data/Cystisoma_sp_FEG221129_366/FEG221129_366.nii' -m ./logs/cystisoma_corneas/lightning_logs/version_14/ -rr 2.3151474885249055 -nx 3 -ny 3 -nz 3 -ipmv 0.5 -at 0.5"
   ]
  },
  {
   "cell_type": "markdown",
   "id": "19",
   "metadata": {},
   "source": [
    "You can then view your inference in napari. It might be useful to you, especially if you are trying many inferences with modified parameters, to evalute the performance of each and track estimated % of correct and incorrect inference points in an Excel spreadsheet for example."
   ]
  },
  {
   "cell_type": "code",
   "execution_count": null,
   "id": "20",
   "metadata": {},
   "outputs": [],
   "source": [
    "import napari\n",
    "import numpy as np\n",
    "import torchio as tio\n",
    "\n",
    "\n",
    "image = tio.ScalarImage(image_path)\n",
    "\n",
    "heatmap_path = './output/Paraphronima_crassipes_f536_u1701837_head.logs_paraphronima_corneas_lightning_logs_version_13_checkpoints_last_x_3_y_3_z_3_average_threshold_0.25_prediction.nii'\n",
    "#Make sure to use resampled space csv here.\n",
    "y_hat_path = 'output/Paraphronima_crassipes_f536_u1701837_head.logs_paraphronima_corneas_lightning_logs_version_13_checkpoints_last_x_3_y_3_z_3_average_threshold_0.25_prediction_peak_min_val_0_25_method_center_of_mass.resampled_space_peaks.csv'\n",
    "\n",
    "heatmap = tio.ScalarImage(heatmap_path)\n",
    "\n",
    "\n",
    "viewer = napari.view_image(heatmap.numpy(), name='heatmap', contrast_limits=[0, 1])\n",
    "#viewer.add_image(image.numpy(), name='image')\n",
    "\n",
    "# load the coordinates to analyse\n",
    "def load_coordinates(path, flip_axes=False, mct_path=None):\n",
    "    locations = np.loadtxt(\n",
    "        path,\n",
    "        delimiter=',',\n",
    "        ndmin=2,\n",
    "        dtype=np.float64\n",
    "    )\n",
    "    if not flip_axes: \n",
    "        return locations.tolist()\n",
    "\n",
    "    if not mct_path:\n",
    "        raise Exception('You must specify `mct_path` if you need to flip_axes')\n",
    "\n",
    "    mct = tio.ScalarImage(mct_path)\n",
    "    locations[:,0] = mct.shape[1] - locations[:,0]\n",
    "    locations[:,1] = mct.shape[2] - locations[:,1]\n",
    "\n",
    "    return locations.tolist()\n",
    "\n",
    "\n",
    "y_hat = load_coordinates(y_hat_path)\n",
    "\n",
    "\n",
    "viewer.add_points(y_hat)\n"
   ]
  },
  {
   "cell_type": "markdown",
   "id": "21",
   "metadata": {},
   "source": [
    "## Modifying inference"
   ]
  },
  {
   "cell_type": "markdown",
   "id": "22",
   "metadata": {},
   "source": [
    "In software such as MatLab you can modify the inference made from your model by adding and deleting points. This will be useful in retraining your model later."
   ]
  },
  {
   "cell_type": "markdown",
   "id": "23",
   "metadata": {},
   "source": [
    "##  (Re)training "
   ]
  },
  {
   "cell_type": "code",
   "execution_count": null,
   "id": "24",
   "metadata": {},
   "outputs": [],
   "source": [
    "# We trained this model on a single scan, ran inference on it and then manually checked the labels. Now we are adding that labelled data to the dataset and retraining the model\n",
    "# python check_data.py configs/cystisoma_corneas.yaml\n",
    "# after updating the config to train for another 100,000 steps\n",
    "# and changing the sigma from 2.5 to 2 (to suit the new data)\n",
    "!python main.py train configs/cystisoma_corneas.yaml -w ./logs/cystisoma_corneas/lightning_logs/version_13/checkpoints/epoch=2809-step=699520.ckpt -ne 10"
   ]
  },
  {
   "cell_type": "markdown",
   "id": "25",
   "metadata": {},
   "source": [
    "# Cystisoma rhabdoms"
   ]
  },
  {
   "cell_type": "markdown",
   "id": "26",
   "metadata": {},
   "source": [
    "## Checking"
   ]
  },
  {
   "cell_type": "markdown",
   "id": "27",
   "metadata": {},
   "source": [
    "Check hyperparameters for heatmap. Modify these need be."
   ]
  },
  {
   "cell_type": "code",
   "execution_count": null,
   "id": "28",
   "metadata": {},
   "outputs": [],
   "source": [
    "!python check_data.py ./configs/cystisoma_rhabdoms.yaml"
   ]
  },
  {
   "cell_type": "code",
   "execution_count": null,
   "id": "29",
   "metadata": {},
   "outputs": [],
   "source": [
    "!python check_data.py -h"
   ]
  },
  {
   "cell_type": "markdown",
   "id": "30",
   "metadata": {},
   "source": [
    "## (Re)training"
   ]
  },
  {
   "cell_type": "markdown",
   "id": "31",
   "metadata": {},
   "source": [
    "After you finsihing checking the model you can train the model to rhabdoms and extend number of steps. "
   ]
  },
  {
   "cell_type": "code",
   "execution_count": null,
   "id": "32",
   "metadata": {},
   "outputs": [],
   "source": [
    "#If you want to see all arguments \n",
    "!python main.py train -h"
   ]
  },
  {
   "cell_type": "markdown",
   "id": "33",
   "metadata": {},
   "source": [
    "You can try training multiple models with different starting weights if necessary."
   ]
  },
  {
   "cell_type": "code",
   "execution_count": null,
   "id": "34",
   "metadata": {},
   "outputs": [],
   "source": [
    "# !python main.py train configs/cystisoma_rhabdoms.yaml -w /home/jake/projects/dhr/logs/paraphronima_rhabdoms/lightning_logs/version_23/checkpoints/epoch=99-step=537600-v1.ckpt -ne 10\n",
    "# !python main.py train configs/cystisoma_rhabdoms.yaml -w ./logs/paraphronima_rhabdoms_from_pretrained/lightning_logs/version_1/checkpoints/epoch=149-step=900000.ckpt #version_19\n",
    "# !python main.py train ./configs/cystisoma_rhabdoms.yaml -w ./logs/fiddlercrab_rhabdoms_from_pretrained/lightning_logs/version_1/checkpoints/epoch=123-step=865024.ckpt #version_20 (have not run)\n",
    "# !python main.py train ./configs/cystisoma_rhabdoms.yaml -w ./logs/cystisoma_rhabdoms/lightning_logs/version_13/checkpoints/epoch=62679-step=4971328.ckpt -ne 10 #version_21 (have not run)"
   ]
  },
  {
   "cell_type": "markdown",
   "id": "35",
   "metadata": {},
   "source": [
    "## Inference"
   ]
  },
  {
   "cell_type": "markdown",
   "id": "36",
   "metadata": {},
   "source": [
    "First open your heatmap in napari. Use the point selector to select some neighbouring rhabdoms and create a csv file of these selected points. You will use this to make your resampling ratio."
   ]
  },
  {
   "cell_type": "code",
   "execution_count": null,
   "id": "37",
   "metadata": {},
   "outputs": [],
   "source": [
    "# load in the nifti file with torchio\n",
    "# 2nd scan\n",
    "image_path = '/media/jake/2tb_ssd/mctv_data/Cystisoma_Hawaii_FEG20190213_01_head/FEG20190213_010.nii'\n",
    "\n",
    "image = tio.ScalarImage(image_path)\n"
   ]
  },
  {
   "cell_type": "code",
   "execution_count": null,
   "id": "38",
   "metadata": {},
   "outputs": [],
   "source": [
    "image"
   ]
  },
  {
   "cell_type": "code",
   "execution_count": null,
   "id": "39",
   "metadata": {},
   "outputs": [],
   "source": [
    "# view file with napari\n",
    "import napari\n",
    "\n",
    "\n",
    "viewer = napari.view_image(image.numpy(), name='image')\n"
   ]
  },
  {
   "cell_type": "markdown",
   "id": "40",
   "metadata": {},
   "source": [
    "In napari, label a few of the features (that are next to each other) to estimate the resample ratio, then save it as a csv file and load it in the next step\n"
   ]
  },
  {
   "cell_type": "code",
   "execution_count": null,
   "id": "41",
   "metadata": {},
   "outputs": [],
   "source": [
    "import pandas as pd\n",
    "\n",
    "#Read in your csv and assign it to the variable RR\n",
    "# 2nd scan\n",
    "RR = pd.read_csv('/home/jake/projects/dhr/Cystisoma_Hawaii_FEG20190213_rhabdoms_estimating_resampling_ratio.csv')\n",
    "\n",
    "RR"
   ]
  },
  {
   "cell_type": "code",
   "execution_count": null,
   "id": "42",
   "metadata": {},
   "outputs": [],
   "source": [
    "from scipy.spatial import distance_matrix\n",
    "\n",
    "coordinates = RR[['axis-1', 'axis-2', 'axis-3']].values\n",
    "dist_matrix = distance_matrix(coordinates, coordinates) #Create a distance matrix between points"
   ]
  },
  {
   "cell_type": "code",
   "execution_count": null,
   "id": "43",
   "metadata": {},
   "outputs": [],
   "source": [
    "import numpy as np\n",
    "np.fill_diagonal(dist_matrix, np.inf)\n",
    "\n",
    "# Find the nearest neighbor distance for each point\n",
    "nearest_distances = np.min(dist_matrix, axis=1)\n",
    "\n",
    "# Add the nearest distances to the dataframe\n",
    "RR['nearest_distance'] = nearest_distances\n",
    "RR"
   ]
  },
  {
   "cell_type": "code",
   "execution_count": null,
   "id": "44",
   "metadata": {},
   "outputs": [],
   "source": [
    "mean_nearest_distance = RR['nearest_distance'].mean()\n",
    "mean_nearest_distance\n",
    "resample_ratio = mean_nearest_distance/10\n",
    "resample_ratio #Print your RR; use this to make your inference "
   ]
  },
  {
   "cell_type": "markdown",
   "id": "45",
   "metadata": {},
   "source": [
    "Now you can make your inference. Make sure you have the correct yaml, scan and model path, and have inserted your new resampling ratio. This will produce 3 files: 2 csv files (one resampled and the other not) with the predicted points, and a nifty file with your heatmap."
   ]
  },
  {
   "cell_type": "code",
   "execution_count": null,
   "id": "46",
   "metadata": {},
   "outputs": [],
   "source": [
    "# Me trying different inferences on version_17 \n",
    "# Note:(-w for version_17 was cystisoma rhabdoms version_13 and starting sigma was only 2)\n",
    "# !python main.py infer configs/cystisoma_rhabdoms.yaml -v '/media/jake/2tb_ssd/mctv_data/Cystisoma_Hawaii_FEG20190213_01_head/FEG20190213_010.nii' -m ./logs/cystisoma_rhabdoms/lightning_logs/version_17/ -rr 2.152958176307709 -nx 1 -ny 1 -nz 1 -ipmv 0.2 -at 0.2\n",
    "# !python main.py infer configs/cystisoma_rhabdoms.yaml -v '/media/jake/2tb_ssd/mctv_data/Cystisoma_Hawaii_FEG20190213_01_head/FEG20190213_010.nii' -m ./logs/cystisoma_rhabdoms/lightning_logs/version_17/ -rr 2.152958176307709 -nx 1 -ny 1 -nz 1 -ipmv 0.3 -at 0.3\n",
    "# !python main.py infer configs/cystisoma_rhabdoms.yaml -v '/media/jake/2tb_ssd/mctv_data/Cystisoma_Hawaii_FEG20190213_01_head/FEG20190213_010.nii' -m ./logs/cystisoma_rhabdoms/lightning_logs/version_17/ -rr 2.152958176307709 -nx 1 -ny 1 -nz 1 -ipmv 0.4 -at 0.4\n",
    "!python main.py infer configs/cystisoma_rhabdoms.yaml -v '/media/jake/2tb_ssd/mctv_data/Cystisoma_Hawaii_FEG20190213_01_head/FEG20190213_010.nii' -m ./logs/cystisoma_rhabdoms/lightning_logs/version_17/ -rr 2.152958176307709 -nx 3 -ny 3 -nz 3 -ipmv 0.2 -at 0.2"
   ]
  },
  {
   "cell_type": "code",
   "execution_count": null,
   "id": "47",
   "metadata": {},
   "outputs": [],
   "source": []
  },
  {
   "cell_type": "code",
   "execution_count": null,
   "id": "48",
   "metadata": {},
   "outputs": [],
   "source": [
    "# Me trying different inferences for version_19 \n",
    "# (Note:-w for version_19 was paraphronima_rhabdoms_from_pretrainied version_1 and starting sigma was changed to 4)\n",
    "# !python main.py infer configs/cystisoma_rhabdoms.yaml -v '/media/jake/2tb_ssd/mctv_data/Cystisoma_Hawaii_FEG20190213_01_head/FEG20190213_010.nii' -m ./logs/cystisoma_rhabdoms/lightning_logs/version_19/ -rr 2.152958176307709 -nx 1 -ny 1 -nz 1 -ipmv 0.5 -at 0.5\n",
    "# !python main.py infer configs/cystisoma_rhabdoms.yaml -v '/media/jake/2tb_ssd/mctv_data/Cystisoma_Hawaii_FEG20190213_01_head/FEG20190213_010.nii' -m ./logs/cystisoma_rhabdoms/lightning_logs/version_19/ -rr 2.152958176307709 -nx 1 -ny 1 -nz 1 -ipmv 0.2 -at 0.2\n",
    "# !python main.py infer configs/cystisoma_rhabdoms.yaml -v '/media/jake/2tb_ssd/mctv_data/Cystisoma_Hawaii_FEG20190213_01_head/FEG20190213_010.nii' -m ./logs/cystisoma_rhabdoms/lightning_logs/version_19/ -rr 2.152958176307709 -nx 1 -ny 1 -nz 1 -ipmv 0.3 -at 0.3\n",
    "# !python main.py infer configs/cystisoma_rhabdoms.yaml -v '/media/jake/2tb_ssd/mctv_data/Cystisoma_Hawaii_FEG20190213_01_head/FEG20190213_010.nii' -m ./logs/cystisoma_rhabdoms/lightning_logs/version_19/ -rr 2.152958176307709 -nx 2 -ny 2 -nz 2 -ipmv 0.5 -at 0.5\n",
    "# !python main.py infer configs/cystisoma_rhabdoms.yaml -v '/media/jake/2tb_ssd/mctv_data/Cystisoma_Hawaii_FEG20190213_01_head/FEG20190213_010.nii' -m ./logs/cystisoma_rhabdoms/lightning_logs/version_19/ -rr 2.152958176307709 -nx 3 -ny 3 -nz 3 -ipmv 0.3 -at 0.4\n",
    "# !python main.py infer configs/cystisoma_rhabdoms.yaml -v '/media/jake/2tb_ssd/mctv_data/Cystisoma_Hawaii_FEG20190213_01_head/FEG20190213_010.nii' -m ./logs/cystisoma_rhabdoms/lightning_logs/version_19/ -rr 2.152958176307709 -nx 3 -ny 3 -nz 3 -ipmv 0.1 -at 0.4\n",
    "# !python main.py infer configs/cystisoma_rhabdoms.yaml -v '/media/jake/2tb_ssd/mctv_data/Cystisoma_Hawaii_FEG20190213_01_head/FEG20190213_010.nii' -m ./logs/cystisoma_rhabdoms/lightning_logs/version_19/ -rr 2.152958176307709 -nx 3 -ny 3 -nz 3 -ipmv 0.2 -at 0.4\n",
    "# !python main.py infer configs/cystisoma_rhabdoms.yaml -v '/media/jake/2tb_ssd/mctv_data/Cystisoma_Hawaii_FEG20190213_01_head/FEG20190213_010.nii' -m ./logs/cystisoma_rhabdoms/lightning_logs/version_19/ -rr 2.152958176307709 -nx 3 -ny 3 -nz 3 -ipmv 0.45 -at 0.4\n",
    "\n",
    "# !python main.py infer configs/cystisoma_rhabdoms.yaml -v '/media/jake/2tb_ssd/mctv_data/Cystisoma_Hawaii_FEG20190213_01_head/FEG20190213_010.nii' -m ./logs/cystisoma_rhabdoms/lightning_logs/version_19/ -rr 2.152958176307709 -nx 3 -ny 3 -nz 3 -ipmv 0.4 -at 0.5\n",
    "# !python main.py infer configs/cystisoma_rhabdoms.yaml -v '/media/jake/2tb_ssd/mctv_data/Cystisoma_Hawaii_FEG20190213_01_head/FEG20190213_010.nii' -m ./logs/cystisoma_rhabdoms/lightning_logs/version_19/ -rr 2.152958176307709 -nx 3 -ny 3 -nz 3 -ipmv 0.3 -at 0.5\n",
    "# !python main.py infer configs/cystisoma_rhabdoms.yaml -v '/media/jake/2tb_ssd/mctv_data/Cystisoma_Hawaii_FEG20190213_01_head/FEG20190213_010.nii' -m ./logs/cystisoma_rhabdoms/lightning_logs/version_19/ -rr 2.152958176307709 -nx 3 -ny 3 -nz 3 -ipmv 0.2 -at 0.5\n",
    "# !python main.py infer configs/cystisoma_rhabdoms.yaml -v '/media/jake/2tb_ssd/mctv_data/Cystisoma_Hawaii_FEG20190213_01_head/FEG20190213_010.nii' -m ./logs/cystisoma_rhabdoms/lightning_logs/version_19/ -rr 2.152958176307709 -nx 3 -ny 3 -nz 3 -ipmv 0.1 -at 0.5\n",
    "# !python main.py infer configs/cystisoma_rhabdoms.yaml -v '/media/jake/2tb_ssd/mctv_data/Cystisoma_Hawaii_FEG20190213_01_head/FEG20190213_010.nii' -m ./logs/cystisoma_rhabdoms/lightning_logs/version_19/ -rr 2.152958176307709 -nx 3 -ny 3 -nz 3 -ipmv 0.5 -at 0.5\n",
    "# !python main.py infer configs/cystisoma_rhabdoms.yaml -v '/media/jake/2tb_ssd/mctv_data/Cystisoma_Hawaii_FEG20190213_01_head/FEG20190213_010.nii' -m ./logs/cystisoma_rhabdoms/lightning_logs/version_19/ -rr 2.152958176307709 -nx 3 -ny 3 -nz 3 -ipmv 0.4 -at 0.3\n",
    "# !python main.py infer configs/cystisoma_rhabdoms.yaml -v '/media/jake/2tb_ssd/mctv_data/Cystisoma_Hawaii_FEG20190213_01_head/FEG20190213_010.nii' -m ./logs/cystisoma_rhabdoms/lightning_logs/version_19/ -rr 2.152958176307709 -nx 3 -ny 3 -nz 3 -ipmv 0.4 -at 0.2\n",
    "# !python main.py infer configs/cystisoma_rhabdoms.yaml -v '/media/jake/2tb_ssd/mctv_data/Cystisoma_Hawaii_FEG20190213_01_head/FEG20190213_010.nii' -m ./logs/cystisoma_rhabdoms/lightning_logs/version_19/ -rr 2.152958176307709 -nx 3 -ny 3 -nz 3 -ipmv 0.4 -at 0.1\n",
    "# !python main.py infer configs/cystisoma_rhabdoms.yaml -v '/media/jake/2tb_ssd/mctv_data/Cystisoma_Hawaii_FEG20190213_01_head/FEG20190213_010.nii' -m ./logs/cystisoma_rhabdoms/lightning_logs/version_19/ -rr 2.152958176307709 -nx 3 -ny 3 -nz 3 -ipmv 0.5 -at 0.15\n",
    "# !python main.py infer configs/cystisoma_rhabdoms.yaml -v '/media/jake/2tb_ssd/mctv_data/Cystisoma_Hawaii_FEG20190213_01_head/FEG20190213_010.nii' -m ./logs/cystisoma_rhabdoms/lightning_logs/version_19/ -rr 2.152958176307709 -nx 3 -ny 3 -nz 3 -ipmv 0.5 -at 0.25\n",
    "# !python main.py infer configs/cystisoma_rhabdoms.yaml -v '/media/jake/2tb_ssd/mctv_data/Cystisoma_Hawaii_FEG20190213_01_head/FEG20190213_010.nii' -m ./logs/cystisoma_rhabdoms/lightning_logs/version_19/ -rr 2.152958176307709 -nx 3 -ny 3 -nz 3 -ipmv 0.5 -at 0.35\n",
    "# !python main.py infer configs/cystisoma_rhabdoms.yaml -v '/media/jake/2tb_ssd/mctv_data/Cystisoma_Hawaii_FEG20190213_01_head/FEG20190213_010.nii' -m ./logs/cystisoma_rhabdoms/lightning_logs/version_19/ -rr 2.152958176307709 -nx 3 -ny 3 -nz 3 -ipmv 0.5 -at 0.45\n",
    "\n",
    "# !python main.py infer configs/cystisoma_rhabdoms.yaml -v '/media/jake/2tb_ssd/mctv_data/Cystisoma_Hawaii_FEG20190213_01_head/FEG20190213_010.nii' -m ./logs/cystisoma_rhabdoms/lightning_logs/version_19/ -rr 2.152958176307709 -nx 3 -ny 3 -nz 3 -ipmv 0.45 -at 0.5\n",
    "\n",
    "\n",
    "\n"
   ]
  },
  {
   "cell_type": "markdown",
   "id": "49",
   "metadata": {},
   "source": [
    "You can then view your inference in napari."
   ]
  },
  {
   "cell_type": "code",
   "execution_count": null,
   "id": "50",
   "metadata": {},
   "outputs": [],
   "source": [
    "import napari\n",
    "import numpy as np\n",
    "import torchio as tio\n",
    "\n",
    "\n",
    "image_path = '/media/jake/2tb_ssd/mctv_data/Cystisoma_Hawaii_FEG20190213_01_head/FEG20190213_010.nii'\n",
    "image = tio.ScalarImage(image_path)\n",
    "\n",
    "# heatmap_path = '/media/jake/Removable backup/Jake/projects/dhr/output/FEG20190213_010.logs_cystisoma_rhabdoms_lightning_logs_version_17_checkpoints_last_x_3_y_3_z_3_average_threshold_0.5_prediction.nii'\n",
    "heatmap_path = '/home/jake/projects/dhr/output/FEG20190213_010.logs_cystisoma_rhabdoms_lightning_logs_version_19_checkpoints_last_x_3_y_3_z_3_average_threshold_0.5_prediction.nii'\n",
    "\n",
    "#Make sure to use resampled space csv here.\n",
    "# y_hat_path = '/media/jake/Removable backup/Jake/projects/dhr/output/FEG20190213_010.logs_cystisoma_rhabdoms_lightning_logs_version_17_checkpoints_last_x_3_y_3_z_3_average_threshold_0.5_prediction_peak_min_val_0_5_method_center_of_mass.resampled_space_peaks.csv'\n",
    "y_hat_path = '/home/jake/projects/dhr/output/FEG20190213_010.logs_cystisoma_rhabdoms_lightning_logs_version_19_checkpoints_last_x_3_y_3_z_3_average_threshold_0.5_prediction_peak_min_val_0_45_method_center_of_mass.resampled_space_peaks.csv'\n",
    "\n",
    "heatmap = tio.ScalarImage(heatmap_path)\n",
    "\n",
    "\n",
    "viewer = napari.view_image(heatmap.numpy(), name='heatmap', contrast_limits=[0, 1])\n",
    "# viewer.add _image(image.numpy(), name='image') #If you want to view your scan also (not necessary)\n",
    "\n",
    "# load the coordinates to analyse\n",
    "def load_coordinates(path, flip_axes=False, mct_path=None):\n",
    "    locations = np.loadtxt(\n",
    "        path,\n",
    "        delimiter=',',\n",
    "        ndmin=2,\n",
    "        dtype=np.float64\n",
    "    )\n",
    "    if not flip_axes: \n",
    "        return locations.tolist()\n",
    "\n",
    "    if not mct_path:\n",
    "        raise Exception('You must specify `mct_path` if you need to flip_axes')\n",
    "\n",
    "    mct = tio.ScalarImage(mct_path)\n",
    "    locations[:,0] = mct.shape[1] - locations[:,0]\n",
    "    locations[:,1] = mct.shape[2] - locations[:,1]\n",
    "\n",
    "    return locations.tolist()\n",
    "\n",
    "\n",
    "y_hat = load_coordinates(y_hat_path)\n",
    "\n",
    "\n",
    "viewer.add_points(y_hat)"
   ]
  },
  {
   "cell_type": "markdown",
   "id": "51",
   "metadata": {},
   "source": [
    "# Primno corneas"
   ]
  },
  {
   "cell_type": "markdown",
   "id": "52",
   "metadata": {},
   "source": [
    "## Generate dataset"
   ]
  },
  {
   "cell_type": "markdown",
   "id": "53",
   "metadata": {},
   "source": [
    "Convert your mat file into a csv file for corneas labels for each already labelled scan (save to raw_labels folder:'/home/jake/projects/dhr/dataset/raw_labels'). Create a csv called primno_corneas.csv (for structure of this csv see dhr: https://github.com/jakemanger/dhr)(save to data_source_specifiers folder: '/home/jake/projects/dhr/data_source_specifiers'). Insert the raw labels paths and image paths into this csv. "
   ]
  },
  {
   "cell_type": "code",
   "execution_count": null,
   "id": "54",
   "metadata": {},
   "outputs": [],
   "source": [
    "!python mctv_to_csv.py -h\n",
    "\n",
    "# This method is not appropriate for Primno (currently) and does not include all 4 eyes, see steps below to convert mat to csv\n",
    "# !python mctv_to_csv.py '/home/jake/projects/dhr/data_source_specifiers/primno_corneas.csv'"
   ]
  },
  {
   "cell_type": "markdown",
   "id": "55",
   "metadata": {},
   "source": [
    "Use the next few blocks to explore your mat file. You should only need this once."
   ]
  },
  {
   "cell_type": "code",
   "execution_count": null,
   "id": "56",
   "metadata": {},
   "outputs": [],
   "source": [
    "# Use this block of code to examine dictionary keys in your mat file\n",
    "import h5py\n",
    "\n",
    "file_path = '/media/jake/Removable backup/Jake/projects/mctv_resfiles/hyperiids/Primno_abyssalis_FEG221018_356/Primno_abyssalis_356_eye.mat'\n",
    "mat = h5py.File(file_path, 'r')\n",
    "\n",
    "# List all top-level keys (variable names)\n",
    "print(\"Keys (variable names) in the .mat file:\")\n",
    "keys = list(mat.keys())\n",
    "print(keys)\n",
    "\n",
    "# Use this block of code to view contents in save_dat\n",
    "if isinstance(mat['save_dat'], h5py.Group):\n",
    "    print(\"\\n'save_dat' is a group. Listing its contents:\")\n",
    "    save_dat_group = mat['save_dat']\n",
    "    group_keys = list(save_dat_group.keys())\n",
    "    print(group_keys)\n",
    "\n",
    "    for key in group_keys:\n",
    "        item = save_dat_group[key]\n",
    "        if isinstance(item, h5py.Dataset):\n",
    "            # If it's a dataset, print its details\n",
    "            print(f\"\\n'{key}' is a dataset.\")\n",
    "            print(f\"Data type of {key}: {item.dtype}\")\n",
    "            print(f\"Shape of {key}: {item.shape}\")\n",
    "\n",
    "            # Convert the dataset to a NumPy array if needed\n",
    "            data_array = item[:]\n",
    "            print(f\"Data from {key}:\\n\", data_array)\n",
    "        elif isinstance(item, h5py.Group):\n",
    "            # If it's a group, print that it's a group\n",
    "            print(f\"\\n'{key}' is a group.\")\n",
    "        else:\n",
    "            print(f\"'{key}' is of unknown type.\")\n",
    "\n"
   ]
  },
  {
   "cell_type": "code",
   "execution_count": null,
   "id": "57",
   "metadata": {},
   "outputs": [],
   "source": [
    "with h5py.File('/media/jake/Removable backup/Jake/projects/mctv_resfiles/hyperiids/Primno_abyssalis_FEG221018_356/Primno_abyssalis_356_eye.mat', 'r') as mat:\n",
    "    save_dat_group = mat['save_dat']\n",
    "    \n",
    "    def explore_group(group):\n",
    "        for name, item in group.items():\n",
    "            if isinstance(item, h5py.Group):\n",
    "                print(f\"Group: {name}\")\n",
    "                explore_group(item) \n",
    "            elif isinstance(item, h5py.Dataset):\n",
    "                print(f\"Dataset: {name}, Shape: {item.shape}, Data Type: {item.dtype}\")\n",
    "\n",
    "    # Start exploring from save_dat_group\n",
    "    explore_group(save_dat_group)\n",
    "\n"
   ]
  },
  {
   "cell_type": "code",
   "execution_count": null,
   "id": "58",
   "metadata": {},
   "outputs": [],
   "source": [
    "# Use this block of code to explore the structure of groups (i.e. in this case you want to use this code to find the names of group to be used in the next block)\n",
    "with h5py.File('/media/jake/Removable backup/Jake/projects/mctv_resfiles/hyperiids/Primno_abyssalis_FEG221018_356/Primno_abyssalis_356_eye.mat', 'r') as file:\n",
    "    def print_structure(name, obj):\n",
    "        print(f\"{name}: {obj}\")\n",
    "    \n",
    "    file.visititems(print_structure) "
   ]
  },
  {
   "cell_type": "code",
   "execution_count": null,
   "id": "59",
   "metadata": {},
   "outputs": [],
   "source": [
    "import pandas as pd\n",
    "\n",
    "with h5py.File('/media/jake/Removable backup/Jake/projects/mctv_resfiles/hyperiids/Primno_abyssalis_FEG221018_356/Primno_abyssalis_356_eye.mat', 'r') as file:\n",
    "    # Access the marked dataset using the correct path\n",
    "    marked_data = file['save_dat/data/marked'][:, :1642] \n",
    "\n",
    "marked_df = pd.DataFrame(marked_data)\n",
    "\n",
    "print(marked_df)\n"
   ]
  },
  {
   "cell_type": "code",
   "execution_count": null,
   "id": "60",
   "metadata": {},
   "outputs": [],
   "source": [
    "# Use this block to investigate a specifc row\n",
    "with h5py.File('/media/jake/Removable backup/Jake/projects/mctv_resfiles/hyperiids/Primno_abyssalis_FEG221018_356/Primno_abyssalis_356_eye.mat', 'r') as file:\n",
    "    marked_data = file['save_dat/data/marked'][:]  \n",
    "\n",
    "\n",
    "marked_df = pd.DataFrame(marked_data)\n",
    "\n",
    "values = marked_df.iloc[5] # row 5 here contains indexes for corneas and rhabdoms/eye\n",
    "print(values)\n"
   ]
  },
  {
   "cell_type": "markdown",
   "id": "61",
   "metadata": {},
   "source": [
    "The next blocks of code actually convert your mat file into a csv. Make sure you include your mat path, the path you want to save your csv to (here 'raw_labels'), and include the correct index values (i.e. for corneas or rhabdoms). "
   ]
  },
  {
   "cell_type": "code",
   "execution_count": null,
   "id": "62",
   "metadata": {},
   "outputs": [],
   "source": [
    "# To convert mat for Primno_abyssalis_FEG221018_357 into corneas raw labels csv\n",
    "import h5py\n",
    "import pandas as pd\n",
    "import os\n",
    "\n",
    "with h5py.File('/media/jake/Removable backup/Jake/projects/mctv_resfiles/hyperiids/Primno_abyssalis_FEG221018_357/Primno_abyssalis_357.mat', 'r') as file:\n",
    "    marked_data = file['save_dat/data/marked'][:]  \n",
    "\n",
    "marked_df = pd.DataFrame(marked_data)\n",
    "\n",
    "\n",
    "columns_to_keep = marked_df.iloc[5].isin([0, 2, 4, 6]) # correct indices for corneas\n",
    "column_indices = marked_df.columns[columns_to_keep]\n",
    "filtered_df = marked_df.iloc[:3, column_indices]\n",
    "transposed_df = filtered_df.transpose()\n",
    "\n",
    "# Specify directory path\n",
    "save_directory = '/home/jake/projects/dhr/dataset/raw_labels'  \n",
    "csv_name = 'Primno_abyssalis_FEG221018_357_labels_corneas.csv' # name csv \n",
    "\n",
    "\n",
    "csv_path = os.path.join(save_directory, csv_name)\n",
    "\n",
    "\n",
    "os.makedirs(save_directory, exist_ok=True)\n",
    "\n",
    "\n",
    "transposed_df.to_csv(csv_path, header=False, index=False)\n"
   ]
  },
  {
   "cell_type": "code",
   "execution_count": null,
   "id": "63",
   "metadata": {},
   "outputs": [],
   "source": [
    "# To convert mat for Primno_abyssalis_FEG221018_356 into corneas raw labels csv\n",
    "import h5py\n",
    "import pandas as pd\n",
    "import os\n",
    "\n",
    "with h5py.File('/media/jake/Removable backup/Jake/projects/mctv_resfiles/hyperiids/Primno_abyssalis_FEG221018_356/Primno_abyssalis_356_eye.mat', 'r') as file:\n",
    "    marked_data = file['save_dat/data/marked'][:]  # Load the entire marked dataset\n",
    "\n",
    "marked_df = pd.DataFrame(marked_data)\n",
    "\n",
    "\n",
    "columns_to_keep = marked_df.iloc[5].isin([0, 2, 4, 6]) # correct indices for corneas\n",
    "column_indices = marked_df.columns[columns_to_keep]\n",
    "filtered_df = marked_df.iloc[:3, column_indices]\n",
    "transposed_df = filtered_df.transpose()\n",
    "\n",
    "# Specify the directory where you want to save the CSV\n",
    "save_directory = '/home/jake/projects/dhr/dataset/raw_labels'  \n",
    "csv_name = 'Primno_abyssalis_FEG221018_356_labels_corneas.csv'\n",
    "\n",
    "csv_path = os.path.join(save_directory, csv_name)\n",
    "\n",
    "os.makedirs(save_directory, exist_ok=True)\n",
    "\n",
    "transposed_df.to_csv(csv_path, header=False, index=False)\n"
   ]
  },
  {
   "cell_type": "markdown",
   "id": "64",
   "metadata": {},
   "source": [
    "The next block of code generate your dataset "
   ]
  },
  {
   "cell_type": "code",
   "execution_count": null,
   "id": "65",
   "metadata": {},
   "outputs": [],
   "source": [
    "# !python generate_dataset.py -h #(dont forget you have generated the corneas datset using rhabdoms csv paths in the corneas data source specifiers csv)\n",
    "!python generate_dataset.py ./data_source_specifiers/primno_corneas.csv -l corneas -v 10 -cl corneas -cb 16"
   ]
  },
  {
   "cell_type": "markdown",
   "id": "66",
   "metadata": {},
   "source": [
    "## Checking"
   ]
  },
  {
   "cell_type": "code",
   "execution_count": null,
   "id": "67",
   "metadata": {},
   "outputs": [],
   "source": [
    "!python check_data.py ./configs/primno_corneas.yaml"
   ]
  },
  {
   "cell_type": "markdown",
   "id": "68",
   "metadata": {},
   "source": [
    "## Training"
   ]
  },
  {
   "cell_type": "code",
   "execution_count": null,
   "id": "69",
   "metadata": {},
   "outputs": [],
   "source": [
    "'''version 1'''\n",
    "# !python main.py train configs/primno_corneas.yaml -w ./logs/cystisoma_corneas/lightning_logs/version_13/checkpoints/epoch=2758-step=696256.ckpt -ne 10\n",
    "'''version 3'''\n",
    "!python main.py train configs/primno_corneas.yaml -w ./logs/cystisoma_corneas/lightning_logs/version_14/checkpoints/epoch=3589-step=799360-v1.ckpt -ne 10\n"
   ]
  },
  {
   "cell_type": "markdown",
   "id": "70",
   "metadata": {},
   "source": [
    "## Inference"
   ]
  },
  {
   "cell_type": "code",
   "execution_count": null,
   "id": "71",
   "metadata": {},
   "outputs": [],
   "source": [
    "import pandas as pd\n",
    "\n",
    "#Read in your csv and assign it to the variable RR\n",
    "# 2nd scan\n",
    "RR = pd.read_csv('/home/jake/projects/dhr/Primno_abyssalis_FEG221101_359_corneas_estimating_resampling_ratio.csv')\n",
    "\n",
    "RR"
   ]
  },
  {
   "cell_type": "code",
   "execution_count": null,
   "id": "72",
   "metadata": {},
   "outputs": [],
   "source": [
    "from scipy.spatial import distance_matrix\n",
    "\n",
    "coordinates = RR[['axis-0', 'axis-1', 'axis-2']].values\n",
    "dist_matrix = distance_matrix(coordinates, coordinates) #Create a distance matrix between points\n",
    "import numpy as np\n",
    "np.fill_diagonal(dist_matrix, np.inf)\n",
    "\n",
    "# Find the nearest neighbor distance for each point\n",
    "nearest_distances = np.min(dist_matrix, axis=1)\n",
    "\n",
    "# Add the nearest distances to the dataframe\n",
    "RR['nearest_distance'] = nearest_distances\n",
    "RR\n",
    "mean_nearest_distance = RR['nearest_distance'].mean()\n",
    "mean_nearest_distance\n",
    "resample_ratio = mean_nearest_distance/10\n",
    "resample_ratio #Print your RR; use this to make your inference "
   ]
  },
  {
   "cell_type": "code",
   "execution_count": null,
   "id": "73",
   "metadata": {},
   "outputs": [],
   "source": [
    "# Inferences with version 1 (bad, model not used)\n",
    "# !python main.py infer configs/primno_corneas.yaml -v '/media/jake/Removable backup/Dropbox/Full body hyperiid scans/Head Scans_nifti/Primno_abyssalis_f359_u0000000/Primno_abyssalis_FEG221101_359.nii' -m ./logs/primno_corneas/lightning_logs/version_1/ -rr 3.290426824776052 -nx 1 -ny 1 -nz 1 -ipmv 0.5 -at 0.5\n",
    "# !python main.py infer configs/primno_corneas.yaml -v '/media/jake/Removable backup/Dropbox/Full body hyperiid scans/Head Scans_nifti/Primno_abyssalis_f359_u0000000/Primno_abyssalis_FEG221101_359.nii' -m ./logs/primno_corneas/lightning_logs/version_1/ -rr 3.290426824776052 -nx 1 -ny 1 -nz 1 -ipmv 0.5 -at 0.1\n"
   ]
  },
  {
   "cell_type": "code",
   "execution_count": null,
   "id": "74",
   "metadata": {},
   "outputs": [],
   "source": [
    "# Infernces with version 3\n",
    "# !python main.py infer configs/primno_corneas.yaml -v '/media/jake/Removable backup/Dropbox/Full body hyperiid scans/Head Scans_nifti/Primno_abyssalis_f359_u0000000/Primno_abyssalis_FEG221101_359.nii' -m ./logs/primno_corneas/lightning_logs/version_3/ -rr 3.290426824776052 -nx 2 -ny 2 -nz 2 -ipmv 0.1 -at 0.05\n",
    "# !python main.py infer configs/primno_corneas.yaml -v '/media/jake/Removable backup/Dropbox/Full body hyperiid scans/Head Scans_nifti/Primno_abyssalis_f359_u0000000/Primno_abyssalis_FEG221101_359.nii' -m ./logs/primno_corneas/lightning_logs/version_3/ -rr 3.290426824776052 -nx 2 -ny 2 -nz 2 -ipmv 0.1 -at 0.01\n",
    "# !python main.py infer configs/primno_corneas.yaml -v '/media/jake/Removable backup/Dropbox/Full body hyperiid scans/Head Scans_nifti/Primno_abyssalis_f359_u0000000/Primno_abyssalis_FEG221101_359.nii' -m ./logs/primno_corneas/lightning_logs/version_3/ -rr 3.290426824776052 -nx 2 -ny 2 -nz 2 -ipmv 0.1 -at 0.5\n",
    "# !python main.py infer configs/primno_corneas.yaml -v '/media/jake/Removable backup/Dropbox/Full body hyperiid scans/Head Scans_nifti/Primno_abyssalis_f359_u0000000/Primno_abyssalis_FEG221101_359.nii' -m ./logs/primno_corneas/lightning_logs/version_3/ -rr 3.290426824776052 -nx 2 -ny 2 -nz 2 -ipmv 0.1 -at 0.4\n",
    "# !python main.py infer configs/primno_corneas.yaml -v '/media/jake/Removable backup/Dropbox/Full body hyperiid scans/Head Scans_nifti/Primno_abyssalis_f359_u0000000/Primno_abyssalis_FEG221101_359.nii' -m ./logs/primno_corneas/lightning_logs/version_3/ -rr 3.290426824776052 -nx 2 -ny 2 -nz 2 -ipmv 0.5 -at 0.5 --infer_with_max_filter_fun\n",
    "# !python main.py infer configs/primno_corneas.yaml -v '/media/jake/Removable backup/Dropbox/Full body hyperiid scans/Head Scans_nifti/Primno_abyssalis_f359_u0000000/Primno_abyssalis_FEG221101_359.nii' -m ./logs/primno_corneas/lightning_logs/version_3/ -rr 3.290426824776052 -nx 2 -ny 2 -nz 2 -ipmv 0.4 -at 0.5 --infer_with_max_filter_fun\n",
    "# !python main.py infer configs/primno_corneas.yaml -v '/media/jake/Removable backup/Dropbox/Full body hyperiid scans/Head Scans_nifti/Primno_abyssalis_f359_u0000000/Primno_abyssalis_FEG221101_359.nii' -m ./logs/primno_corneas/lightning_logs/version_3/ -rr 3.290426824776052 -nx 2 -ny 2 -nz 2 -ipmv 0.3 -at 0.5 --infer_with_max_filter_fun\n",
    "# !python main.py infer configs/primno_corneas.yaml -v '/media/jake/Removable backup/Dropbox/Full body hyperiid scans/Head Scans_nifti/Primno_abyssalis_f359_u0000000/Primno_abyssalis_FEG221101_359.nii' -m ./logs/primno_corneas/lightning_logs/version_3/ -rr 3.290426824776052 -nx 2 -ny 2 -nz 2 -ipmv 0.2 -at 0.5 --infer_with_max_filter_fun\n",
    "# !python main.py infer configs/primno_corneas.yaml -v '/media/jake/Removable backup/Dropbox/Full body hyperiid scans/Head Scans_nifti/Primno_abyssalis_f359_u0000000/Primno_abyssalis_FEG221101_359.nii' -m ./logs/primno_corneas/lightning_logs/version_3/ -rr 3.290426824776052 -nx 2 -ny 2 -nz 2 -ipmv 0.1 -at 0.5 --infer_with_max_filter_fun # best so far\n",
    "!python main.py infer configs/primno_corneas.yaml -v '/media/jake/Removable backup/Dropbox/Full body hyperiid scans/Head Scans_nifti/Primno_abyssalis_f359_u0000000/Primno_abyssalis_FEG221101_359.nii' -m ./logs/primno_corneas/lightning_logs/version_3/ -rr 3.290426824776052 -nx 3 -ny 3 -nz 3 -ipmv 0.5 -at 0.5 --infer_with_max_filter_fun\n",
    "!python main.py infer configs/primno_corneas.yaml -v '/media/jake/Removable backup/Dropbox/Full body hyperiid scans/Head Scans_nifti/Primno_abyssalis_f359_u0000000/Primno_abyssalis_FEG221101_359.nii' -m ./logs/primno_corneas/lightning_logs/version_3/ -rr 3.290426824776052 -nx 3 -ny 3 -nz 3 -ipmv 0.1 -at 0.5 --infer_with_max_filter_fun\n"
   ]
  },
  {
   "cell_type": "code",
   "execution_count": null,
   "id": "75",
   "metadata": {},
   "outputs": [],
   "source": [
    "import napari\n",
    "import numpy as np\n",
    "import torchio as tio\n",
    "\n",
    "\n",
    "image_path = '/media/jake/Removable backup/Dropbox/Full body hyperiid scans/Head Scans_nifti/Primno_abyssalis_f359_u0000000/Primno_abyssalis_FEG221101_359.nii'\n",
    "image = tio.ScalarImage(image_path)\n",
    "\n",
    "# heatmap_path = '/media/jake/Removable backup/Jake/projects/dhr/output/FEG20190213_010.logs_cystisoma_rhabdoms_lightning_logs_version_17_checkpoints_last_x_3_y_3_z_3_average_threshold_0.5_prediction.nii'\n",
    "heatmap_path = '/home/jake/projects/dhr/output/Primno_abyssalis_FEG221101_359.logs_primno_corneas_lightning_logs_version_3_checkpoints_last_x_2_y_2_z_2_average_threshold_0.5_prediction.nii'\n",
    "\n",
    "#Make sure to use resampled space csv here.\n",
    "# y_hat_path = '/media/jake/Removable backup/Jake/projects/dhr/output/FEG20190213_010.logs_cystisoma_rhabdoms_lightning_logs_version_17_checkpoints_last_x_3_y_3_z_3_average_threshold_0.5_prediction_peak_min_val_0_5_method_center_of_mass.resampled_space_peaks.csv'\n",
    "y_hat_path = '/home/jake/projects/dhr/output/Primno_abyssalis_FEG221101_359.logs_primno_corneas_lightning_logs_version_3_checkpoints_last_x_2_y_2_z_2_average_threshold_0.5_prediction_peak_min_val_0_4_method_max_filter.resampled_space_peaks.csv'\n",
    "\n",
    "heatmap = tio.ScalarImage(heatmap_path)\n",
    "\n",
    "\n",
    "viewer = napari.view_image(heatmap.numpy(), name='heatmap', contrast_limits=[0, 1])\n",
    "# viewer.add_image(image.numpy(), name='image') #If you want to view your scan also (not necessary)\n",
    "\n",
    "# load the coordinates to analyse\n",
    "def load_coordinates(path, flip_axes=False, mct_path=None):\n",
    "    locations = np.loadtxt(\n",
    "        path,\n",
    "        delimiter=',',\n",
    "        ndmin=2,\n",
    "        dtype=np.float64\n",
    "    )\n",
    "    if not flip_axes: \n",
    "        return locations.tolist()\n",
    "\n",
    "    if not mct_path:\n",
    "        raise Exception('You must specify `mct_path` if you need to flip_axes')\n",
    "\n",
    "    mct = tio.ScalarImage(mct_path)\n",
    "    locations[:,0] = mct.shape[1] - locations[:,0]\n",
    "    locations[:,1] = mct.shape[2] - locations[:,1]\n",
    "\n",
    "    return locations.tolist()\n",
    "\n",
    "\n",
    "y_hat = load_coordinates(y_hat_path)\n",
    "\n",
    "\n",
    "viewer.add_points(y_hat)"
   ]
  },
  {
   "cell_type": "markdown",
   "id": "76",
   "metadata": {},
   "source": [
    "# Primno rhabdoms"
   ]
  },
  {
   "cell_type": "markdown",
   "id": "77",
   "metadata": {},
   "source": [
    "## Generating the dataset"
   ]
  },
  {
   "cell_type": "markdown",
   "id": "78",
   "metadata": {},
   "source": [
    "The next couple kernels are to manually convert mat files into csv files with rhabdoms points. If you do not need to convert manually you can use `!python mctv_to_csv.py`."
   ]
  },
  {
   "cell_type": "code",
   "execution_count": null,
   "id": "79",
   "metadata": {},
   "outputs": [],
   "source": [
    "# To convert mat for Primno_abyssalis_FEG221018_356 into rhabdoms raw labels csv\n",
    "import h5py\n",
    "import pandas as pd\n",
    "import os\n",
    "\n",
    "with h5py.File('/media/jake/Removable backup/Jake/projects/mctv_resfiles/hyperiids/Primno_abyssalis_FEG221018_356/Primno_abyssalis_356_eye.mat', 'r') as file:\n",
    "    marked_data = file['save_dat/data/marked'][:]  # Load the entire marked dataset\n",
    "\n",
    "marked_df = pd.DataFrame(marked_data)\n",
    "\n",
    "\n",
    "columns_to_keep = marked_df.iloc[5].isin([1, 3, 5, 7]) # correct indices for rhabdoms\n",
    "column_indices = marked_df.columns[columns_to_keep]\n",
    "filtered_df = marked_df.iloc[:3, column_indices]\n",
    "transposed_df = filtered_df.transpose()\n",
    "\n",
    "# Specify the directory where you want to save the CSV\n",
    "save_directory = '/home/jake/projects/dhr/dataset/raw_labels'  \n",
    "csv_name = 'Primno_abyssalis_FEG221018_356_labels_rhaddoms.csv'\n",
    "\n",
    "csv_path = os.path.join(save_directory, csv_name)\n",
    "\n",
    "os.makedirs(save_directory, exist_ok=True)\n",
    "\n",
    "transposed_df.to_csv(csv_path, header=False, index=False)\n"
   ]
  },
  {
   "cell_type": "code",
   "execution_count": null,
   "id": "80",
   "metadata": {},
   "outputs": [],
   "source": [
    "# To convert mat for Primno_abyssalis_FEG221018_357 into rhabdoms raw labels csv\n",
    "import h5py\n",
    "import pandas as pd\n",
    "import os\n",
    "\n",
    "with h5py.File('/media/jake/Removable backup/Jake/projects/mctv_resfiles/hyperiids/Primno_abyssalis_FEG221018_357/Primno_abyssalis_357.mat', 'r') as file:\n",
    "    marked_data = file['save_dat/data/marked'][:]  \n",
    "\n",
    "marked_df = pd.DataFrame(marked_data)\n",
    "\n",
    "\n",
    "columns_to_keep = marked_df.iloc[5].isin([1, 3, 5, 7]) # correct indices for rhabdoms\n",
    "column_indices = marked_df.columns[columns_to_keep]\n",
    "filtered_df = marked_df.iloc[:3, column_indices]\n",
    "transposed_df = filtered_df.transpose()\n",
    "\n",
    "# Specify directory path\n",
    "save_directory = '/home/jake/projects/dhr/dataset/raw_labels'  \n",
    "csv_name = 'Primno_abyssalis_FEG221018_357_labels_rhabdoms.csv' # name csv \n",
    "\n",
    "\n",
    "csv_path = os.path.join(save_directory, csv_name)\n",
    "\n",
    "\n",
    "os.makedirs(save_directory, exist_ok=True)\n",
    "\n",
    "\n",
    "transposed_df.to_csv(csv_path, header=False, index=False)\n"
   ]
  },
  {
   "cell_type": "code",
   "execution_count": null,
   "id": "81",
   "metadata": {},
   "outputs": [],
   "source": [
    "!python generate_dataset.py -h"
   ]
  },
  {
   "cell_type": "code",
   "execution_count": null,
   "id": "82",
   "metadata": {},
   "outputs": [],
   "source": [
    "!python generate_dataset.py ./data_source_specifiers/primno_rhabdoms.csv -l rhabdoms -v 10 -cl rhabdoms -cb 16"
   ]
  },
  {
   "cell_type": "markdown",
   "id": "83",
   "metadata": {},
   "source": [
    "## Checking"
   ]
  },
  {
   "cell_type": "code",
   "execution_count": null,
   "id": "84",
   "metadata": {},
   "outputs": [],
   "source": [
    "!python check_data.py ./configs/primno_rhabdoms.yaml"
   ]
  },
  {
   "cell_type": "markdown",
   "id": "85",
   "metadata": {},
   "source": [
    "## Training"
   ]
  },
  {
   "cell_type": "code",
   "execution_count": null,
   "id": "86",
   "metadata": {},
   "outputs": [],
   "source": [
    "# Version 1\n",
    "!python main.py train configs/primno_rhabdoms.yaml -w ./logs/cystisoma_rhabdoms/lightning_logs/version_19/checkpoints/epoch=1779-step=1004321.ckpt -ne 10\n"
   ]
  },
  {
   "cell_type": "code",
   "execution_count": null,
   "id": "87",
   "metadata": {},
   "outputs": [],
   "source": [
    "# Version 2\n",
    "!python main.py train configs/primno_rhabdoms.yaml -w ./logs/paraphronima_rhabdoms_from_pretrained/lightning_logs/version_1/checkpoints/epoch=147-step=890880.ckpt -ne 10\n",
    "# Version 3\n",
    "# !python main.py train configs/primno_rhabdoms.yaml -w ./logs/paraphronima_rhabdoms/lightning_logs/version_23/checkpoints/epoch=99-step=537600-v1.ckpt -ne 10\n"
   ]
  },
  {
   "cell_type": "markdown",
   "id": "88",
   "metadata": {},
   "source": [
    "## Inference"
   ]
  },
  {
   "cell_type": "code",
   "execution_count": null,
   "id": "89",
   "metadata": {},
   "outputs": [],
   "source": [
    "import torchio as tio\n",
    "\n",
    "image_path = '/media/jake/Removable backup/Dropbox/Full body hyperiid scans/Head Scans_nifti/Primno_abyssalis_f359_u0000000/Primno_abyssalis_FEG221101_359.nii'\n",
    "image = tio.ScalarImage(image_path)\n",
    "\n",
    "# view file with napari\n",
    "import napari\n",
    "\n",
    "\n",
    "viewer = napari.view_image(image.numpy(), name='image')"
   ]
  },
  {
   "cell_type": "code",
   "execution_count": null,
   "id": "90",
   "metadata": {},
   "outputs": [],
   "source": [
    "import pandas as pd\n",
    "\n",
    "RR = pd.read_csv('/home/jake/projects/dhr/Primno_abyssalis_FEG221101_359_corneas_estimating_resampling_ratio.csv')\n",
    "\n",
    "RR"
   ]
  },
  {
   "cell_type": "code",
   "execution_count": null,
   "id": "91",
   "metadata": {},
   "outputs": [],
   "source": [
    "from scipy.spatial import distance_matrix\n",
    "\n",
    "coordinates = RR[['axis-0', 'axis-1', 'axis-2']].values\n",
    "dist_matrix = distance_matrix(coordinates, coordinates) #Create a distance matrix between points\n",
    "import numpy as np\n",
    "np.fill_diagonal(dist_matrix, np.inf)\n",
    "\n",
    "# Find the nearest neighbor distance for each point\n",
    "nearest_distances = np.min(dist_matrix, axis=1)\n",
    "\n",
    "# Add the nearest distances to the dataframe\n",
    "RR['nearest_distance'] = nearest_distances\n",
    "RR\n",
    "mean_nearest_distance = RR['nearest_distance'].mean()\n",
    "mean_nearest_distance\n",
    "resample_ratio = mean_nearest_distance/10\n",
    "resample_ratio #Print your RR; use this to make your inference "
   ]
  },
  {
   "cell_type": "code",
   "execution_count": null,
   "id": "92",
   "metadata": {},
   "outputs": [],
   "source": [
    "!python main.py infer configs/primno_rhabdoms.yaml -v '/media/jake/Removable backup/Dropbox/Full body hyperiid scans/Head Scans_nifti/Primno_abyssalis_f359_u0000000/Primno_abyssalis_FEG221101_359.nii' -m ./logs/primno_rhabdoms/lightning_logs/version_1/ -rr 2.9493045478545903 -nx 1 -ny 1 -nz 1 -ipmv 0.5 -at 0.5 --infer_with_max_filter_fun\n"
   ]
  }
 ],
 "metadata": {
  "kernelspec": {
   "display_name": "venv",
   "language": "python",
   "name": "python3"
  },
  "language_info": {
   "codemirror_mode": {
    "name": "ipython",
    "version": 3
   },
   "file_extension": ".py",
   "mimetype": "text/x-python",
   "name": "python",
   "nbconvert_exporter": "python",
   "pygments_lexer": "ipython3",
   "version": "3.10.16"
  }
 },
 "nbformat": 4,
 "nbformat_minor": 5
}
