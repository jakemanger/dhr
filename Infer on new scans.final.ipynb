{
 "cells": [
  {
   "cell_type": "markdown",
   "id": "0",
   "metadata": {},
   "source": [
    "# Cystisoma corneas"
   ]
  },
  {
   "cell_type": "markdown",
   "id": "1",
   "metadata": {},
   "source": [
    "## Inference"
   ]
  },
  {
   "cell_type": "markdown",
   "id": "2",
   "metadata": {},
   "source": [
    "First open your heatmap in napari. "
   ]
  },
  {
   "cell_type": "code",
   "execution_count": 8,
   "id": "3",
   "metadata": {},
   "outputs": [],
   "source": [
    "# import modules\n",
    "import torchio as tio\n",
    "\n",
    "# load in the nifti file with torchio\n",
    "image_path = '/media/jake/Dropbox_mirror/Smithsonian Dropbox/Jan Hemmi/hyperiid scans/Scans_nifti/Paraphronima_crassipes_f536_u1701837_head/Paraphronima_crassipes_f536_u1701837_head.nii'\n",
    "\n",
    "image = tio.ScalarImage(image_path)\n",
    "\n"
   ]
  },
  {
   "cell_type": "code",
   "execution_count": 2,
   "id": "4",
   "metadata": {},
   "outputs": [
    {
     "data": {
      "text/plain": [
       "ScalarImage(shape: (1, 1289, 979, 1289); spacing: (0.00, 0.00, 0.00); orientation: LPS+; path: \"/media/jake/Dropbox_mirror/Smithsonian Dropbox/Jan Hemmi/hyperiid scans/Scans_nifti/Paraphronima_crassipes_f536_u1701837_head/Paraphronima_crassipes_f536_u1701837_head.nii\")"
      ]
     },
     "execution_count": 2,
     "metadata": {},
     "output_type": "execute_result"
    }
   ],
   "source": [
    "image"
   ]
  },
  {
   "cell_type": "code",
   "execution_count": 9,
   "id": "5",
   "metadata": {},
   "outputs": [],
   "source": [
    "# view file with napari\n",
    "import napari\n",
    "\n",
    "\n",
    "viewer = napari.view_image(image.numpy(), name='image')\n"
   ]
  },
  {
   "cell_type": "markdown",
   "id": "6",
   "metadata": {},
   "source": [
    "In napari, label a few of the features (that are next to each other) to estimate the resample ratio, then save it as a csv file and load it in the next step\n"
   ]
  },
  {
   "cell_type": "code",
   "execution_count": 5,
   "id": "7",
   "metadata": {},
   "outputs": [
    {
     "data": {
      "text/html": [
       "<div>\n",
       "<style scoped>\n",
       "    .dataframe tbody tr th:only-of-type {\n",
       "        vertical-align: middle;\n",
       "    }\n",
       "\n",
       "    .dataframe tbody tr th {\n",
       "        vertical-align: top;\n",
       "    }\n",
       "\n",
       "    .dataframe thead th {\n",
       "        text-align: right;\n",
       "    }\n",
       "</style>\n",
       "<table border=\"1\" class=\"dataframe\">\n",
       "  <thead>\n",
       "    <tr style=\"text-align: right;\">\n",
       "      <th></th>\n",
       "      <th>index</th>\n",
       "      <th>axis-0</th>\n",
       "      <th>axis-1</th>\n",
       "      <th>axis-2</th>\n",
       "      <th>axis-3</th>\n",
       "    </tr>\n",
       "  </thead>\n",
       "  <tbody>\n",
       "    <tr>\n",
       "      <th>0</th>\n",
       "      <td>0.0</td>\n",
       "      <td>0.0</td>\n",
       "      <td>483.722771</td>\n",
       "      <td>475.212660</td>\n",
       "      <td>188.0</td>\n",
       "    </tr>\n",
       "    <tr>\n",
       "      <th>1</th>\n",
       "      <td>1.0</td>\n",
       "      <td>0.0</td>\n",
       "      <td>466.818301</td>\n",
       "      <td>506.629458</td>\n",
       "      <td>188.0</td>\n",
       "    </tr>\n",
       "    <tr>\n",
       "      <th>2</th>\n",
       "      <td>2.0</td>\n",
       "      <td>0.0</td>\n",
       "      <td>510.514762</td>\n",
       "      <td>494.987700</td>\n",
       "      <td>191.0</td>\n",
       "    </tr>\n",
       "    <tr>\n",
       "      <th>3</th>\n",
       "      <td>3.0</td>\n",
       "      <td>0.0</td>\n",
       "      <td>530.768231</td>\n",
       "      <td>465.484615</td>\n",
       "      <td>191.0</td>\n",
       "    </tr>\n",
       "    <tr>\n",
       "      <th>4</th>\n",
       "      <td>4.0</td>\n",
       "      <td>0.0</td>\n",
       "      <td>498.235099</td>\n",
       "      <td>522.258119</td>\n",
       "      <td>191.0</td>\n",
       "    </tr>\n",
       "    <tr>\n",
       "      <th>5</th>\n",
       "      <td>5.0</td>\n",
       "      <td>0.0</td>\n",
       "      <td>560.909220</td>\n",
       "      <td>463.730378</td>\n",
       "      <td>196.0</td>\n",
       "    </tr>\n",
       "    <tr>\n",
       "      <th>6</th>\n",
       "      <td>6.0</td>\n",
       "      <td>0.0</td>\n",
       "      <td>557.719698</td>\n",
       "      <td>480.634848</td>\n",
       "      <td>196.0</td>\n",
       "    </tr>\n",
       "    <tr>\n",
       "      <th>7</th>\n",
       "      <td>7.0</td>\n",
       "      <td>0.0</td>\n",
       "      <td>541.931560</td>\n",
       "      <td>517.952264</td>\n",
       "      <td>196.0</td>\n",
       "    </tr>\n",
       "    <tr>\n",
       "      <th>8</th>\n",
       "      <td>8.0</td>\n",
       "      <td>0.0</td>\n",
       "      <td>602.054063</td>\n",
       "      <td>473.298946</td>\n",
       "      <td>210.0</td>\n",
       "    </tr>\n",
       "    <tr>\n",
       "      <th>9</th>\n",
       "      <td>9.0</td>\n",
       "      <td>0.0</td>\n",
       "      <td>593.761304</td>\n",
       "      <td>511.732694</td>\n",
       "      <td>210.0</td>\n",
       "    </tr>\n",
       "    <tr>\n",
       "      <th>10</th>\n",
       "      <td>10.0</td>\n",
       "      <td>0.0</td>\n",
       "      <td>578.930024</td>\n",
       "      <td>543.627921</td>\n",
       "      <td>210.0</td>\n",
       "    </tr>\n",
       "    <tr>\n",
       "      <th>11</th>\n",
       "      <td>11.0</td>\n",
       "      <td>0.0</td>\n",
       "      <td>640.647288</td>\n",
       "      <td>460.381379</td>\n",
       "      <td>220.0</td>\n",
       "    </tr>\n",
       "    <tr>\n",
       "      <th>12</th>\n",
       "      <td>12.0</td>\n",
       "      <td>0.0</td>\n",
       "      <td>640.647288</td>\n",
       "      <td>491.798178</td>\n",
       "      <td>220.0</td>\n",
       "    </tr>\n",
       "    <tr>\n",
       "      <th>13</th>\n",
       "      <td>13.0</td>\n",
       "      <td>0.0</td>\n",
       "      <td>632.035576</td>\n",
       "      <td>530.391402</td>\n",
       "      <td>220.0</td>\n",
       "    </tr>\n",
       "  </tbody>\n",
       "</table>\n",
       "</div>"
      ],
      "text/plain": [
       "    index  axis-0      axis-1      axis-2  axis-3\n",
       "0     0.0     0.0  483.722771  475.212660   188.0\n",
       "1     1.0     0.0  466.818301  506.629458   188.0\n",
       "2     2.0     0.0  510.514762  494.987700   191.0\n",
       "3     3.0     0.0  530.768231  465.484615   191.0\n",
       "4     4.0     0.0  498.235099  522.258119   191.0\n",
       "5     5.0     0.0  560.909220  463.730378   196.0\n",
       "6     6.0     0.0  557.719698  480.634848   196.0\n",
       "7     7.0     0.0  541.931560  517.952264   196.0\n",
       "8     8.0     0.0  602.054063  473.298946   210.0\n",
       "9     9.0     0.0  593.761304  511.732694   210.0\n",
       "10   10.0     0.0  578.930024  543.627921   210.0\n",
       "11   11.0     0.0  640.647288  460.381379   220.0\n",
       "12   12.0     0.0  640.647288  491.798178   220.0\n",
       "13   13.0     0.0  632.035576  530.391402   220.0"
      ]
     },
     "execution_count": 5,
     "metadata": {},
     "output_type": "execute_result"
    }
   ],
   "source": [
    "import pandas as pd\n",
    "# 2nd scan\n",
    "#RR = pd.read_csv('/home/jake/projects/dhr/FEG20190213_01_corneas_resample_ratio.csv')\n",
    "# 3rd scan\n",
    "# RR = pd.read_csv('/home/jake/projects/dhr/Cystisoma_sp_FEG221129_366_corneas_estimating_resample_ratio.csv')\n",
    "RR = pd.read_csv('resample_ratio_measurements/resample_ratio_measurement_Paraphronima_crassipes_f536_u1701837_head.csv')\n",
    "\n",
    "RR"
   ]
  },
  {
   "cell_type": "code",
   "execution_count": 6,
   "id": "8",
   "metadata": {},
   "outputs": [],
   "source": [
    "from scipy.spatial import distance_matrix\n",
    "\n",
    "coordinates = RR[['axis-1', 'axis-2', 'axis-3']].values\n",
    "dist_matrix = distance_matrix(coordinates, coordinates) #Create a distance matrix\n"
   ]
  },
  {
   "cell_type": "code",
   "execution_count": 7,
   "id": "9",
   "metadata": {},
   "outputs": [
    {
     "data": {
      "text/html": [
       "<div>\n",
       "<style scoped>\n",
       "    .dataframe tbody tr th:only-of-type {\n",
       "        vertical-align: middle;\n",
       "    }\n",
       "\n",
       "    .dataframe tbody tr th {\n",
       "        vertical-align: top;\n",
       "    }\n",
       "\n",
       "    .dataframe thead th {\n",
       "        text-align: right;\n",
       "    }\n",
       "</style>\n",
       "<table border=\"1\" class=\"dataframe\">\n",
       "  <thead>\n",
       "    <tr style=\"text-align: right;\">\n",
       "      <th></th>\n",
       "      <th>index</th>\n",
       "      <th>axis-0</th>\n",
       "      <th>axis-1</th>\n",
       "      <th>axis-2</th>\n",
       "      <th>axis-3</th>\n",
       "      <th>nearest_distance</th>\n",
       "    </tr>\n",
       "  </thead>\n",
       "  <tbody>\n",
       "    <tr>\n",
       "      <th>0</th>\n",
       "      <td>0.0</td>\n",
       "      <td>0.0</td>\n",
       "      <td>483.722771</td>\n",
       "      <td>475.212660</td>\n",
       "      <td>188.0</td>\n",
       "      <td>33.434458</td>\n",
       "    </tr>\n",
       "    <tr>\n",
       "      <th>1</th>\n",
       "      <td>1.0</td>\n",
       "      <td>0.0</td>\n",
       "      <td>466.818301</td>\n",
       "      <td>506.629458</td>\n",
       "      <td>188.0</td>\n",
       "      <td>35.217471</td>\n",
       "    </tr>\n",
       "    <tr>\n",
       "      <th>2</th>\n",
       "      <td>2.0</td>\n",
       "      <td>0.0</td>\n",
       "      <td>510.514762</td>\n",
       "      <td>494.987700</td>\n",
       "      <td>191.0</td>\n",
       "      <td>29.907622</td>\n",
       "    </tr>\n",
       "    <tr>\n",
       "      <th>3</th>\n",
       "      <td>3.0</td>\n",
       "      <td>0.0</td>\n",
       "      <td>530.768231</td>\n",
       "      <td>465.484615</td>\n",
       "      <td>191.0</td>\n",
       "      <td>30.603212</td>\n",
       "    </tr>\n",
       "    <tr>\n",
       "      <th>4</th>\n",
       "      <td>4.0</td>\n",
       "      <td>0.0</td>\n",
       "      <td>498.235099</td>\n",
       "      <td>522.258119</td>\n",
       "      <td>191.0</td>\n",
       "      <td>29.907622</td>\n",
       "    </tr>\n",
       "    <tr>\n",
       "      <th>5</th>\n",
       "      <td>5.0</td>\n",
       "      <td>0.0</td>\n",
       "      <td>560.909220</td>\n",
       "      <td>463.730378</td>\n",
       "      <td>196.0</td>\n",
       "      <td>17.202737</td>\n",
       "    </tr>\n",
       "    <tr>\n",
       "      <th>6</th>\n",
       "      <td>6.0</td>\n",
       "      <td>0.0</td>\n",
       "      <td>557.719698</td>\n",
       "      <td>480.634848</td>\n",
       "      <td>196.0</td>\n",
       "      <td>17.202737</td>\n",
       "    </tr>\n",
       "    <tr>\n",
       "      <th>7</th>\n",
       "      <td>7.0</td>\n",
       "      <td>0.0</td>\n",
       "      <td>541.931560</td>\n",
       "      <td>517.952264</td>\n",
       "      <td>196.0</td>\n",
       "      <td>39.235015</td>\n",
       "    </tr>\n",
       "    <tr>\n",
       "      <th>8</th>\n",
       "      <td>8.0</td>\n",
       "      <td>0.0</td>\n",
       "      <td>602.054063</td>\n",
       "      <td>473.298946</td>\n",
       "      <td>210.0</td>\n",
       "      <td>39.318226</td>\n",
       "    </tr>\n",
       "    <tr>\n",
       "      <th>9</th>\n",
       "      <td>9.0</td>\n",
       "      <td>0.0</td>\n",
       "      <td>593.761304</td>\n",
       "      <td>511.732694</td>\n",
       "      <td>210.0</td>\n",
       "      <td>35.174883</td>\n",
       "    </tr>\n",
       "    <tr>\n",
       "      <th>10</th>\n",
       "      <td>10.0</td>\n",
       "      <td>0.0</td>\n",
       "      <td>578.930024</td>\n",
       "      <td>543.627921</td>\n",
       "      <td>210.0</td>\n",
       "      <td>35.174883</td>\n",
       "    </tr>\n",
       "    <tr>\n",
       "      <th>11</th>\n",
       "      <td>11.0</td>\n",
       "      <td>0.0</td>\n",
       "      <td>640.647288</td>\n",
       "      <td>460.381379</td>\n",
       "      <td>220.0</td>\n",
       "      <td>31.416799</td>\n",
       "    </tr>\n",
       "    <tr>\n",
       "      <th>12</th>\n",
       "      <td>12.0</td>\n",
       "      <td>0.0</td>\n",
       "      <td>640.647288</td>\n",
       "      <td>491.798178</td>\n",
       "      <td>220.0</td>\n",
       "      <td>31.416799</td>\n",
       "    </tr>\n",
       "    <tr>\n",
       "      <th>13</th>\n",
       "      <td>13.0</td>\n",
       "      <td>0.0</td>\n",
       "      <td>632.035576</td>\n",
       "      <td>530.391402</td>\n",
       "      <td>220.0</td>\n",
       "      <td>39.542364</td>\n",
       "    </tr>\n",
       "  </tbody>\n",
       "</table>\n",
       "</div>"
      ],
      "text/plain": [
       "    index  axis-0      axis-1      axis-2  axis-3  nearest_distance\n",
       "0     0.0     0.0  483.722771  475.212660   188.0         33.434458\n",
       "1     1.0     0.0  466.818301  506.629458   188.0         35.217471\n",
       "2     2.0     0.0  510.514762  494.987700   191.0         29.907622\n",
       "3     3.0     0.0  530.768231  465.484615   191.0         30.603212\n",
       "4     4.0     0.0  498.235099  522.258119   191.0         29.907622\n",
       "5     5.0     0.0  560.909220  463.730378   196.0         17.202737\n",
       "6     6.0     0.0  557.719698  480.634848   196.0         17.202737\n",
       "7     7.0     0.0  541.931560  517.952264   196.0         39.235015\n",
       "8     8.0     0.0  602.054063  473.298946   210.0         39.318226\n",
       "9     9.0     0.0  593.761304  511.732694   210.0         35.174883\n",
       "10   10.0     0.0  578.930024  543.627921   210.0         35.174883\n",
       "11   11.0     0.0  640.647288  460.381379   220.0         31.416799\n",
       "12   12.0     0.0  640.647288  491.798178   220.0         31.416799\n",
       "13   13.0     0.0  632.035576  530.391402   220.0         39.542364"
      ]
     },
     "execution_count": 7,
     "metadata": {},
     "output_type": "execute_result"
    }
   ],
   "source": [
    "import numpy as np\n",
    "np.fill_diagonal(dist_matrix, np.inf)\n",
    "\n",
    "# Find the nearest neighbor distance for each point\n",
    "nearest_distances = np.min(dist_matrix, axis=1)\n",
    "\n",
    "# Add the nearest distances to the dataframe\n",
    "RR['nearest_distance'] = nearest_distances\n",
    "RR"
   ]
  },
  {
   "cell_type": "code",
   "execution_count": 8,
   "id": "10",
   "metadata": {},
   "outputs": [
    {
     "data": {
      "text/plain": [
       "31.768202046528277"
      ]
     },
     "execution_count": 8,
     "metadata": {},
     "output_type": "execute_result"
    }
   ],
   "source": [
    "mean_nearest_distance = RR['nearest_distance'].mean()\n",
    "mean_nearest_distance"
   ]
  },
  {
   "cell_type": "code",
   "execution_count": 9,
   "id": "11",
   "metadata": {},
   "outputs": [
    {
     "data": {
      "text/plain": [
       "3.1768202046528278"
      ]
     },
     "execution_count": 9,
     "metadata": {},
     "output_type": "execute_result"
    }
   ],
   "source": [
    "resample_ratio = mean_nearest_distance/10 #Makes average distance between features 10 voxels\n",
    "resample_ratio"
   ]
  },
  {
   "cell_type": "markdown",
   "id": "12",
   "metadata": {},
   "source": [
    "## Inference"
   ]
  },
  {
   "cell_type": "code",
   "execution_count": 10,
   "id": "13",
   "metadata": {},
   "outputs": [
    {
     "name": "stdout",
     "output_type": "stream",
     "text": [
      "usage: main.py [-h] [--volume_path VOLUME_PATH]\n",
      "               [--sql_storage_url SQL_STORAGE_URL]\n",
      "               [--starting_weights_path STARTING_WEIGHTS_PATH]\n",
      "               [--model_path MODEL_PATH] [--profile] [--num_steps NUM_STEPS]\n",
      "               [--check_val_every_n_epoch CHECK_VAL_EVERY_N_EPOCH]\n",
      "               [--resample_ratio_path RESAMPLE_RATIO_PATH]\n",
      "               [--bbox_path BBOX_PATH] [--n_x_dirs N_X_DIRS]\n",
      "               [--n_y_dirs N_Y_DIRS] [--n_z_dirs N_Z_DIRS]\n",
      "               [--resample_ratio RESAMPLE_RATIO] [--already_resampled]\n",
      "               [--training_data_histogram] [--infer_with_max_filter_fun]\n",
      "               [--average_threshold AVERAGE_THRESHOLD]\n",
      "               [--inference_peak_min_val INFERENCE_PEAK_MIN_VAL]\n",
      "               {train,tune,infer,locate_peaks} config_path\n",
      "\n",
      "Train, hyperparameter tune or infer with a deep heatmap regression model\n",
      "\n",
      "positional arguments:\n",
      "  {train,tune,infer,locate_peaks}\n",
      "                        Mode of operation\n",
      "  config_path           Path to your config file. Example:\n",
      "                        configs/fiddlercrab_corneas.yaml\n",
      "\n",
      "options:\n",
      "  -h, --help            show this help message and exit\n",
      "  --volume_path VOLUME_PATH, -v VOLUME_PATH\n",
      "                        Path to the volume to run inference on. Should have\n",
      "                        been resampled to be approximately the same resolution\n",
      "                        as the training data. In the special case when `mode`\n",
      "                        is `locate_peaks`, this should be the path to\n",
      "                        prediction for a previous inference run.\n",
      "  --sql_storage_url SQL_STORAGE_URL, -s SQL_STORAGE_URL\n",
      "                        Optionally specify the url to the sql database to\n",
      "                        store the results of hyperparameter tuning. Note, if\n",
      "                        you run this command using the same url in multiple\n",
      "                        terminals, the tuning job will become parallelised and\n",
      "                        run faster. This can also work across multiple\n",
      "                        machines if the sql database is accessible to both\n",
      "                        (e.g. with a postgresql or mysql server). If not\n",
      "                        specified, this will default to a sqlite database in\n",
      "                        the `logs/YOUR_CONFIG_FILENAME/hyperparameter_tuning/h\n",
      "                        yperparameter_tuning.db` directory. Example:\n",
      "                        sqlite:///logs/my_custom_hyperparam_tuning.db\n",
      "  --starting_weights_path STARTING_WEIGHTS_PATH, -w STARTING_WEIGHTS_PATH\n",
      "                        Path to the weights to begin training with. If not\n",
      "                        specified, the weights will start out randomised.\n",
      "                        Example: logs/fiddlercrab_corneas/lightning_logs/versi\n",
      "                        on_1/checkpoints/last.ckpt\n",
      "  --model_path MODEL_PATH, -m MODEL_PATH\n",
      "                        The path to the directory containing your model.\n",
      "                        Example: zoo/fiddlercrab_corneas/version_4/\n",
      "  --profile, -p         If specified, the model will be trained with a\n",
      "                        profiler to find performance bottlenecks in code. This\n",
      "                        only works with the `train` mode. See https://pytorch-\n",
      "                        lightning.readthedocs.io/en/1.4.4/advanced/profiler.ht\n",
      "                        ml for more details.\n",
      "  --num_steps NUM_STEPS, -n NUM_STEPS\n",
      "                        The number of steps to train for. If specified in the\n",
      "                        config file and this argument, an error will be\n",
      "                        raised.If not specified in the config file or here, a\n",
      "                        default of 400000 steps will be used.\n",
      "  --check_val_every_n_epoch CHECK_VAL_EVERY_N_EPOCH, -ne CHECK_VAL_EVERY_N_EPOCH\n",
      "                        Run a validation check every n epochs. By default this\n",
      "                        is 1.\n",
      "  --resample_ratio_path RESAMPLE_RATIO_PATH, -r RESAMPLE_RATIO_PATH\n",
      "                        Path to the resample ratio file. This file should be a\n",
      "                        .txt file with the ratio to convert predicted\n",
      "                        coordinates to the original volume space. The file\n",
      "                        should contain a single float value.\n",
      "  --bbox_path BBOX_PATH, -b BBOX_PATH\n",
      "                        Path to the bbox file. This file should be a .csv file\n",
      "                        with the bbox to convert predicted coordinates to the\n",
      "                        original volume space. The file should contain a six\n",
      "                        float values.\n",
      "  --n_x_dirs N_X_DIRS, -nx N_X_DIRS\n",
      "                        The number of x-directions to use for inference.\n",
      "                        Automatically evenly spreads these from 0-180°.\n",
      "  --n_y_dirs N_Y_DIRS, -ny N_Y_DIRS\n",
      "                        The number of y-directions to use for inference.\n",
      "                        Automatically evenly spreads these from 0-180°.\n",
      "  --n_z_dirs N_Z_DIRS, -nz N_Z_DIRS\n",
      "                        The number of z-directions to use for inference.\n",
      "                        Automatically evenly spreads these from 0-180°.\n",
      "  --resample_ratio RESAMPLE_RATIO, -rr RESAMPLE_RATIO\n",
      "                        The ratio to resample the image by during inference.\n",
      "  --already_resampled, -ar\n",
      "                        Specify whether the image for inference is already\n",
      "                        resampled. If so, the resample_ratio will be used \"\n",
      "                        \"to convert coordinates back to original images space\n",
      "                        and not resample the image during inference.\"\n",
      "  --training_data_histogram, -tdh\n",
      "                        If specified, the histogram of the training data will\n",
      "                        be plotted.\n",
      "  --infer_with_max_filter_fun, -mxf\n",
      "                        If specified, locating peaks in heatmap during\n",
      "                        inference will use a max filter function approach.\n",
      "  --average_threshold AVERAGE_THRESHOLD, -at AVERAGE_THRESHOLD\n",
      "                        During inference, if combining multiple predictions\n",
      "                        (along different orientations), what is the minimum\n",
      "                        predicted value to keep while averaging (e.g. 0.5). If\n",
      "                        -1 (the default), then average all predicted values.\n",
      "  --inference_peak_min_val INFERENCE_PEAK_MIN_VAL, -ipmv INFERENCE_PEAK_MIN_VAL\n",
      "                        The minimum value needed to locate a peak in the\n",
      "                        heatmap during inference. If -1 (the default) the\n",
      "                        value specified in the config file will be used.\n"
     ]
    }
   ],
   "source": [
    "!python main.py infer -h #If you need help for parameters in infer"
   ]
  },
  {
   "cell_type": "markdown",
   "id": "14",
   "metadata": {},
   "source": [
    "Make inference first with 1 direction in the x, y, and z axis before creating inference in 3 directions. This will produce three files: two csv files (one for the resampled space, and the other not), and a nifty file with predictions.\n",
    "\n",
    "*Note: these files are currently saved to /home/jake/projects/dhr/output/"
   ]
  },
  {
   "cell_type": "code",
   "execution_count": null,
   "id": "15",
   "metadata": {},
   "outputs": [
    {
     "name": "stdout",
     "output_type": "stream",
     "text": [
      "TorchIO version: 0.18.88\n",
      "Running setup!\n",
      "Found 9 labelled images with labels in ./dataset/paraphronima_corneas/patches/train_images_10/ and ./dataset/paraphronima_corneas/patches/train_labels_10/ for analysis\n",
      "Found 5 labelled images with labels in ./dataset/paraphronima_corneas/patches/test_images_10/ and ./dataset/paraphronima_corneas/patches/test_labels_10/ for analysis\n",
      "Training:   8\n",
      "Validation:  1\n",
      "Test:       5\n",
      "(\"Initiating model using the following config: {'act': 'ReLU', \"\n",
      " \"'balanced_sampler': True, 'balanced_sampler_max_length': 9, 'batch_size': 2, \"\n",
      " \"'config_stem': 'paraphronima_corneas', 'correct_prediction_distance': 6, \"\n",
      " \"'debug_plots': False, 'double_channels_with_depth': True, 'dropout': \"\n",
      " \"0.01757567945525256, 'heatmap_max_length': 64, 'histogram_landmarks_path': \"\n",
      " \"'./landmarks_files/paraphronima_corneas_landmarks.npy', \"\n",
      " \"'histogram_standardisation': False, 'ignore_empty_volumes': True, \"\n",
      " \"'image_suffix': 'image', 'label_suffix': 'corneas', 'learn_sigma': False, \"\n",
      " \"'loss_in_sigma_space': False, 'lr': 0.042493796182434616, 'max_length': 512, \"\n",
      " \"'momentum': 0.5109995499878354, 'mse_with_f1': False, 'nesterov': False, \"\n",
      " \"'num_encoding_blocks': 5, 'num_steps': 3000000, 'num_workers': 6, \"\n",
      " \"'optimiser': 'SGD', 'out_channels_first_layer': 32, 'output_activation': \"\n",
      " \"'None', 'patch_size': 64, 'peak_min_val': 0.5, 'pin_memory': False, \"\n",
      " \"'pooling_type': 'max', 'random_affine_prob': 0.5, \"\n",
      " \"'random_affine_rotation_range': 180, 'random_affine_scale_range': 0.15, \"\n",
      " \"'random_affine_translation_range': 0, \"\n",
      " \"'random_elastic_deformation_max_displacement': 7.5, \"\n",
      " \"'random_elastic_deformation_num_control_points': 7, \"\n",
      " \"'random_elastic_deformation_prob': 0.5, 'random_log_gamma': 0, \"\n",
      " \"'relative_heatmap_peak': False, 'samples_per_volume': 128, 'seed': 44, \"\n",
      " \"'softargmax': False, 'starting_sigma': 2.7530064583885006, \"\n",
      " \"'subpix_accuracy': False, 'test_images_dir': \"\n",
      " \"'./dataset/paraphronima_corneas/patches/test_images_10/', 'test_labels_dir': \"\n",
      " \"'./dataset/paraphronima_corneas/patches/test_labels_10/', \"\n",
      " \"'train_images_dir': \"\n",
      " \"'./dataset/paraphronima_corneas/patches/train_images_10/', \"\n",
      " \"'train_labels_dir': \"\n",
      " \"'./dataset/paraphronima_corneas/patches/train_labels_10/', \"\n",
      " \"'train_val_ratio': 0.8, 'upsampling_type': 'conv', 'visualise_model': False, \"\n",
      " \"'weight_decay': 1.527093716824831e-06, 'z_normalisation': True}\")\n",
      "Loading volume...\n",
      "Resampling volume by a ratio of 3.1768202046528278\n",
      "Image old spacing (0.0019529999699443579, 0.0019529999699443579, 0.0019529999699443579)\n",
      "Image new spacing (0.006204329764205601, 0.006204329764205601, 0.006204329764205601)\n",
      "No padding needed for image with shape (406, 309, 406)\n",
      "Loading previously calculated prediction file at ./output/Paraphronima_crassipes_f536_u1701837_head.logs_paraphronima_corneas_lightning_logs_version_13_checkpoints_last_x_3_y_3_z_3_average_threshold_0.25_prediction.nii. Delete the file to avoid this behaviour.\n",
      "Locating peaks...\n",
      "Saving peaks in resampled space...\n",
      "saving to output/Paraphronima_crassipes_f536_u1701837_head.logs_paraphronima_corneas_lightning_logs_version_13_checkpoints_last_x_3_y_3_z_3_average_threshold_0.25_prediction_peak_min_val_0_5_method_center_of_mass.resampled_space_peaks.csv\n",
      "Converting peaks to original image space...\n",
      "Resample ratio: 3.1768202046528278\n",
      "running inference with bbox if supplied\n",
      "Saving peaks in original image space...\n",
      "saving to output/Paraphronima_crassipes_f536_u1701837_head.logs_paraphronima_corneas_lightning_logs_version_13_checkpoints_last_x_3_y_3_z_3_average_threshold_0.25_prediction_peak_min_val_0_5_method_center_of_mass.peaks.csv\n",
      "[[ 185.41077922  240.28312821  751.75118116]\n",
      " [ 369.33871875  417.57833312  477.53747749]\n",
      " [ 380.93811689  444.43447703  455.0060804 ]\n",
      " [ 382.87743067  631.90483671  529.08175608]\n",
      " [ 391.67118781  620.86339387  504.06401231]\n",
      " [ 387.8608668   403.74496783  464.53775447]\n",
      " [ 386.38075739  599.62481363  490.42161909]\n",
      " [ 397.3378456   458.52104954  431.04743777]\n",
      " [ 398.37325366  656.54284229  552.81966261]\n",
      " [ 401.25004085  365.95203857  474.49339557]\n",
      " [ 404.83169639  606.93641271  469.25237002]\n",
      " [ 405.79585114  646.71902666  523.53138373]\n",
      " [ 404.4489223   425.19752927  435.32364367]\n",
      " [ 408.72679951  674.3522889   576.08746393]\n",
      " [ 413.53570664  477.24860074  399.18118572]\n",
      " [ 413.53122435  388.66126047  443.98331517]\n",
      " [ 417.39887689  634.21685586  486.75945136]\n",
      " [ 421.50154633  597.89318622  430.71953283]\n",
      " [ 424.49716009  673.22477488  548.37138903]\n",
      " [ 430.42101589  411.41092378  408.71698025]\n",
      " [ 432.56833803  623.38586639  446.31719924]\n",
      " [ 433.72672423  662.82084413  508.76775578]\n",
      " [ 430.89234049  350.02782619  455.44049661]\n",
      " [ 439.70316374  493.42267261  366.61025952]\n",
      " [ 440.01330596  697.66764912  604.11740638]\n",
      " [ 445.24357022  371.60650702  418.03695616]\n",
      " [ 443.00210026  468.30711638  372.67387366]\n",
      " [ 447.57866883  593.94771826  392.04314526]\n",
      " [ 449.32835429  654.5071213   466.22575141]\n",
      " [ 450.64866614  434.22116166  375.44998787]\n",
      " [ 451.48537993  613.77243242  407.87140763]\n",
      " [ 451.37320408  291.20851876  514.90960817]\n",
      " [ 458.43959261  691.19336642  538.17965952]\n",
      " [ 455.72687154  698.82035712  579.00885226]\n",
      " [ 462.2794188   394.02986342  382.26000495]\n",
      " [ 465.16418435  643.86603457  424.93969831]\n",
      " [ 468.78232795  488.33543259  341.70951976]\n",
      " [ 468.8015927   684.31795783  490.88490537]\n",
      " [ 468.05151015  331.44824135  432.04754783]\n",
      " [ 473.80004195  454.96603645  345.81957085]\n",
      " [ 478.15957444  602.77756701  369.13688105]\n",
      " [ 483.2085777   354.14432998  391.46011358]\n",
      " [ 483.33931483  417.55137797  350.28298121]\n",
      " [ 484.61781295  675.68522045  445.85449718]\n",
      " [ 487.78630233  632.33162164  385.62265257]\n",
      " [ 490.87545055  713.53650954  567.88497605]\n",
      " [ 495.58395193  260.29430064  543.44121114]\n",
      " [ 497.43709705  710.81352079  520.85143855]\n",
      " [ 498.97667253  503.35636641  309.38527644]\n",
      " [ 499.68037798  376.45319425  357.81027568]\n",
      " [ 505.134519    665.26234248  403.03393039]\n",
      " [ 498.76077213  476.5230307   317.68202047]\n",
      " [ 506.47590691  600.39065421  332.40317838]\n",
      " [ 511.11806428  705.36177425  471.73087819]\n",
      " [ 510.0733514   440.26079031  318.9992386 ]\n",
      " [ 511.46805295  313.14370589  411.85204796]\n",
      " [ 522.63579782  398.34881658  324.89095862]\n",
      " [ 524.47678386  725.33529928  640.83651953]\n",
      " [ 523.05410311  335.99545459  372.34201516]\n",
      " [ 528.05541951  652.72742464  365.18882032]\n",
      " [ 526.97956395  696.37075486  428.55696761]\n",
      " [ 533.37298465  729.51894071  607.46853399]\n",
      " [ 537.66623024  731.72758714  554.2068741 ]\n",
      " [ 541.99315144  259.80864369  487.98720796]\n",
      " [ 542.7980729   460.63892967  292.37700435]\n",
      " [ 545.67502606  684.20364044  386.60939218]\n",
      " [ 543.85397004  729.25672698  504.64377251]\n",
      " [ 547.04843924  357.78055105  334.27208153]\n",
      " [ 551.11601492  422.61052311  294.47877485]\n",
      " [ 547.68380328  243.97979172  541.96552691]\n",
      " [ 555.0358729   641.15039202  329.93546983]\n",
      " [ 555.74021932  723.40008244  458.47869194]\n",
      " [ 568.90839665  380.78912453  301.54033943]\n",
      " [ 571.41714883  672.3615032   348.89695607]\n",
      " [ 572.47158688  511.59684296  262.98919694]\n",
      " [ 572.83566633  714.14307274  412.55897773]\n",
      " [ 576.78347636  317.68202047  353.26240676]\n",
      " [ 580.37557574  601.30328822  282.70424749]\n",
      " [ 582.61832365  445.20115876  268.40192522]\n",
      " [ 583.37971031  742.13820573  599.30506874]\n",
      " [ 585.30350319  745.42548931  543.64616728]\n",
      " [ 588.08548141  732.67751867  654.8921416 ]\n",
      " [ 594.53408945  703.37924072  372.26083316]\n",
      " [ 594.68223656  744.94891653  494.44276409]\n",
      " [ 596.88028225  339.87954898  316.47563305]\n",
      " [ 600.07245648  406.25754381  271.24268511]\n",
      " [ 600.54441948  658.45868781  313.73189534]\n",
      " [ 605.71371902  738.61069758  443.69588858]\n",
      " [ 616.25348189  466.54582974  246.50139275]\n",
      " [ 615.95013968  277.7952779   382.63034465]\n",
      " [ 619.51409926  364.54865832  284.95735642]\n",
      " [ 621.50155276  689.61752884  333.60737889]\n",
      " [ 625.28108985  730.50289993  402.54455671]\n",
      " [ 630.39746286  428.33380027  248.77634279]\n",
      " [ 631.60609508  643.69350854  284.38352088]\n",
      " [ 632.18722073  300.20950934  341.508172  ]\n",
      " [ 640.81988433  751.66328494  592.40790686]\n",
      " [ 641.06040819  756.08320871  537.21125116]\n",
      " [ 647.24584878  388.77275292  257.97280922]\n",
      " [ 647.31891696  674.6980911   302.48762383]\n",
      " [ 648.63773155  718.33076395  361.00005721]\n",
      " [ 645.12470591  740.88972077  652.12291853]\n",
      " [ 649.54269111  325.90831278  304.64033752]\n",
      " [ 651.30590232  513.72070728  224.05246498]\n",
      " [ 649.65973185  756.08320871  486.05349131]\n",
      " [ 653.9711307   484.69199694  228.12594612]\n",
      " [ 656.51877548  602.22403016  246.78116953]\n",
      " [ 662.79247966  450.20080615  229.35507299]\n",
      " [ 665.05329446  628.56658005  258.7239749 ]\n",
      " [ 673.69144234  703.40405484  322.54068666]\n",
      " [ 663.95542277  751.84744843  439.46012831]\n",
      " [ 667.13224298  244.61515576  422.51708722]\n",
      " [ 676.56022552  350.98739358  270.33715161]\n",
      " [ 680.09926381  656.90248232  273.46627762]\n",
      " [ 682.16402638  416.60251952  231.41714662]\n",
      " [ 676.66270359  266.85289719  378.04160435]\n",
      " [ 682.5704745   741.09084669  392.97823268]\n",
      " [ 693.40540467  288.14617856  334.25300153]\n",
      " [ 700.42853575  687.35933871  293.69501727]\n",
      " [ 700.0917526   472.05562729  212.64840245]\n",
      " [ 704.63117951  376.11059599  244.64630105]\n",
      " [ 702.71262927  728.30047201  354.4176141 ]\n",
      " [ 701.09135551  755.53548109  586.83537367]\n",
      " [ 702.92441728  740.19910768  647.3300637 ]\n",
      " [ 704.80025398  761.5291862   533.40324008]\n",
      " [ 711.34661733  640.23806645  251.40397702]\n",
      " [ 710.76939829  437.7393507   216.81797897]\n",
      " [ 711.45644869  314.50520026  296.04938764]\n",
      " [ 731.36469195  667.57842559  264.74691526]\n",
      " [ 726.96235683  711.7706397   319.39261596]\n",
      " [ 724.31500666  221.31847426  469.11045022]\n",
      " [ 732.06334862  405.00583438  223.22973194]\n",
      " [ 730.66864707  236.44618952  421.38250857]\n",
      " [ 733.53225965  336.42973407  267.70303218]\n",
      " [ 735.36481607  600.62620261  221.44508666]\n",
      " [ 744.88073746  621.37488529  230.51453274]\n",
      " [ 743.37592789  257.32243658  374.86478415]\n",
      " [ 748.31764821  460.63892967  203.19883309]\n",
      " [ 757.06699819  694.55537481  286.67215615]\n",
      " [ 762.49954952  647.69511936  243.92545137]\n",
      " [ 757.89853454  280.92167238  332.20462712]\n",
      " [ 762.26035911  364.33421347  240.02641546]\n",
      " [ 765.12148591  425.60441953  208.64102274]\n",
      " [ 761.30227047  731.34939426  349.22330678]\n",
      " [ 765.8005411   706.93593142  719.83008402]\n",
      " [ 766.60642564  736.92301185  645.3908797 ]\n",
      " [ 767.48717867  753.39513007  588.93359179]\n",
      " [ 774.23646702  760.62152329  536.2018674 ]\n",
      " [ 775.14412994  306.56314975  295.44427903]\n",
      " [ 778.32095014  606.77265909  217.86298561]\n",
      " [ 782.2308827   653.6918498   811.06663533]\n",
      " [ 781.49777034  671.50037076  260.49925678]\n",
      " [ 786.79247069  715.06321449  316.34441196]\n",
      " [ 787.0572057   393.13150033  220.78900422]\n",
      " [ 794.41683918  626.68073237  226.82496261]\n",
      " [ 799.68232738  330.82748338  266.08607852]\n",
      " [ 813.67029496  693.87529306  284.5275696 ]\n",
      " [ 809.29494714  744.96433799  390.74888517]\n",
      " [ 817.55215838  651.04643908  242.1442956 ]\n",
      " [ 823.70409592  420.70176139  209.21630205]\n",
      " [ 830.07987445  730.7848722   351.54227484]\n",
      " [ 833.43878069  722.56775555  651.24814195]\n",
      " [ 839.47473908  750.92087587  536.48551206]\n",
      " [ 842.71265198  671.16436093  263.79826238]\n",
      " [ 848.74046468  389.16047507  226.08370456]\n",
      " [ 849.26993471  710.19580575  315.91712035]\n",
      " [ 860.91827546  331.97771139  273.2065376 ]\n",
      " [ 913.27697883  728.78608695  541.94199491]\n",
      " [ 920.41747054  225.55423453  672.42694332]\n",
      " [ 919.37176723  727.49182687  490.07746357]\n",
      " [ 934.22951095  222.8050632   640.86238359]\n",
      " [ 954.15425449  625.64888147  774.14675615]\n",
      " [ 963.81454753  231.020234    671.17334515]\n",
      " [ 966.41896169  643.98683863  743.19439531]\n",
      " [ 982.69638331  232.02553495  636.77596102]\n",
      " [ 989.79128176  653.78959812  706.52481351]\n",
      " [ 994.00435046  620.27414496  766.18095864]\n",
      " [ 995.16299593  672.81201243  643.69116056]\n",
      " [ 997.73333227  241.75601757  687.19915727]\n",
      " [1009.29021911  288.22423311  434.28576207]\n",
      " [1013.32204475  682.80734267  541.64784489]\n",
      " [1018.59445162  249.59217408  703.03031129]\n",
      " [1014.99405539  635.36404093  727.49182687]\n",
      " [1024.17584061  604.75809018  771.26995895]\n",
      " [1024.41862199  666.44393193  612.38504145]\n",
      " [1022.9361059   270.0297174   505.11441254]\n",
      " [1028.74514856  648.47977006  679.11339346]\n",
      " [1030.56047439  573.09836492  793.56968712]\n",
      " [1045.80921137  260.37218397  685.43072736]\n",
      " [1047.4557886   663.50798331  518.6270844 ]\n",
      " [1053.7133732   591.29659002  762.72830051]\n",
      " [1046.76225743  621.06835001  725.90341676]\n",
      " [1056.47663922  650.0442943   597.44283975]\n",
      " [1061.38658493  288.70722929  504.95009425]\n",
      " [1059.46953825  625.83358032  676.66270359]\n",
      " [1073.46267487  646.35684735  492.00372598]\n",
      " [1082.34264373  302.7509655   594.38306029]\n",
      " [1087.00885626  601.69799824  673.73342782]\n",
      " [1088.06092009  312.12258511  514.30449956]\n",
      " [1087.73315293  626.84209467  577.52574292]]\n"
     ]
    }
   ],
   "source": [
    "#Inference with 1 direction in x, y, and z\n",
    "# !python main.py infer configs/paraphronima_corneas.yaml -v '/media/jake/Dropbox_mirror/Smithsonian Dropbox/Jan Hemmi/hyperiid scans/Scans_nifti/Paraphronima_crassipes_f536_u1701837_head/Paraphronima_crassipes_f536_u1701837_head.nii' -m ./logs/paraphronima_corneas/lightning_logs/version_13/ -rr 3.1768202046528278 -nx 1 -ny 1 -nz 1\n",
    "\n",
    "# Inference in 3 directions with 0.25 threshold\n",
    "!python main.py infer configs/paraphronima_corneas.yaml -v '/media/jake/Dropbox_mirror/Smithsonian Dropbox/Jan Hemmi/hyperiid scans/Scans_nifti/Paraphronima_crassipes_f536_u1701837_head/Paraphronima_crassipes_f536_u1701837_head.nii' -m ./logs/paraphronima_corneas/lightning_logs/version_13/ -rr 3.1768202046528278 -nx 3 -ny 3 -nz 3 --average_threshold 0.25 -ipmv 0.25"
   ]
  },
  {
   "cell_type": "markdown",
   "id": "16",
   "metadata": {},
   "source": [
    "You can then try in more directions (3 direction in x, y, z is usually best) and modify parameters such as max filter (-mxf) (although this usually doesn't work well with Cystisoma), average threshold (-at), and peak minimum values (-ipmv)."
   ]
  },
  {
   "cell_type": "code",
   "execution_count": null,
   "id": "17",
   "metadata": {},
   "outputs": [],
   "source": [
    "#Attempts of inferences for 2nd scan (best model should be found on last commented line in this kernel)\n",
    "# !python main.py infer configs/cystisoma_corneas.yaml -v /media/jake/2tb_ssd/mctv_data/Cystisoma_Hawaii_FEG20190213_01_head/FEG20190213_010.nii -m ./logs/cystisoma_corneas/lightning_logs/version_13/ -rr 2.588516765563356 -nx 3 -ny 3 -nz 3 -ipmv 0.2 -at 1\n",
    "# !python main.py infer configs/cystisoma_corneas.yaml -v /media/jake/2tb_ssd/mctv_data/Cystisoma_Hawaii_FEG20190213_01_head/FEG20190213_010.nii -m ./logs/cystisoma_corneas/lightning_logs/version_13/ -rr 2.588516765563356 -nx 3 -ny 3 -nz 3 -ipmv 0.2 -at 1.5\n",
    "# !python main.py infer configs/cystisoma_corneas.yaml -v /media/jake/2tb_ssd/mctv_data/Cystisoma_Hawaii_FEG20190213_01_head/FEG20190213_010.nii -m ./logs/cystisoma_corneas/lightning_logs/version_13/ -rr 2.588516765563356 -nx 3 -ny 3 -nz 3 -ipmv 0.2 -at 2\n",
    "# !python main.py infer configs/cystisoma_corneas.yaml -v /media/jake/2tb_ssd/mctv_data/Cystisoma_Hawaii_FEG20190213_01_head/FEG20190213_010.nii -m ./logs/cystisoma_corneas/lightning_logs/version_13/ -rr 2.588516765563356 -nx 3 -ny 3 -nz 3 -ipmv 0.2 -at 0.5\n",
    "#!python main.py infer configs/cystisoma_corneas.yaml -v /media/jake/2tb_ssd/mctv_data/Cystisoma_Hawaii_FEG20190213_01_head/FEG20190213_010.nii -m ./logs/cystisoma_corneas/lightning_logs/version_13/ -rr 2.588516765563356 -nx 3 -ny 3 -nz 3 -ipmv 0.2 -at 0.5 --infer_with_max_filter_fun\n",
    "#!python main.py infer configs/cystisoma_corneas.yaml -v /media/jake/2tb_ssd/mctv_data/Cystisoma_Hawaii_FEG20190213_01_head/FEG20190213_010.nii -m ./logs/cystisoma_corneas/lightning_logs/version_13/ -rr 2.588516765563356 -nx 3 -ny 3 -nz 3 -ipmv 0.5 -at 0.5 \n",
    "#!python main.py infer configs/cystisoma_corneas.yaml -v /media/jake/2tb_ssd/mctv_data/Cystisoma_Hawaii_FEG20190213_01_head/FEG20190213_010.nii -m ./logs/cystisoma_corneas/lightning_logs/version_13/ -rr 2.588516765563356 -nx 3 -ny 3 -nz 3 -ipmv 0.4 -at 0.5 \n",
    "#!python main.py infer configs/cystisoma_corneas.yaml -v /media/jake/2tb_ssd/mctv_data/Cystisoma_Hawaii_FEG20190213_01_head/FEG20190213_010.nii -m ./logs/cystisoma_corneas/lightning_logs/version_13/ -rr 2.588516765563356 -nx 3 -ny 3 -nz 3 -ipmv 0.3 -at 0.5 \n",
    "#!python main.py infer configs/cystisoma_corneas.yaml -v /media/jake/2tb_ssd/mctv_data/Cystisoma_Hawaii_FEG20190213_01_head/FEG20190213_010.nii -m ./logs/cystisoma_corneas/lightning_logs/version_13/ -rr 2.588516765563356 -nx 3 -ny 3 -nz 3 -ipmv 0.5 -at 0.5 --infer_with_max_filter_fun\n",
    "#!python main.py infer configs/cystisoma_corneas.yaml -v /media/jake/2tb_ssd/mctv_data/Cystisoma_Hawaii_FEG20190213_01_head/FEG20190213_010.nii -m ./logs/cystisoma_corneas/lightning_logs/version_13/ -rr 2.588516765563356 -nx 3 -ny 3 -nz 3 -ipmv 0.4 -at 0.5 --infer_with_max_filter_fun\n",
    "#!python main.py infer configs/cystisoma_corneas.yaml -v /media/jake/2tb_ssd/mctv_data/Cystisoma_Hawaii_FEG20190213_01_head/FEG20190213_010.nii -m ./logs/cystisoma_corneas/lightning_logs/version_13/ -rr 2.588516765563356 -nx 3 -ny 3 -nz 3 -ipmv 0.3 -at 0.5 --infer_with_max_filter_fun\n",
    "#!python main.py infer configs/cystisoma_corneas.yaml -v /media/jake/2tb_ssd/mctv_data/Cystisoma_Hawaii_FEG20190213_01_head/FEG20190213_010.nii -m ./logs/cystisoma_corneas/lightning_logs/version_13/ -rr 2.588516765563356 -nx 3 -ny 3 -nz 3 -ipmv 0.5 -at 0.01 \n",
    "#!python main.py infer configs/cystisoma_corneas.yaml -v /media/jake/2tb_ssd/mctv_data/Cystisoma_Hawaii_FEG20190213_01_head/FEG20190213_010.nii -m ./logs/cystisoma_corneas/lightning_logs/version_13/ -rr 2.588516765563356 -nx 3 -ny 3 -nz 3 -ipmv 0.4 -at 0.02\n",
    "#!python main.py infer configs/cystisoma_corneas.yaml -v /media/jake/2tb_ssd/mctv_data/Cystisoma_Hawaii_FEG20190213_01_head/FEG20190213_010.nii -m ./logs/cystisoma_corneas/lightning_logs/version_13/ -rr 2.588516765563356 -nx 3 -ny 3 -nz 3 -ipmv 0.3 -at 0.03\n",
    "#!python main.py infer configs/cystisoma_corneas.yaml -v /media/jake/2tb_ssd/mctv_data/Cystisoma_Hawaii_FEG20190213_01_head/FEG20190213_010.nii -m ./logs/cystisoma_corneas/lightning_logs/version_13/ -rr 2.588516765563356 -nx 3 -ny 3 -nz 3 -ipmv 0.5 -at 0.04 \n",
    "#!python main.py infer configs/cystisoma_corneas.yaml -v /media/jake/2tb_ssd/mctv_data/Cystisoma_Hawaii_FEG20190213_01_head/FEG20190213_010.nii -m ./logs/cystisoma_corneas/lightning_logs/version_13/ -rr 2.588516765563356 -nx 3 -ny 3 -nz 3 -ipmv 0.4 -at 0.05\n",
    "#!python main.py infer configs/cystisoma_corneas.yaml -v /media/jake/2tb_ssd/mctv_data/Cystisoma_Hawaii_FEG20190213_01_head/FEG20190213_010.nii -m ./logs/cystisoma_corneas/lightning_logs/version_13/ -rr 2.588516765563356 -nx 3 -ny 3 -nz 3 -ipmv 0.3 -at 0.1\n",
    "#!python main.py infer configs/cystisoma_corneas.yaml -v /media/jake/2tb_ssd/mctv_data/Cystisoma_Hawaii_FEG20190213_01_head/FEG20190213_010.nii -m ./logs/cystisoma_corneas/lightning_logs/version_13/ -rr 2.588516765563356 -nx 3 -ny 3 -nz 3 -ipmv 0.5 -at 0.2 \n",
    "#!python main.py infer configs/cystisoma_corneas.yaml -v /media/jake/2tb_ssd/mctv_data/Cystisoma_Hawaii_FEG20190213_01_head/FEG20190213_010.nii -m ./logs/cystisoma_corneas/lightning_logs/version_13/ -rr 2.588516765563356 -nx 3 -ny 3 -nz 3 -ipmv 0.4 -at 0.3 \n",
    "#!python main.py infer configs/cystisoma_corneas.yaml -v /media/jake/2tb_ssd/mctv_data/Cystisoma_Hawaii_FEG20190213_01_head/FEG20190213_010.nii -m ./logs/cystisoma_corneas/lightning_logs/version_13/ -rr 2.588516765563356 -nx 3 -ny 3 -nz 3 -ipmv 0.3 -at 0.4\n",
    "#!python main.py infer configs/cystisoma_corneas.yaml -v /media/jake/2tb_ssd/mctv_data/Cystisoma_Hawaii_FEG20190213_01_head/FEG20190213_010.nii -m ./logs/cystisoma_corneas/lightning_logs/version_13/ -rr 2.588516765563356 -nx 3 -ny 3 -nz 3 -ipmv 0.3 -at 0.5 --infer_with_max_filter_fun\n",
    "#!python main.py infer configs/cystisoma_corneas.yaml -v /media/jake/2tb_ssd/mctv_data/Cystisoma_Hawaii_FEG20190213_01_head/FEG20190213_010.nii -m ./logs/cystisoma_corneas/lightning_logs/version_13/ -rr 2.588516765563356 -nx 3 -ny 3 -nz 3 -ipmv 0.2 -at 0.02 --infer_with_max_filter_fun\n",
    "#!python main.py infer configs/cystisoma_corneas.yaml -v /media/jake/2tb_ssd/mctv_data/Cystisoma_Hawaii_FEG20190213_01_head/FEG20190213_010.nii -m ./logs/cystisoma_corneas/lightning_logs/version_13/ -rr 2.588516765563356 -nx 3 -ny 3 -nz 3 -ipmv 0.15 -at 0.02 --infer_with_max_filter_fun\n",
    "# !python main.py infer configs/cystisoma_corneas.yaml -v /media/jake/2tb_ssd/mctv_data/Cystisoma_Hawaii_FEG20190213_01_head/FEG20190213_010.nii -m ./logs/cystisoma_corneas/lightning_logs/version_13/ -rr 2.588516765563356 -nx 3 -ny 3 -nz 3 -ipmv 0.1 -at 0.02 --infer_with_max_filter_fun\n",
    "# !python main.py infer configs/cystisoma_corneas.yaml -v /media/jake/2tb_ssd/mctv_data/Cystisoma_Hawaii_FEG20190213_01_head/FEG20190213_010.nii -m ./logs/cystisoma_corneas/lightning_logs/version_13/ -rr 2.588516765563356 -nx 3 -ny 3 -nz 3 -ipmv 0.2 -at 0.03 --infer_with_max_filter_fun\n",
    "# !python main.py infer configs/cystisoma_corneas.yaml -v /media/jake/2tb_ssd/mctv_data/Cystisoma_Hawaii_FEG20190213_01_head/FEG20190213_010.nii -m ./logs/cystisoma_corneas/lightning_logs/version_13/ -rr 2.588516765563356 -nx 3 -ny 3 -nz 3 -ipmv 0.15 -at 0.03 --infer_with_max_filter_fun\n",
    "# !python main.py infer configs/cystisoma_corneas.yaml -v /media/jake/2tb_ssd/mctv_data/Cystisoma_Hawaii_FEG20190213_01_head/FEG20190213_010.nii -m ./logs/cystisoma_corneas/lightning_logs/version_13/ -rr 2.588516765563356 -nx 3 -ny 3 -nz 3 -ipmv 0.1 -at 0.03 --infer_with_max_filter_fun\n",
    "# !python main.py infer configs/cystisoma_corneas.yaml -v /media/jake/2tb_ssd/mctv_data/Cystisoma_Hawaii_FEG20190213_01_head/FEG20190213_010.nii -m ./logs/cystisoma_corneas/lightning_logs/version_13/ -rr 2.588516765563356 -nx 3 -ny 3 -nz 3 -ipmv 0.2 -at 0.02 \n",
    "# !python main.py infer configs/cystisoma_corneas.yaml -v /media/jake/2tb_ssd/mctv_data/Cystisoma_Hawaii_FEG20190213_01_head/FEG20190213_010.nii -m ./logs/cystisoma_corneas/lightning_logs/version_13/ -rr 2.588516765563356 -nx 3 -ny 3 -nz 3 -ipmv 0.15 -at 0.02 \n",
    "# !python main.py infer configs/cystisoma_corneas.yaml -v /media/jake/2tb_ssd/mctv_data/Cystisoma_Hawaii_FEG20190213_01_head/FEG20190213_010.nii -m ./logs/cystisoma_corneas/lightning_logs/version_13/ -rr 2.588516765563356 -nx 3 -ny 3 -nz 3 -ipmv 0.1 -at 0.02 \n",
    "# !python main.py infer configs/cystisoma_corneas.yaml -v /media/jake/2tb_ssd/mctv_data/Cystisoma_Hawaii_FEG20190213_01_head/FEG20190213_010.nii -m ./logs/cystisoma_corneas/lightning_logs/version_13/ -rr 2.588516765563356 -nx 3 -ny 3 -nz 3 -ipmv 0.2 -at 0.03 \n",
    "# !python main.py infer configs/cystisoma_corneas.yaml -v /media/jake/2tb_ssd/mctv_data/Cystisoma_Hawaii_FEG20190213_01_head/FEG20190213_010.nii -m ./logs/cystisoma_corneas/lightning_logs/version_13/ -rr 2.588516765563356 -nx 3 -ny 3 -nz 3 -ipmv 0.15 -at 0.03 \n",
    "# !python main.py infer configs/cystisoma_corneas.yaml -v /media/jake/2tb_ssd/mctv_data/Cystisoma_Hawaii_FEG20190213_01_head/FEG20190213_010.nii -m ./logs/cystisoma_corneas/lightning_logs/version_13/ -rr 2.588516765563356 -nx 3 -ny 3 -nz 3 -ipmv 0.1 -at 0.03 \n",
    "# !python main.py infer configs/cystisoma_corneas.yaml -v /media/jake/2tb_ssd/mctv_data/Cystisoma_Hawaii_FEG20190213_01_head/FEG20190213_010.nii -m ./logs/cystisoma_corneas/lightning_logs/version_13/ -rr 2.588516765563356 -nx 3 -ny 3 -nz 3 -ipmv 0.2 -at 0.01 --infer_with_max_filter_fun\n",
    "# !python main.py infer configs/cystisoma_corneas.yaml -v /media/jake/2tb_ssd/mctv_data/Cystisoma_Hawaii_FEG20190213_01_head/FEG20190213_010.nii -m ./logs/cystisoma_corneas/lightning_logs/version_13/ -rr 2.588516765563356 -nx 3 -ny 3 -nz 3 -ipmv 0.15 -at 0.01 --infer_with_max_filter_fun\n",
    "# !python main.py infer configs/cystisoma_corneas.yaml -v /media/jake/2tb_ssd/mctv_data/Cystisoma_Hawaii_FEG20190213_01_head/FEG20190213_010.nii -m ./logs/cystisoma_corneas/lightning_logs/version_13/ -rr 2.588516765563356 -nx 3 -ny 3 -nz 3 -ipmv 0.1 -at 0.01 --infer_with_max_filter_fun\n",
    "# !python main.py infer configs/cystisoma_corneas.yaml -v /media/jake/2tb_ssd/mctv_data/Cystisoma_Hawaii_FEG20190213_01_head/FEG20190213_010.nii -m ./logs/cystisoma_corneas/lightning_logs/version_13/ -rr 2.588516765563356 -nx 3 -ny 3 -nz 3 -ipmv 0.2 -at 0.01 \n",
    "# !python main.py infer configs/cystisoma_corneas.yaml -v /media/jake/2tb_ssd/mctv_data/Cystisoma_Hawaii_FEG20190213_01_head/FEG20190213_010.nii -m ./logs/cystisoma_corneas/lightning_logs/version_13/ -rr 2.588516765563356 -nx 3 -ny 3 -nz 3 -ipmv 0.15 -at 0.01 \n",
    "# !python main.py infer configs/cystisoma_corneas.yaml -v /media/jake/2tb_ssd/mctv_data/Cystisoma_Hawaii_FEG20190213_01_head/FEG20190213_010.nii -m ./logs/cystisoma_corneas/lightning_logs/version_13/ -rr 2.588516765563356 -nx 3 -ny 3 -nz 3 -ipmv 0.1 -at 0.01\n",
    "# !python main.py infer configs/cystisoma_corneas.yaml -v /media/jake/2tb_ssd/mctv_data/Cystisoma_Hawaii_FEG20190213_01_head/FEG20190213_010.nii -m ./logs/cystisoma_corneas/lightning_logs/version_13/ -rr 2.588516765563356 -nx 3 -ny 3 -nz 3 -ipmv 0.5 -at 0.02 --infer_with_max_filter_fun\n",
    "# !python main.py infer configs/cystisoma_corneas.yaml -v /media/jake/2tb_ssd/mctv_data/Cystisoma_Hawaii_FEG20190213_01_head/FEG20190213_010.nii -m ./logs/cystisoma_corneas/lightning_logs/version_13/ -rr 2.588516765563356 -nx 3 -ny 3 -nz 3 -ipmv 0.4 -at 0.02 --infer_with_max_filter_fun\n",
    "# !python main.py infer configs/cystisoma_corneas.yaml -v /media/jake/2tb_ssd/mctv_data/Cystisoma_Hawaii_FEG20190213_01_head/FEG20190213_010.nii -m ./logs/cystisoma_corneas/lightning_logs/version_13/ -rr 2.588516765563356 -nx 3 -ny 3 -nz 3 -ipmv 0.3 -at 0.02 --infer_with_max_filter_fun\n",
    "# !python main.py infer configs/cystisoma_corneas.yaml -v /media/jake/2tb_ssd/mctv_data/Cystisoma_Hawaii_FEG20190213_01_head/FEG20190213_010.nii -m ./logs/cystisoma_corneas/lightning_logs/version_13/ -rr 2.588516765563356 -nx 3 -ny 3 -nz 3 -ipmv 0.5 -at 0.02 \n",
    "# !python main.py infer configs/cystisoma_corneas.yaml -v /media/jake/2tb_ssd/mctv_data/Cystisoma_Hawaii_FEG20190213_01_head/FEG20190213_010.nii -m ./logs/cystisoma_corneas/lightning_logs/version_13/ -rr 2.588516765563356 -nx 3 -ny 3 -nz 3 -ipmv 0.4 -at 0.02 \n",
    "# !python main.py infer configs/cystisoma_corneas.yaml -v /media/jake/2tb_ssd/mctv_data/Cystisoma_Hawaii_FEG20190213_01_head/FEG20190213_010.nii -m ./logs/cystisoma_corneas/lightning_logs/version_13/ -rr 2.588516765563356 -nx 3 -ny 3 -nz 3 -ipmv 0.3 -at 0.02\n",
    "# !python main.py infer configs/cystisoma_corneas.yaml -v /media/jake/2tb_ssd/mctv_data/Cystisoma_Hawaii_FEG20190213_01_head/FEG20190213_010.nii -m ./logs/cystisoma_corneas/lightning_logs/version_13/ -rr 2.588516765563356 -nx 3 -ny 3 -nz 3 -ipmv 0.5 -at 0.4 --infer_with_max_filter_fun\n",
    "# !python main.py infer configs/cystisoma_corneas.yaml -v /media/jake/2tb_ssd/mctv_data/Cystisoma_Hawaii_FEG20190213_01_head/FEG20190213_010.nii -m ./logs/cystisoma_corneas/lightning_logs/version_13/ -rr 2.588516765563356 -nx 3 -ny 3 -nz 3 -ipmv 0.5 -at 0.3 --infer_with_max_filter_fun\n",
    "# !python main.py infer configs/cystisoma_corneas.yaml -v /media/jake/2tb_ssd/mctv_data/Cystisoma_Hawaii_FEG20190213_01_head/FEG20190213_010.nii -m ./logs/cystisoma_corneas/lightning_logs/version_13/ -rr 2.588516765563356 -nx 3 -ny 3 -nz 3 -ipmv 0.5 -at 0.2 --infer_with_max_filter_fun\n",
    "# !python main.py infer configs/cystisoma_corneas.yaml -v /media/jake/2tb_ssd/mctv_data/Cystisoma_Hawaii_FEG20190213_01_head/FEG20190213_010.nii -m ./logs/cystisoma_corneas/lightning_logs/version_13/ -rr 2.588516765563356 -nx 3 -ny 3 -nz 3 -ipmv 0.5 -at 0.1 --infer_with_max_filter_fun\n",
    "# !python main.py infer configs/cystisoma_corneas.yaml -v /media/jake/2tb_ssd/mctv_data/Cystisoma_Hawaii_FEG20190213_01_head/FEG20190213_010.nii -m ./logs/cystisoma_corneas/lightning_logs/version_13/ -rr 2.588516765563356 -nx 3 -ny 3 -nz 3 -ipmv 0.5 -at 0.05 --infer_with_max_filter_fun\n",
    "\n",
    "\n",
    "#Best inference for 2nd scan\n",
    "#!python main.py infer configs/cystisoma_corneas.yaml -v /media/jake/2tb_ssd/mctv_data/Cystisoma_Hawaii_FEG20190213_01_head/FEG20190213_010.nii -m ./logs/cystisoma_corneas/lightning_logs/version_13/ -rr 2.588516765563356 -nx 3 -ny 3 -nz 3 -ipmv 0.5 -at 0.5 "
   ]
  },
  {
   "cell_type": "code",
   "execution_count": null,
   "id": "18",
   "metadata": {},
   "outputs": [],
   "source": [
    "#Scan 3 (not used)\n",
    "# !python main.py infer configs/cystisoma_corneas.yaml -v '/media/jake/2tb_ssd/mctv_data/Cystisoma_sp_FEG221129_366/FEG221129_366.nii' -m ./logs/cystisoma_corneas/lightning_logs/version_14/ -rr 2.3151474885249055 -nx 3 -ny 3 -nz 3 -ipmv 0.5 -at 0.5"
   ]
  },
  {
   "cell_type": "markdown",
   "id": "19",
   "metadata": {},
   "source": [
    "You can then view your inference in napari. It might be useful to you, especially if you are trying many inferences with modified parameters, to evalute the performance of each and track estimated % of correct and incorrect inference points in an Excel spreadsheet for example."
   ]
  },
  {
   "cell_type": "code",
   "execution_count": null,
   "id": "20",
   "metadata": {},
   "outputs": [
    {
     "data": {
      "text/plain": [
       "<Points layer 'Points' at 0x7fe27819ee30>"
      ]
     },
     "execution_count": 10,
     "metadata": {},
     "output_type": "execute_result"
    }
   ],
   "source": [
    "import napari\n",
    "import numpy as np\n",
    "import torchio as tio\n",
    "\n",
    "\n",
    "image = tio.ScalarImage(image_path)\n",
    "\n",
    "heatmap_path = './output/Paraphronima_crassipes_f536_u1701837_head.logs_paraphronima_corneas_lightning_logs_version_13_checkpoints_last_x_3_y_3_z_3_average_threshold_0.25_prediction.nii'\n",
    "#Make sure to use resampled space csv here.\n",
    "y_hat_path = 'output/Paraphronima_crassipes_f536_u1701837_head.logs_paraphronima_corneas_lightning_logs_version_13_checkpoints_last_x_3_y_3_z_3_average_threshold_0.25_prediction_peak_min_val_0_25_method_center_of_mass.resampled_space_peaks.csv'\n",
    "\n",
    "heatmap = tio.ScalarImage(heatmap_path)\n",
    "\n",
    "\n",
    "viewer = napari.view_image(heatmap.numpy(), name='heatmap', contrast_limits=[0, 1])\n",
    "#viewer.add_image(image.numpy(), name='image')\n",
    "\n",
    "# load the coordinates to analyse\n",
    "def load_coordinates(path, flip_axes=False, mct_path=None):\n",
    "    locations = np.loadtxt(\n",
    "        path,\n",
    "        delimiter=',',\n",
    "        ndmin=2,\n",
    "        dtype=np.float64\n",
    "    )\n",
    "    if not flip_axes: \n",
    "        return locations.tolist()\n",
    "\n",
    "    if not mct_path:\n",
    "        raise Exception('You must specify `mct_path` if you need to flip_axes')\n",
    "\n",
    "    mct = tio.ScalarImage(mct_path)\n",
    "    locations[:,0] = mct.shape[1] - locations[:,0]\n",
    "    locations[:,1] = mct.shape[2] - locations[:,1]\n",
    "\n",
    "    return locations.tolist()\n",
    "\n",
    "\n",
    "y_hat = load_coordinates(y_hat_path)\n",
    "\n",
    "\n",
    "viewer.add_points(y_hat)\n"
   ]
  },
  {
   "cell_type": "markdown",
   "id": "21",
   "metadata": {},
   "source": [
    "## Modifying inference"
   ]
  },
  {
   "cell_type": "markdown",
   "id": "22",
   "metadata": {},
   "source": [
    "In software such as MatLab you can modify the inference made from your model by adding and deleting points. This will be useful in retraining your model later."
   ]
  },
  {
   "cell_type": "markdown",
   "id": "23",
   "metadata": {},
   "source": [
    "##  (Re)training "
   ]
  },
  {
   "cell_type": "code",
   "execution_count": null,
   "id": "24",
   "metadata": {},
   "outputs": [],
   "source": [
    "# We trained this model on a single scan, ran inference on it and then manually checked the labels. Now we are adding that labelled data to the dataset and retraining the model\n",
    "# python check_data.py configs/cystisoma_corneas.yaml\n",
    "# after updating the config to train for another 100,000 steps\n",
    "# and changing the sigma from 2.5 to 2 (to suit the new data)\n",
    "!python main.py train configs/cystisoma_corneas.yaml -w ./logs/cystisoma_corneas/lightning_logs/version_13/checkpoints/epoch=2809-step=699520.ckpt -ne 10"
   ]
  },
  {
   "cell_type": "markdown",
   "id": "25",
   "metadata": {},
   "source": [
    "# Cystisoma rhabdoms"
   ]
  },
  {
   "cell_type": "markdown",
   "id": "26",
   "metadata": {},
   "source": [
    "## Checking"
   ]
  },
  {
   "cell_type": "markdown",
   "id": "27",
   "metadata": {},
   "source": [
    "Check hyperparameters for heatmap. Modify these need be."
   ]
  },
  {
   "cell_type": "code",
   "execution_count": null,
   "id": "28",
   "metadata": {},
   "outputs": [],
   "source": [
    "!python check_data.py ./configs/cystisoma_rhabdoms.yaml"
   ]
  },
  {
   "cell_type": "code",
   "execution_count": null,
   "id": "29",
   "metadata": {},
   "outputs": [],
   "source": [
    "!python check_data.py -h"
   ]
  },
  {
   "cell_type": "markdown",
   "id": "30",
   "metadata": {},
   "source": [
    "## (Re)training"
   ]
  },
  {
   "cell_type": "markdown",
   "id": "31",
   "metadata": {},
   "source": [
    "After you finsihing checking the model you can train the model to rhabdoms and extend number of steps. "
   ]
  },
  {
   "cell_type": "code",
   "execution_count": null,
   "id": "32",
   "metadata": {},
   "outputs": [],
   "source": [
    "#If you want to see all arguments \n",
    "!python main.py train -h"
   ]
  },
  {
   "cell_type": "markdown",
   "id": "33",
   "metadata": {},
   "source": [
    "You can try training multiple models with different starting weights if necessary."
   ]
  },
  {
   "cell_type": "code",
   "execution_count": null,
   "id": "34",
   "metadata": {},
   "outputs": [],
   "source": [
    "# !python main.py train configs/cystisoma_rhabdoms.yaml -w /home/jake/projects/dhr/logs/paraphronima_rhabdoms/lightning_logs/version_23/checkpoints/epoch=99-step=537600-v1.ckpt -ne 10\n",
    "# !python main.py train configs/cystisoma_rhabdoms.yaml -w ./logs/paraphronima_rhabdoms_from_pretrained/lightning_logs/version_1/checkpoints/epoch=149-step=900000.ckpt #version_19\n",
    "# !python main.py train ./configs/cystisoma_rhabdoms.yaml -w ./logs/fiddlercrab_rhabdoms_from_pretrained/lightning_logs/version_1/checkpoints/epoch=123-step=865024.ckpt #version_20 (have not run)\n",
    "# !python main.py train ./configs/cystisoma_rhabdoms.yaml -w ./logs/cystisoma_rhabdoms/lightning_logs/version_13/checkpoints/epoch=62679-step=4971328.ckpt -ne 10 #version_21 (have not run)"
   ]
  },
  {
   "cell_type": "markdown",
   "id": "35",
   "metadata": {},
   "source": [
    "## Inference"
   ]
  },
  {
   "cell_type": "markdown",
   "id": "36",
   "metadata": {},
   "source": [
    "First open your heatmap in napari. Use the point selector to select some neighbouring rhabdoms and create a csv file of these selected points. You will use this to make your resampling ratio."
   ]
  },
  {
   "cell_type": "code",
   "execution_count": null,
   "id": "37",
   "metadata": {},
   "outputs": [],
   "source": [
    "# load in the nifti file with torchio\n",
    "# 2nd scan\n",
    "image_path = '/media/jake/2tb_ssd/mctv_data/Cystisoma_Hawaii_FEG20190213_01_head/FEG20190213_010.nii'\n",
    "\n",
    "image = tio.ScalarImage(image_path)\n"
   ]
  },
  {
   "cell_type": "code",
   "execution_count": null,
   "id": "38",
   "metadata": {},
   "outputs": [],
   "source": [
    "image"
   ]
  },
  {
   "cell_type": "code",
   "execution_count": null,
   "id": "39",
   "metadata": {},
   "outputs": [],
   "source": [
    "# view file with napari\n",
    "import napari\n",
    "\n",
    "\n",
    "viewer = napari.view_image(image.numpy(), name='image')\n"
   ]
  },
  {
   "cell_type": "markdown",
   "id": "40",
   "metadata": {},
   "source": [
    "In napari, label a few of the features (that are next to each other) to estimate the resample ratio, then save it as a csv file and load it in the next step\n"
   ]
  },
  {
   "cell_type": "code",
   "execution_count": null,
   "id": "41",
   "metadata": {},
   "outputs": [],
   "source": [
    "import pandas as pd\n",
    "\n",
    "#Read in your csv and assign it to the variable RR\n",
    "# 2nd scan\n",
    "RR = pd.read_csv('/home/jake/projects/dhr/Cystisoma_Hawaii_FEG20190213_rhabdoms_estimating_resampling_ratio.csv')\n",
    "\n",
    "RR"
   ]
  },
  {
   "cell_type": "code",
   "execution_count": null,
   "id": "42",
   "metadata": {},
   "outputs": [],
   "source": [
    "from scipy.spatial import distance_matrix\n",
    "\n",
    "coordinates = RR[['axis-1', 'axis-2', 'axis-3']].values\n",
    "dist_matrix = distance_matrix(coordinates, coordinates) #Create a distance matrix between points"
   ]
  },
  {
   "cell_type": "code",
   "execution_count": null,
   "id": "43",
   "metadata": {},
   "outputs": [],
   "source": [
    "import numpy as np\n",
    "np.fill_diagonal(dist_matrix, np.inf)\n",
    "\n",
    "# Find the nearest neighbor distance for each point\n",
    "nearest_distances = np.min(dist_matrix, axis=1)\n",
    "\n",
    "# Add the nearest distances to the dataframe\n",
    "RR['nearest_distance'] = nearest_distances\n",
    "RR"
   ]
  },
  {
   "cell_type": "code",
   "execution_count": null,
   "id": "44",
   "metadata": {},
   "outputs": [],
   "source": [
    "mean_nearest_distance = RR['nearest_distance'].mean()\n",
    "mean_nearest_distance\n",
    "resample_ratio = mean_nearest_distance/10\n",
    "resample_ratio #Print your RR; use this to make your inference "
   ]
  },
  {
   "cell_type": "markdown",
   "id": "45",
   "metadata": {},
   "source": [
    "Now you can make your inference. Make sure you have the correct yaml, scan and model path, and have inserted your new resampling ratio. This will produce 3 files: 2 csv files (one resampled and the other not) with the predicted points, and a nifty file with your heatmap."
   ]
  },
  {
   "cell_type": "code",
   "execution_count": null,
   "id": "46",
   "metadata": {},
   "outputs": [],
   "source": [
    "# Me trying different inferences on version_17 \n",
    "# Note:(-w for version_17 was cystisoma rhabdoms version_13 and starting sigma was only 2)\n",
    "# !python main.py infer configs/cystisoma_rhabdoms.yaml -v '/media/jake/2tb_ssd/mctv_data/Cystisoma_Hawaii_FEG20190213_01_head/FEG20190213_010.nii' -m ./logs/cystisoma_rhabdoms/lightning_logs/version_17/ -rr 2.152958176307709 -nx 1 -ny 1 -nz 1 -ipmv 0.2 -at 0.2\n",
    "# !python main.py infer configs/cystisoma_rhabdoms.yaml -v '/media/jake/2tb_ssd/mctv_data/Cystisoma_Hawaii_FEG20190213_01_head/FEG20190213_010.nii' -m ./logs/cystisoma_rhabdoms/lightning_logs/version_17/ -rr 2.152958176307709 -nx 1 -ny 1 -nz 1 -ipmv 0.3 -at 0.3\n",
    "# !python main.py infer configs/cystisoma_rhabdoms.yaml -v '/media/jake/2tb_ssd/mctv_data/Cystisoma_Hawaii_FEG20190213_01_head/FEG20190213_010.nii' -m ./logs/cystisoma_rhabdoms/lightning_logs/version_17/ -rr 2.152958176307709 -nx 1 -ny 1 -nz 1 -ipmv 0.4 -at 0.4\n",
    "!python main.py infer configs/cystisoma_rhabdoms.yaml -v '/media/jake/2tb_ssd/mctv_data/Cystisoma_Hawaii_FEG20190213_01_head/FEG20190213_010.nii' -m ./logs/cystisoma_rhabdoms/lightning_logs/version_17/ -rr 2.152958176307709 -nx 3 -ny 3 -nz 3 -ipmv 0.2 -at 0.2"
   ]
  },
  {
   "cell_type": "code",
   "execution_count": null,
   "id": "47",
   "metadata": {},
   "outputs": [],
   "source": []
  },
  {
   "cell_type": "code",
   "execution_count": null,
   "id": "48",
   "metadata": {},
   "outputs": [],
   "source": [
    "# Me trying different inferences for version_19 \n",
    "# (Note:-w for version_19 was paraphronima_rhabdoms_from_pretrainied version_1 and starting sigma was changed to 4)\n",
    "# !python main.py infer configs/cystisoma_rhabdoms.yaml -v '/media/jake/2tb_ssd/mctv_data/Cystisoma_Hawaii_FEG20190213_01_head/FEG20190213_010.nii' -m ./logs/cystisoma_rhabdoms/lightning_logs/version_19/ -rr 2.152958176307709 -nx 1 -ny 1 -nz 1 -ipmv 0.5 -at 0.5\n",
    "# !python main.py infer configs/cystisoma_rhabdoms.yaml -v '/media/jake/2tb_ssd/mctv_data/Cystisoma_Hawaii_FEG20190213_01_head/FEG20190213_010.nii' -m ./logs/cystisoma_rhabdoms/lightning_logs/version_19/ -rr 2.152958176307709 -nx 1 -ny 1 -nz 1 -ipmv 0.2 -at 0.2\n",
    "# !python main.py infer configs/cystisoma_rhabdoms.yaml -v '/media/jake/2tb_ssd/mctv_data/Cystisoma_Hawaii_FEG20190213_01_head/FEG20190213_010.nii' -m ./logs/cystisoma_rhabdoms/lightning_logs/version_19/ -rr 2.152958176307709 -nx 1 -ny 1 -nz 1 -ipmv 0.3 -at 0.3\n",
    "# !python main.py infer configs/cystisoma_rhabdoms.yaml -v '/media/jake/2tb_ssd/mctv_data/Cystisoma_Hawaii_FEG20190213_01_head/FEG20190213_010.nii' -m ./logs/cystisoma_rhabdoms/lightning_logs/version_19/ -rr 2.152958176307709 -nx 2 -ny 2 -nz 2 -ipmv 0.5 -at 0.5\n",
    "# !python main.py infer configs/cystisoma_rhabdoms.yaml -v '/media/jake/2tb_ssd/mctv_data/Cystisoma_Hawaii_FEG20190213_01_head/FEG20190213_010.nii' -m ./logs/cystisoma_rhabdoms/lightning_logs/version_19/ -rr 2.152958176307709 -nx 3 -ny 3 -nz 3 -ipmv 0.3 -at 0.4\n",
    "# !python main.py infer configs/cystisoma_rhabdoms.yaml -v '/media/jake/2tb_ssd/mctv_data/Cystisoma_Hawaii_FEG20190213_01_head/FEG20190213_010.nii' -m ./logs/cystisoma_rhabdoms/lightning_logs/version_19/ -rr 2.152958176307709 -nx 3 -ny 3 -nz 3 -ipmv 0.1 -at 0.4\n",
    "# !python main.py infer configs/cystisoma_rhabdoms.yaml -v '/media/jake/2tb_ssd/mctv_data/Cystisoma_Hawaii_FEG20190213_01_head/FEG20190213_010.nii' -m ./logs/cystisoma_rhabdoms/lightning_logs/version_19/ -rr 2.152958176307709 -nx 3 -ny 3 -nz 3 -ipmv 0.2 -at 0.4\n",
    "# !python main.py infer configs/cystisoma_rhabdoms.yaml -v '/media/jake/2tb_ssd/mctv_data/Cystisoma_Hawaii_FEG20190213_01_head/FEG20190213_010.nii' -m ./logs/cystisoma_rhabdoms/lightning_logs/version_19/ -rr 2.152958176307709 -nx 3 -ny 3 -nz 3 -ipmv 0.45 -at 0.4\n",
    "\n",
    "# !python main.py infer configs/cystisoma_rhabdoms.yaml -v '/media/jake/2tb_ssd/mctv_data/Cystisoma_Hawaii_FEG20190213_01_head/FEG20190213_010.nii' -m ./logs/cystisoma_rhabdoms/lightning_logs/version_19/ -rr 2.152958176307709 -nx 3 -ny 3 -nz 3 -ipmv 0.4 -at 0.5\n",
    "# !python main.py infer configs/cystisoma_rhabdoms.yaml -v '/media/jake/2tb_ssd/mctv_data/Cystisoma_Hawaii_FEG20190213_01_head/FEG20190213_010.nii' -m ./logs/cystisoma_rhabdoms/lightning_logs/version_19/ -rr 2.152958176307709 -nx 3 -ny 3 -nz 3 -ipmv 0.3 -at 0.5\n",
    "# !python main.py infer configs/cystisoma_rhabdoms.yaml -v '/media/jake/2tb_ssd/mctv_data/Cystisoma_Hawaii_FEG20190213_01_head/FEG20190213_010.nii' -m ./logs/cystisoma_rhabdoms/lightning_logs/version_19/ -rr 2.152958176307709 -nx 3 -ny 3 -nz 3 -ipmv 0.2 -at 0.5\n",
    "# !python main.py infer configs/cystisoma_rhabdoms.yaml -v '/media/jake/2tb_ssd/mctv_data/Cystisoma_Hawaii_FEG20190213_01_head/FEG20190213_010.nii' -m ./logs/cystisoma_rhabdoms/lightning_logs/version_19/ -rr 2.152958176307709 -nx 3 -ny 3 -nz 3 -ipmv 0.1 -at 0.5\n",
    "# !python main.py infer configs/cystisoma_rhabdoms.yaml -v '/media/jake/2tb_ssd/mctv_data/Cystisoma_Hawaii_FEG20190213_01_head/FEG20190213_010.nii' -m ./logs/cystisoma_rhabdoms/lightning_logs/version_19/ -rr 2.152958176307709 -nx 3 -ny 3 -nz 3 -ipmv 0.5 -at 0.5\n",
    "# !python main.py infer configs/cystisoma_rhabdoms.yaml -v '/media/jake/2tb_ssd/mctv_data/Cystisoma_Hawaii_FEG20190213_01_head/FEG20190213_010.nii' -m ./logs/cystisoma_rhabdoms/lightning_logs/version_19/ -rr 2.152958176307709 -nx 3 -ny 3 -nz 3 -ipmv 0.4 -at 0.3\n",
    "# !python main.py infer configs/cystisoma_rhabdoms.yaml -v '/media/jake/2tb_ssd/mctv_data/Cystisoma_Hawaii_FEG20190213_01_head/FEG20190213_010.nii' -m ./logs/cystisoma_rhabdoms/lightning_logs/version_19/ -rr 2.152958176307709 -nx 3 -ny 3 -nz 3 -ipmv 0.4 -at 0.2\n",
    "# !python main.py infer configs/cystisoma_rhabdoms.yaml -v '/media/jake/2tb_ssd/mctv_data/Cystisoma_Hawaii_FEG20190213_01_head/FEG20190213_010.nii' -m ./logs/cystisoma_rhabdoms/lightning_logs/version_19/ -rr 2.152958176307709 -nx 3 -ny 3 -nz 3 -ipmv 0.4 -at 0.1\n",
    "# !python main.py infer configs/cystisoma_rhabdoms.yaml -v '/media/jake/2tb_ssd/mctv_data/Cystisoma_Hawaii_FEG20190213_01_head/FEG20190213_010.nii' -m ./logs/cystisoma_rhabdoms/lightning_logs/version_19/ -rr 2.152958176307709 -nx 3 -ny 3 -nz 3 -ipmv 0.5 -at 0.15\n",
    "# !python main.py infer configs/cystisoma_rhabdoms.yaml -v '/media/jake/2tb_ssd/mctv_data/Cystisoma_Hawaii_FEG20190213_01_head/FEG20190213_010.nii' -m ./logs/cystisoma_rhabdoms/lightning_logs/version_19/ -rr 2.152958176307709 -nx 3 -ny 3 -nz 3 -ipmv 0.5 -at 0.25\n",
    "# !python main.py infer configs/cystisoma_rhabdoms.yaml -v '/media/jake/2tb_ssd/mctv_data/Cystisoma_Hawaii_FEG20190213_01_head/FEG20190213_010.nii' -m ./logs/cystisoma_rhabdoms/lightning_logs/version_19/ -rr 2.152958176307709 -nx 3 -ny 3 -nz 3 -ipmv 0.5 -at 0.35\n",
    "# !python main.py infer configs/cystisoma_rhabdoms.yaml -v '/media/jake/2tb_ssd/mctv_data/Cystisoma_Hawaii_FEG20190213_01_head/FEG20190213_010.nii' -m ./logs/cystisoma_rhabdoms/lightning_logs/version_19/ -rr 2.152958176307709 -nx 3 -ny 3 -nz 3 -ipmv 0.5 -at 0.45\n",
    "\n",
    "# !python main.py infer configs/cystisoma_rhabdoms.yaml -v '/media/jake/2tb_ssd/mctv_data/Cystisoma_Hawaii_FEG20190213_01_head/FEG20190213_010.nii' -m ./logs/cystisoma_rhabdoms/lightning_logs/version_19/ -rr 2.152958176307709 -nx 3 -ny 3 -nz 3 -ipmv 0.45 -at 0.5\n",
    "\n",
    "\n",
    "\n"
   ]
  },
  {
   "cell_type": "markdown",
   "id": "49",
   "metadata": {},
   "source": [
    "You can then view your inference in napari."
   ]
  },
  {
   "cell_type": "code",
   "execution_count": 6,
   "id": "50",
   "metadata": {},
   "outputs": [
    {
     "ename": "FileNotFoundError",
     "evalue": "File not found: \"/media/jake/2tb_ssd/mctv_data/Cystisoma_Hawaii_FEG20190213_01_head/FEG20190213_010.nii\"",
     "output_type": "error",
     "traceback": [
      "\u001b[0;31m---------------------------------------------------------------------------\u001b[0m",
      "\u001b[0;31mFileNotFoundError\u001b[0m                         Traceback (most recent call last)",
      "Cell \u001b[0;32mIn[6], line 7\u001b[0m\n\u001b[1;32m      3\u001b[0m \u001b[38;5;28;01mimport\u001b[39;00m \u001b[38;5;21;01mtorchio\u001b[39;00m \u001b[38;5;28;01mas\u001b[39;00m \u001b[38;5;21;01mtio\u001b[39;00m\n\u001b[1;32m      6\u001b[0m image_path \u001b[38;5;241m=\u001b[39m \u001b[38;5;124m'\u001b[39m\u001b[38;5;124m/media/jake/2tb_ssd/mctv_data/Cystisoma_Hawaii_FEG20190213_01_head/FEG20190213_010.nii\u001b[39m\u001b[38;5;124m'\u001b[39m\n\u001b[0;32m----> 7\u001b[0m image \u001b[38;5;241m=\u001b[39m \u001b[43mtio\u001b[49m\u001b[38;5;241;43m.\u001b[39;49m\u001b[43mScalarImage\u001b[49m\u001b[43m(\u001b[49m\u001b[43mimage_path\u001b[49m\u001b[43m)\u001b[49m\n\u001b[1;32m      9\u001b[0m \u001b[38;5;66;03m# heatmap_path = '/media/jake/Removable backup/Jake/projects/dhr/output/FEG20190213_010.logs_cystisoma_rhabdoms_lightning_logs_version_17_checkpoints_last_x_3_y_3_z_3_average_threshold_0.5_prediction.nii'\u001b[39;00m\n\u001b[1;32m     10\u001b[0m heatmap_path \u001b[38;5;241m=\u001b[39m \u001b[38;5;124m'\u001b[39m\u001b[38;5;124m/home/jake/projects/dhr/output/FEG20190213_010.logs_cystisoma_rhabdoms_lightning_logs_version_19_checkpoints_last_x_3_y_3_z_3_average_threshold_0.5_prediction.nii\u001b[39m\u001b[38;5;124m'\u001b[39m\n",
      "File \u001b[0;32m~/projects/dhr/venv/lib/python3.10/site-packages/torchio/data/image.py:783\u001b[0m, in \u001b[0;36mScalarImage.__init__\u001b[0;34m(self, *args, **kwargs)\u001b[0m\n\u001b[1;32m    781\u001b[0m     \u001b[38;5;28;01mraise\u001b[39;00m \u001b[38;5;167;01mValueError\u001b[39;00m(\u001b[38;5;124m'\u001b[39m\u001b[38;5;124mType of ScalarImage is always torchio.INTENSITY\u001b[39m\u001b[38;5;124m'\u001b[39m)\n\u001b[1;32m    782\u001b[0m kwargs\u001b[38;5;241m.\u001b[39mupdate({\u001b[38;5;124m'\u001b[39m\u001b[38;5;124mtype\u001b[39m\u001b[38;5;124m'\u001b[39m: INTENSITY})\n\u001b[0;32m--> 783\u001b[0m \u001b[38;5;28;43msuper\u001b[39;49m\u001b[43m(\u001b[49m\u001b[43m)\u001b[49m\u001b[38;5;241;43m.\u001b[39;49m\u001b[38;5;21;43m__init__\u001b[39;49m\u001b[43m(\u001b[49m\u001b[38;5;241;43m*\u001b[39;49m\u001b[43margs\u001b[49m\u001b[43m,\u001b[49m\u001b[43m \u001b[49m\u001b[38;5;241;43m*\u001b[39;49m\u001b[38;5;241;43m*\u001b[39;49m\u001b[43mkwargs\u001b[49m\u001b[43m)\u001b[49m\n",
      "File \u001b[0;32m~/projects/dhr/venv/lib/python3.10/site-packages/torchio/data/image.py:175\u001b[0m, in \u001b[0;36mImage.__init__\u001b[0;34m(self, path, type, tensor, affine, check_nans, reader, **kwargs)\u001b[0m\n\u001b[1;32m    172\u001b[0m     warnings\u001b[38;5;241m.\u001b[39mwarn(message, \u001b[38;5;167;01mDeprecationWarning\u001b[39;00m, stacklevel\u001b[38;5;241m=\u001b[39m\u001b[38;5;241m2\u001b[39m)\n\u001b[1;32m    174\u001b[0m \u001b[38;5;28msuper\u001b[39m()\u001b[38;5;241m.\u001b[39m\u001b[38;5;21m__init__\u001b[39m(\u001b[38;5;241m*\u001b[39m\u001b[38;5;241m*\u001b[39mkwargs)\n\u001b[0;32m--> 175\u001b[0m \u001b[38;5;28mself\u001b[39m\u001b[38;5;241m.\u001b[39mpath \u001b[38;5;241m=\u001b[39m \u001b[38;5;28;43mself\u001b[39;49m\u001b[38;5;241;43m.\u001b[39;49m\u001b[43m_parse_path\u001b[49m\u001b[43m(\u001b[49m\u001b[43mpath\u001b[49m\u001b[43m)\u001b[49m\n\u001b[1;32m    177\u001b[0m \u001b[38;5;28mself\u001b[39m[PATH] \u001b[38;5;241m=\u001b[39m \u001b[38;5;124m'\u001b[39m\u001b[38;5;124m'\u001b[39m \u001b[38;5;28;01mif\u001b[39;00m \u001b[38;5;28mself\u001b[39m\u001b[38;5;241m.\u001b[39mpath \u001b[38;5;129;01mis\u001b[39;00m \u001b[38;5;28;01mNone\u001b[39;00m \u001b[38;5;28;01melse\u001b[39;00m \u001b[38;5;28mstr\u001b[39m(\u001b[38;5;28mself\u001b[39m\u001b[38;5;241m.\u001b[39mpath)\n\u001b[1;32m    178\u001b[0m \u001b[38;5;28mself\u001b[39m[STEM] \u001b[38;5;241m=\u001b[39m \u001b[38;5;124m'\u001b[39m\u001b[38;5;124m'\u001b[39m \u001b[38;5;28;01mif\u001b[39;00m \u001b[38;5;28mself\u001b[39m\u001b[38;5;241m.\u001b[39mpath \u001b[38;5;129;01mis\u001b[39;00m \u001b[38;5;28;01mNone\u001b[39;00m \u001b[38;5;28;01melse\u001b[39;00m get_stem(\u001b[38;5;28mself\u001b[39m\u001b[38;5;241m.\u001b[39mpath)\n",
      "File \u001b[0;32m~/projects/dhr/venv/lib/python3.10/site-packages/torchio/data/image.py:458\u001b[0m, in \u001b[0;36mImage._parse_path\u001b[0;34m(self, path)\u001b[0m\n\u001b[1;32m    456\u001b[0m     \u001b[38;5;28;01mreturn\u001b[39;00m [\u001b[38;5;28mself\u001b[39m\u001b[38;5;241m.\u001b[39m_parse_single_path(p) \u001b[38;5;28;01mfor\u001b[39;00m p \u001b[38;5;129;01min\u001b[39;00m path]  \u001b[38;5;66;03m# type: ignore[union-attr]  # noqa: E501\u001b[39;00m\n\u001b[1;32m    457\u001b[0m \u001b[38;5;28;01melse\u001b[39;00m:\n\u001b[0;32m--> 458\u001b[0m     \u001b[38;5;28;01mreturn\u001b[39;00m \u001b[38;5;28;43mself\u001b[39;49m\u001b[38;5;241;43m.\u001b[39;49m\u001b[43m_parse_single_path\u001b[49m\u001b[43m(\u001b[49m\u001b[43mpath\u001b[49m\u001b[43m)\u001b[49m\n",
      "File \u001b[0;32m~/projects/dhr/venv/lib/python3.10/site-packages/torchio/data/image.py:443\u001b[0m, in \u001b[0;36mImage._parse_single_path\u001b[0;34m(path)\u001b[0m\n\u001b[1;32m    440\u001b[0m     \u001b[38;5;28;01mraise\u001b[39;00m \u001b[38;5;167;01mRuntimeError\u001b[39;00m(message)\n\u001b[1;32m    442\u001b[0m \u001b[38;5;28;01mif\u001b[39;00m \u001b[38;5;129;01mnot\u001b[39;00m (path\u001b[38;5;241m.\u001b[39mis_file() \u001b[38;5;129;01mor\u001b[39;00m path\u001b[38;5;241m.\u001b[39mis_dir()):   \u001b[38;5;66;03m# might be a dir with DICOM\u001b[39;00m\n\u001b[0;32m--> 443\u001b[0m     \u001b[38;5;28;01mraise\u001b[39;00m \u001b[38;5;167;01mFileNotFoundError\u001b[39;00m(\u001b[38;5;124mf\u001b[39m\u001b[38;5;124m'\u001b[39m\u001b[38;5;124mFile not found: \u001b[39m\u001b[38;5;124m\"\u001b[39m\u001b[38;5;132;01m{\u001b[39;00mpath\u001b[38;5;132;01m}\u001b[39;00m\u001b[38;5;124m\"\u001b[39m\u001b[38;5;124m'\u001b[39m)\n\u001b[1;32m    444\u001b[0m \u001b[38;5;28;01mreturn\u001b[39;00m path\n",
      "\u001b[0;31mFileNotFoundError\u001b[0m: File not found: \"/media/jake/2tb_ssd/mctv_data/Cystisoma_Hawaii_FEG20190213_01_head/FEG20190213_010.nii\""
     ]
    }
   ],
   "source": [
    "import napari\n",
    "import numpy as np\n",
    "import torchio as tio\n",
    "\n",
    "\n",
    "image_path = '/media/jake/2tb_ssd/mctv_data/Cystisoma_Hawaii_FEG20190213_01_head/FEG20190213_010.nii'\n",
    "image = tio.ScalarImage(image_path)\n",
    "\n",
    "# heatmap_path = '/media/jake/Removable backup/Jake/projects/dhr/output/FEG20190213_010.logs_cystisoma_rhabdoms_lightning_logs_version_17_checkpoints_last_x_3_y_3_z_3_average_threshold_0.5_prediction.nii'\n",
    "heatmap_path = '/home/jake/projects/dhr/output/FEG20190213_010.logs_cystisoma_rhabdoms_lightning_logs_version_19_checkpoints_last_x_3_y_3_z_3_average_threshold_0.5_prediction.nii'\n",
    "\n",
    "#Make sure to use resampled space csv here.\n",
    "# y_hat_path = '/media/jake/Removable backup/Jake/projects/dhr/output/FEG20190213_010.logs_cystisoma_rhabdoms_lightning_logs_version_17_checkpoints_last_x_3_y_3_z_3_average_threshold_0.5_prediction_peak_min_val_0_5_method_center_of_mass.resampled_space_peaks.csv'\n",
    "y_hat_path = '/home/jake/projects/dhr/output/FEG20190213_010.logs_cystisoma_rhabdoms_lightning_logs_version_19_checkpoints_last_x_3_y_3_z_3_average_threshold_0.5_prediction_peak_min_val_0_45_method_center_of_mass.resampled_space_peaks.csv'\n",
    "\n",
    "heatmap = tio.ScalarImage(heatmap_path)\n",
    "\n",
    "\n",
    "viewer = napari.view_image(heatmap.numpy(), name='heatmap', contrast_limits=[0, 1])\n",
    "# viewer.add _image(image.numpy(), name='image') #If you want to view your scan also (not necessary)\n",
    "\n",
    "# load the coordinates to analyse\n",
    "def load_coordinates(path, flip_axes=False, mct_path=None):\n",
    "    locations = np.loadtxt(\n",
    "        path,\n",
    "        delimiter=',',\n",
    "        ndmin=2,\n",
    "        dtype=np.float64\n",
    "    )\n",
    "    if not flip_axes: \n",
    "        return locations.tolist()\n",
    "\n",
    "    if not mct_path:\n",
    "        raise Exception('You must specify `mct_path` if you need to flip_axes')\n",
    "\n",
    "    mct = tio.ScalarImage(mct_path)\n",
    "    locations[:,0] = mct.shape[1] - locations[:,0]\n",
    "    locations[:,1] = mct.shape[2] - locations[:,1]\n",
    "\n",
    "    return locations.tolist()\n",
    "\n",
    "\n",
    "y_hat = load_coordinates(y_hat_path)\n",
    "\n",
    "\n",
    "viewer.add_points(y_hat)"
   ]
  },
  {
   "cell_type": "markdown",
   "id": "51",
   "metadata": {},
   "source": [
    "# Primno corneas"
   ]
  },
  {
   "cell_type": "markdown",
   "id": "52",
   "metadata": {},
   "source": [
    "## Generate dataset"
   ]
  },
  {
   "cell_type": "markdown",
   "id": "53",
   "metadata": {},
   "source": [
    "Convert your mat file into a csv file for corneas labels for each already labelled scan (save to raw_labels folder:'/home/jake/projects/dhr/dataset/raw_labels'). Create a csv called primno_corneas.csv (for structure of this csv see dhr: https://github.com/jakemanger/dhr)(save to data_source_specifiers folder: '/home/jake/projects/dhr/data_source_specifiers'). Insert the raw labels paths and image paths into this csv. "
   ]
  },
  {
   "cell_type": "code",
   "execution_count": null,
   "id": "54",
   "metadata": {},
   "outputs": [],
   "source": [
    "!python mctv_to_csv.py -h\n",
    "\n",
    "# This method is not appropriate for Primno (currently) and does not include all 4 eyes, see steps below to convert mat to csv\n",
    "# !python mctv_to_csv.py '/home/jake/projects/dhr/data_source_specifiers/primno_corneas.csv'"
   ]
  },
  {
   "cell_type": "markdown",
   "id": "55",
   "metadata": {},
   "source": [
    "Use the next few blocks to explore your mat file. You should only need this once."
   ]
  },
  {
   "cell_type": "code",
   "execution_count": null,
   "id": "56",
   "metadata": {},
   "outputs": [],
   "source": [
    "# Use this block of code to examine dictionary keys in your mat file\n",
    "import h5py\n",
    "\n",
    "file_path = '/media/jake/Removable backup/Jake/projects/mctv_resfiles/hyperiids/Primno_abyssalis_FEG221018_356/Primno_abyssalis_356_eye.mat'\n",
    "mat = h5py.File(file_path, 'r')\n",
    "\n",
    "# List all top-level keys (variable names)\n",
    "print(\"Keys (variable names) in the .mat file:\")\n",
    "keys = list(mat.keys())\n",
    "print(keys)\n",
    "\n",
    "# Use this block of code to view contents in save_dat\n",
    "if isinstance(mat['save_dat'], h5py.Group):\n",
    "    print(\"\\n'save_dat' is a group. Listing its contents:\")\n",
    "    save_dat_group = mat['save_dat']\n",
    "    group_keys = list(save_dat_group.keys())\n",
    "    print(group_keys)\n",
    "\n",
    "    for key in group_keys:\n",
    "        item = save_dat_group[key]\n",
    "        if isinstance(item, h5py.Dataset):\n",
    "            # If it's a dataset, print its details\n",
    "            print(f\"\\n'{key}' is a dataset.\")\n",
    "            print(f\"Data type of {key}: {item.dtype}\")\n",
    "            print(f\"Shape of {key}: {item.shape}\")\n",
    "\n",
    "            # Convert the dataset to a NumPy array if needed\n",
    "            data_array = item[:]\n",
    "            print(f\"Data from {key}:\\n\", data_array)\n",
    "        elif isinstance(item, h5py.Group):\n",
    "            # If it's a group, print that it's a group\n",
    "            print(f\"\\n'{key}' is a group.\")\n",
    "        else:\n",
    "            print(f\"'{key}' is of unknown type.\")\n",
    "\n"
   ]
  },
  {
   "cell_type": "code",
   "execution_count": null,
   "id": "57",
   "metadata": {},
   "outputs": [],
   "source": [
    "with h5py.File('/media/jake/Removable backup/Jake/projects/mctv_resfiles/hyperiids/Primno_abyssalis_FEG221018_356/Primno_abyssalis_356_eye.mat', 'r') as mat:\n",
    "    save_dat_group = mat['save_dat']\n",
    "    \n",
    "    def explore_group(group):\n",
    "        for name, item in group.items():\n",
    "            if isinstance(item, h5py.Group):\n",
    "                print(f\"Group: {name}\")\n",
    "                explore_group(item) \n",
    "            elif isinstance(item, h5py.Dataset):\n",
    "                print(f\"Dataset: {name}, Shape: {item.shape}, Data Type: {item.dtype}\")\n",
    "\n",
    "    # Start exploring from save_dat_group\n",
    "    explore_group(save_dat_group)\n",
    "\n"
   ]
  },
  {
   "cell_type": "code",
   "execution_count": null,
   "id": "58",
   "metadata": {},
   "outputs": [],
   "source": [
    "# Use this block of code to explore the structure of groups (i.e. in this case you want to use this code to find the names of group to be used in the next block)\n",
    "with h5py.File('/media/jake/Removable backup/Jake/projects/mctv_resfiles/hyperiids/Primno_abyssalis_FEG221018_356/Primno_abyssalis_356_eye.mat', 'r') as file:\n",
    "    def print_structure(name, obj):\n",
    "        print(f\"{name}: {obj}\")\n",
    "    \n",
    "    file.visititems(print_structure) "
   ]
  },
  {
   "cell_type": "code",
   "execution_count": null,
   "id": "59",
   "metadata": {},
   "outputs": [],
   "source": [
    "import pandas as pd\n",
    "\n",
    "with h5py.File('/media/jake/Removable backup/Jake/projects/mctv_resfiles/hyperiids/Primno_abyssalis_FEG221018_356/Primno_abyssalis_356_eye.mat', 'r') as file:\n",
    "    # Access the marked dataset using the correct path\n",
    "    marked_data = file['save_dat/data/marked'][:, :1642] \n",
    "\n",
    "marked_df = pd.DataFrame(marked_data)\n",
    "\n",
    "print(marked_df)\n"
   ]
  },
  {
   "cell_type": "code",
   "execution_count": null,
   "id": "60",
   "metadata": {},
   "outputs": [],
   "source": [
    "# Use this block to investigate a specifc row\n",
    "with h5py.File('/media/jake/Removable backup/Jake/projects/mctv_resfiles/hyperiids/Primno_abyssalis_FEG221018_356/Primno_abyssalis_356_eye.mat', 'r') as file:\n",
    "    marked_data = file['save_dat/data/marked'][:]  \n",
    "\n",
    "\n",
    "marked_df = pd.DataFrame(marked_data)\n",
    "\n",
    "values = marked_df.iloc[5] # row 5 here contains indexes for corneas and rhabdoms/eye\n",
    "print(values)\n"
   ]
  },
  {
   "cell_type": "markdown",
   "id": "61",
   "metadata": {},
   "source": [
    "The next blocks of code actually convert your mat file into a csv. Make sure you include your mat path, the path you want to save your csv to (here 'raw_labels'), and include the correct index values (i.e. for corneas or rhabdoms). "
   ]
  },
  {
   "cell_type": "code",
   "execution_count": null,
   "id": "62",
   "metadata": {},
   "outputs": [],
   "source": [
    "# To convert mat for Primno_abyssalis_FEG221018_357 into corneas raw labels csv\n",
    "import h5py\n",
    "import pandas as pd\n",
    "import os\n",
    "\n",
    "with h5py.File('/media/jake/Removable backup/Jake/projects/mctv_resfiles/hyperiids/Primno_abyssalis_FEG221018_357/Primno_abyssalis_357.mat', 'r') as file:\n",
    "    marked_data = file['save_dat/data/marked'][:]  \n",
    "\n",
    "marked_df = pd.DataFrame(marked_data)\n",
    "\n",
    "\n",
    "columns_to_keep = marked_df.iloc[5].isin([0, 2, 4, 6]) # correct indices for corneas\n",
    "column_indices = marked_df.columns[columns_to_keep]\n",
    "filtered_df = marked_df.iloc[:3, column_indices]\n",
    "transposed_df = filtered_df.transpose()\n",
    "\n",
    "# Specify directory path\n",
    "save_directory = '/home/jake/projects/dhr/dataset/raw_labels'  \n",
    "csv_name = 'Primno_abyssalis_FEG221018_357_labels_corneas.csv' # name csv \n",
    "\n",
    "\n",
    "csv_path = os.path.join(save_directory, csv_name)\n",
    "\n",
    "\n",
    "os.makedirs(save_directory, exist_ok=True)\n",
    "\n",
    "\n",
    "transposed_df.to_csv(csv_path, header=False, index=False)\n"
   ]
  },
  {
   "cell_type": "code",
   "execution_count": null,
   "id": "63",
   "metadata": {},
   "outputs": [],
   "source": [
    "# To convert mat for Primno_abyssalis_FEG221018_356 into corneas raw labels csv\n",
    "import h5py\n",
    "import pandas as pd\n",
    "import os\n",
    "\n",
    "with h5py.File('/media/jake/Removable backup/Jake/projects/mctv_resfiles/hyperiids/Primno_abyssalis_FEG221018_356/Primno_abyssalis_356_eye.mat', 'r') as file:\n",
    "    marked_data = file['save_dat/data/marked'][:]  # Load the entire marked dataset\n",
    "\n",
    "marked_df = pd.DataFrame(marked_data)\n",
    "\n",
    "\n",
    "columns_to_keep = marked_df.iloc[5].isin([0, 2, 4, 6]) # correct indices for corneas\n",
    "column_indices = marked_df.columns[columns_to_keep]\n",
    "filtered_df = marked_df.iloc[:3, column_indices]\n",
    "transposed_df = filtered_df.transpose()\n",
    "\n",
    "# Specify the directory where you want to save the CSV\n",
    "save_directory = '/home/jake/projects/dhr/dataset/raw_labels'  \n",
    "csv_name = 'Primno_abyssalis_FEG221018_356_labels_corneas.csv'\n",
    "\n",
    "csv_path = os.path.join(save_directory, csv_name)\n",
    "\n",
    "os.makedirs(save_directory, exist_ok=True)\n",
    "\n",
    "transposed_df.to_csv(csv_path, header=False, index=False)\n"
   ]
  },
  {
   "cell_type": "markdown",
   "id": "64",
   "metadata": {},
   "source": [
    "The next block of code generate your dataset "
   ]
  },
  {
   "cell_type": "code",
   "execution_count": null,
   "id": "65",
   "metadata": {},
   "outputs": [],
   "source": [
    "# !python generate_dataset.py -h #(dont forget you have generated the corneas datset using rhabdoms csv paths in the corneas data source specifiers csv)\n",
    "!python generate_dataset.py ./data_source_specifiers/primno_corneas.csv -l corneas -v 10 -cl corneas -cb 16"
   ]
  },
  {
   "cell_type": "markdown",
   "id": "66",
   "metadata": {},
   "source": [
    "## Checking"
   ]
  },
  {
   "cell_type": "code",
   "execution_count": null,
   "id": "67",
   "metadata": {},
   "outputs": [],
   "source": [
    "!python check_data.py ./configs/primno_corneas.yaml"
   ]
  },
  {
   "cell_type": "markdown",
   "id": "68",
   "metadata": {},
   "source": [
    "## Training"
   ]
  },
  {
   "cell_type": "code",
   "execution_count": null,
   "id": "69",
   "metadata": {},
   "outputs": [],
   "source": [
    "'''version 1'''\n",
    "# !python main.py train configs/primno_corneas.yaml -w ./logs/cystisoma_corneas/lightning_logs/version_13/checkpoints/epoch=2758-step=696256.ckpt -ne 10\n",
    "'''version 3'''\n",
    "!python main.py train configs/primno_corneas.yaml -w ./logs/cystisoma_corneas/lightning_logs/version_14/checkpoints/epoch=3589-step=799360-v1.ckpt -ne 10\n"
   ]
  },
  {
   "cell_type": "markdown",
   "id": "70",
   "metadata": {},
   "source": [
    "## Inference"
   ]
  },
  {
   "cell_type": "code",
   "execution_count": null,
   "id": "71",
   "metadata": {},
   "outputs": [],
   "source": [
    "import pandas as pd\n",
    "\n",
    "#Read in your csv and assign it to the variable RR\n",
    "# 2nd scan\n",
    "RR = pd.read_csv('/home/jake/projects/dhr/Primno_abyssalis_FEG221101_359_corneas_estimating_resampling_ratio.csv')\n",
    "\n",
    "RR"
   ]
  },
  {
   "cell_type": "code",
   "execution_count": null,
   "id": "72",
   "metadata": {},
   "outputs": [],
   "source": [
    "from scipy.spatial import distance_matrix\n",
    "\n",
    "coordinates = RR[['axis-0', 'axis-1', 'axis-2']].values\n",
    "dist_matrix = distance_matrix(coordinates, coordinates) #Create a distance matrix between points\n",
    "import numpy as np\n",
    "np.fill_diagonal(dist_matrix, np.inf)\n",
    "\n",
    "# Find the nearest neighbor distance for each point\n",
    "nearest_distances = np.min(dist_matrix, axis=1)\n",
    "\n",
    "# Add the nearest distances to the dataframe\n",
    "RR['nearest_distance'] = nearest_distances\n",
    "RR\n",
    "mean_nearest_distance = RR['nearest_distance'].mean()\n",
    "mean_nearest_distance\n",
    "resample_ratio = mean_nearest_distance/10\n",
    "resample_ratio #Print your RR; use this to make your inference "
   ]
  },
  {
   "cell_type": "code",
   "execution_count": null,
   "id": "73",
   "metadata": {},
   "outputs": [],
   "source": [
    "# Inferences with version 1 (bad, model not used)\n",
    "# !python main.py infer configs/primno_corneas.yaml -v '/media/jake/Removable backup/Dropbox/Full body hyperiid scans/Head Scans_nifti/Primno_abyssalis_f359_u0000000/Primno_abyssalis_FEG221101_359.nii' -m ./logs/primno_corneas/lightning_logs/version_1/ -rr 3.290426824776052 -nx 1 -ny 1 -nz 1 -ipmv 0.5 -at 0.5\n",
    "# !python main.py infer configs/primno_corneas.yaml -v '/media/jake/Removable backup/Dropbox/Full body hyperiid scans/Head Scans_nifti/Primno_abyssalis_f359_u0000000/Primno_abyssalis_FEG221101_359.nii' -m ./logs/primno_corneas/lightning_logs/version_1/ -rr 3.290426824776052 -nx 1 -ny 1 -nz 1 -ipmv 0.5 -at 0.1\n"
   ]
  },
  {
   "cell_type": "code",
   "execution_count": null,
   "id": "74",
   "metadata": {},
   "outputs": [],
   "source": [
    "# Infernces with version 3\n",
    "# !python main.py infer configs/primno_corneas.yaml -v '/media/jake/Removable backup/Dropbox/Full body hyperiid scans/Head Scans_nifti/Primno_abyssalis_f359_u0000000/Primno_abyssalis_FEG221101_359.nii' -m ./logs/primno_corneas/lightning_logs/version_3/ -rr 3.290426824776052 -nx 2 -ny 2 -nz 2 -ipmv 0.1 -at 0.05\n",
    "# !python main.py infer configs/primno_corneas.yaml -v '/media/jake/Removable backup/Dropbox/Full body hyperiid scans/Head Scans_nifti/Primno_abyssalis_f359_u0000000/Primno_abyssalis_FEG221101_359.nii' -m ./logs/primno_corneas/lightning_logs/version_3/ -rr 3.290426824776052 -nx 2 -ny 2 -nz 2 -ipmv 0.1 -at 0.01\n",
    "# !python main.py infer configs/primno_corneas.yaml -v '/media/jake/Removable backup/Dropbox/Full body hyperiid scans/Head Scans_nifti/Primno_abyssalis_f359_u0000000/Primno_abyssalis_FEG221101_359.nii' -m ./logs/primno_corneas/lightning_logs/version_3/ -rr 3.290426824776052 -nx 2 -ny 2 -nz 2 -ipmv 0.1 -at 0.5\n",
    "# !python main.py infer configs/primno_corneas.yaml -v '/media/jake/Removable backup/Dropbox/Full body hyperiid scans/Head Scans_nifti/Primno_abyssalis_f359_u0000000/Primno_abyssalis_FEG221101_359.nii' -m ./logs/primno_corneas/lightning_logs/version_3/ -rr 3.290426824776052 -nx 2 -ny 2 -nz 2 -ipmv 0.1 -at 0.4\n",
    "# !python main.py infer configs/primno_corneas.yaml -v '/media/jake/Removable backup/Dropbox/Full body hyperiid scans/Head Scans_nifti/Primno_abyssalis_f359_u0000000/Primno_abyssalis_FEG221101_359.nii' -m ./logs/primno_corneas/lightning_logs/version_3/ -rr 3.290426824776052 -nx 2 -ny 2 -nz 2 -ipmv 0.5 -at 0.5 --infer_with_max_filter_fun\n",
    "# !python main.py infer configs/primno_corneas.yaml -v '/media/jake/Removable backup/Dropbox/Full body hyperiid scans/Head Scans_nifti/Primno_abyssalis_f359_u0000000/Primno_abyssalis_FEG221101_359.nii' -m ./logs/primno_corneas/lightning_logs/version_3/ -rr 3.290426824776052 -nx 2 -ny 2 -nz 2 -ipmv 0.4 -at 0.5 --infer_with_max_filter_fun\n",
    "# !python main.py infer configs/primno_corneas.yaml -v '/media/jake/Removable backup/Dropbox/Full body hyperiid scans/Head Scans_nifti/Primno_abyssalis_f359_u0000000/Primno_abyssalis_FEG221101_359.nii' -m ./logs/primno_corneas/lightning_logs/version_3/ -rr 3.290426824776052 -nx 2 -ny 2 -nz 2 -ipmv 0.3 -at 0.5 --infer_with_max_filter_fun\n",
    "# !python main.py infer configs/primno_corneas.yaml -v '/media/jake/Removable backup/Dropbox/Full body hyperiid scans/Head Scans_nifti/Primno_abyssalis_f359_u0000000/Primno_abyssalis_FEG221101_359.nii' -m ./logs/primno_corneas/lightning_logs/version_3/ -rr 3.290426824776052 -nx 2 -ny 2 -nz 2 -ipmv 0.2 -at 0.5 --infer_with_max_filter_fun\n",
    "# !python main.py infer configs/primno_corneas.yaml -v '/media/jake/Removable backup/Dropbox/Full body hyperiid scans/Head Scans_nifti/Primno_abyssalis_f359_u0000000/Primno_abyssalis_FEG221101_359.nii' -m ./logs/primno_corneas/lightning_logs/version_3/ -rr 3.290426824776052 -nx 2 -ny 2 -nz 2 -ipmv 0.1 -at 0.5 --infer_with_max_filter_fun # best so far\n",
    "!python main.py infer configs/primno_corneas.yaml -v '/media/jake/Removable backup/Dropbox/Full body hyperiid scans/Head Scans_nifti/Primno_abyssalis_f359_u0000000/Primno_abyssalis_FEG221101_359.nii' -m ./logs/primno_corneas/lightning_logs/version_3/ -rr 3.290426824776052 -nx 3 -ny 3 -nz 3 -ipmv 0.5 -at 0.5 --infer_with_max_filter_fun\n",
    "!python main.py infer configs/primno_corneas.yaml -v '/media/jake/Removable backup/Dropbox/Full body hyperiid scans/Head Scans_nifti/Primno_abyssalis_f359_u0000000/Primno_abyssalis_FEG221101_359.nii' -m ./logs/primno_corneas/lightning_logs/version_3/ -rr 3.290426824776052 -nx 3 -ny 3 -nz 3 -ipmv 0.1 -at 0.5 --infer_with_max_filter_fun\n"
   ]
  },
  {
   "cell_type": "code",
   "execution_count": null,
   "id": "75",
   "metadata": {},
   "outputs": [],
   "source": [
    "import napari\n",
    "import numpy as np\n",
    "import torchio as tio\n",
    "\n",
    "\n",
    "image_path = '/media/jake/Removable backup/Dropbox/Full body hyperiid scans/Head Scans_nifti/Primno_abyssalis_f359_u0000000/Primno_abyssalis_FEG221101_359.nii'\n",
    "image = tio.ScalarImage(image_path)\n",
    "\n",
    "# heatmap_path = '/media/jake/Removable backup/Jake/projects/dhr/output/FEG20190213_010.logs_cystisoma_rhabdoms_lightning_logs_version_17_checkpoints_last_x_3_y_3_z_3_average_threshold_0.5_prediction.nii'\n",
    "heatmap_path = '/home/jake/projects/dhr/output/Primno_abyssalis_FEG221101_359.logs_primno_corneas_lightning_logs_version_3_checkpoints_last_x_2_y_2_z_2_average_threshold_0.5_prediction.nii'\n",
    "\n",
    "#Make sure to use resampled space csv here.\n",
    "# y_hat_path = '/media/jake/Removable backup/Jake/projects/dhr/output/FEG20190213_010.logs_cystisoma_rhabdoms_lightning_logs_version_17_checkpoints_last_x_3_y_3_z_3_average_threshold_0.5_prediction_peak_min_val_0_5_method_center_of_mass.resampled_space_peaks.csv'\n",
    "y_hat_path = '/home/jake/projects/dhr/output/Primno_abyssalis_FEG221101_359.logs_primno_corneas_lightning_logs_version_3_checkpoints_last_x_2_y_2_z_2_average_threshold_0.5_prediction_peak_min_val_0_4_method_max_filter.resampled_space_peaks.csv'\n",
    "\n",
    "heatmap = tio.ScalarImage(heatmap_path)\n",
    "\n",
    "\n",
    "viewer = napari.view_image(heatmap.numpy(), name='heatmap', contrast_limits=[0, 1])\n",
    "# viewer.add_image(image.numpy(), name='image') #If you want to view your scan also (not necessary)\n",
    "\n",
    "# load the coordinates to analyse\n",
    "def load_coordinates(path, flip_axes=False, mct_path=None):\n",
    "    locations = np.loadtxt(\n",
    "        path,\n",
    "        delimiter=',',\n",
    "        ndmin=2,\n",
    "        dtype=np.float64\n",
    "    )\n",
    "    if not flip_axes: \n",
    "        return locations.tolist()\n",
    "\n",
    "    if not mct_path:\n",
    "        raise Exception('You must specify `mct_path` if you need to flip_axes')\n",
    "\n",
    "    mct = tio.ScalarImage(mct_path)\n",
    "    locations[:,0] = mct.shape[1] - locations[:,0]\n",
    "    locations[:,1] = mct.shape[2] - locations[:,1]\n",
    "\n",
    "    return locations.tolist()\n",
    "\n",
    "\n",
    "y_hat = load_coordinates(y_hat_path)\n",
    "\n",
    "\n",
    "viewer.add_points(y_hat)"
   ]
  },
  {
   "cell_type": "markdown",
   "id": "76",
   "metadata": {},
   "source": [
    "# Primno rhabdoms"
   ]
  },
  {
   "cell_type": "markdown",
   "id": "77",
   "metadata": {},
   "source": [
    "## Generating the dataset"
   ]
  },
  {
   "cell_type": "markdown",
   "id": "78",
   "metadata": {},
   "source": [
    "The next couple kernels are to manually convert mat files into csv files with rhabdoms points. If you do not need to convert manually you can use `!python mctv_to_csv.py`."
   ]
  },
  {
   "cell_type": "code",
   "execution_count": null,
   "id": "79",
   "metadata": {},
   "outputs": [],
   "source": [
    "# To convert mat for Primno_abyssalis_FEG221018_356 into rhabdoms raw labels csv\n",
    "import h5py\n",
    "import pandas as pd\n",
    "import os\n",
    "\n",
    "with h5py.File('/media/jake/Removable backup/Jake/projects/mctv_resfiles/hyperiids/Primno_abyssalis_FEG221018_356/Primno_abyssalis_356_eye.mat', 'r') as file:\n",
    "    marked_data = file['save_dat/data/marked'][:]  # Load the entire marked dataset\n",
    "\n",
    "marked_df = pd.DataFrame(marked_data)\n",
    "\n",
    "\n",
    "columns_to_keep = marked_df.iloc[5].isin([1, 3, 5, 7]) # correct indices for rhabdoms\n",
    "column_indices = marked_df.columns[columns_to_keep]\n",
    "filtered_df = marked_df.iloc[:3, column_indices]\n",
    "transposed_df = filtered_df.transpose()\n",
    "\n",
    "# Specify the directory where you want to save the CSV\n",
    "save_directory = '/home/jake/projects/dhr/dataset/raw_labels'  \n",
    "csv_name = 'Primno_abyssalis_FEG221018_356_labels_rhaddoms.csv'\n",
    "\n",
    "csv_path = os.path.join(save_directory, csv_name)\n",
    "\n",
    "os.makedirs(save_directory, exist_ok=True)\n",
    "\n",
    "transposed_df.to_csv(csv_path, header=False, index=False)\n"
   ]
  },
  {
   "cell_type": "code",
   "execution_count": null,
   "id": "80",
   "metadata": {},
   "outputs": [],
   "source": [
    "# To convert mat for Primno_abyssalis_FEG221018_357 into rhabdoms raw labels csv\n",
    "import h5py\n",
    "import pandas as pd\n",
    "import os\n",
    "\n",
    "with h5py.File('/media/jake/Removable backup/Jake/projects/mctv_resfiles/hyperiids/Primno_abyssalis_FEG221018_357/Primno_abyssalis_357.mat', 'r') as file:\n",
    "    marked_data = file['save_dat/data/marked'][:]  \n",
    "\n",
    "marked_df = pd.DataFrame(marked_data)\n",
    "\n",
    "\n",
    "columns_to_keep = marked_df.iloc[5].isin([1, 3, 5, 7]) # correct indices for rhabdoms\n",
    "column_indices = marked_df.columns[columns_to_keep]\n",
    "filtered_df = marked_df.iloc[:3, column_indices]\n",
    "transposed_df = filtered_df.transpose()\n",
    "\n",
    "# Specify directory path\n",
    "save_directory = '/home/jake/projects/dhr/dataset/raw_labels'  \n",
    "csv_name = 'Primno_abyssalis_FEG221018_357_labels_rhabdoms.csv' # name csv \n",
    "\n",
    "\n",
    "csv_path = os.path.join(save_directory, csv_name)\n",
    "\n",
    "\n",
    "os.makedirs(save_directory, exist_ok=True)\n",
    "\n",
    "\n",
    "transposed_df.to_csv(csv_path, header=False, index=False)\n"
   ]
  },
  {
   "cell_type": "code",
   "execution_count": null,
   "id": "81",
   "metadata": {},
   "outputs": [],
   "source": [
    "!python generate_dataset.py -h"
   ]
  },
  {
   "cell_type": "code",
   "execution_count": null,
   "id": "82",
   "metadata": {},
   "outputs": [],
   "source": [
    "!python generate_dataset.py ./data_source_specifiers/primno_rhabdoms.csv -l rhabdoms -v 10 -cl rhabdoms -cb 16"
   ]
  },
  {
   "cell_type": "markdown",
   "id": "83",
   "metadata": {},
   "source": [
    "## Checking"
   ]
  },
  {
   "cell_type": "code",
   "execution_count": null,
   "id": "84",
   "metadata": {},
   "outputs": [],
   "source": [
    "!python check_data.py ./configs/primno_rhabdoms.yaml"
   ]
  },
  {
   "cell_type": "markdown",
   "id": "85",
   "metadata": {},
   "source": [
    "## Training"
   ]
  },
  {
   "cell_type": "code",
   "execution_count": null,
   "id": "86",
   "metadata": {},
   "outputs": [],
   "source": [
    "# Version 1\n",
    "!python main.py train configs/primno_rhabdoms.yaml -w ./logs/cystisoma_rhabdoms/lightning_logs/version_19/checkpoints/epoch=1779-step=1004321.ckpt -ne 10\n"
   ]
  },
  {
   "cell_type": "code",
   "execution_count": null,
   "id": "87",
   "metadata": {},
   "outputs": [],
   "source": [
    "# Version 2\n",
    "!python main.py train configs/primno_rhabdoms.yaml -w ./logs/paraphronima_rhabdoms_from_pretrained/lightning_logs/version_1/checkpoints/epoch=147-step=890880.ckpt -ne 10\n",
    "# Version 3\n",
    "# !python main.py train configs/primno_rhabdoms.yaml -w ./logs/paraphronima_rhabdoms/lightning_logs/version_23/checkpoints/epoch=99-step=537600-v1.ckpt -ne 10\n"
   ]
  },
  {
   "cell_type": "markdown",
   "id": "88",
   "metadata": {},
   "source": [
    "## Inference"
   ]
  },
  {
   "cell_type": "code",
   "execution_count": null,
   "id": "89",
   "metadata": {},
   "outputs": [],
   "source": [
    "import torchio as tio\n",
    "\n",
    "image_path = '/media/jake/Removable backup/Dropbox/Full body hyperiid scans/Head Scans_nifti/Primno_abyssalis_f359_u0000000/Primno_abyssalis_FEG221101_359.nii'\n",
    "image = tio.ScalarImage(image_path)\n",
    "\n",
    "# view file with napari\n",
    "import napari\n",
    "\n",
    "\n",
    "viewer = napari.view_image(image.numpy(), name='image')"
   ]
  },
  {
   "cell_type": "code",
   "execution_count": null,
   "id": "90",
   "metadata": {},
   "outputs": [],
   "source": [
    "import pandas as pd\n",
    "\n",
    "RR = pd.read_csv('/home/jake/projects/dhr/Primno_abyssalis_FEG221101_359_corneas_estimating_resampling_ratio.csv')\n",
    "\n",
    "RR"
   ]
  },
  {
   "cell_type": "code",
   "execution_count": null,
   "id": "91",
   "metadata": {},
   "outputs": [],
   "source": [
    "from scipy.spatial import distance_matrix\n",
    "\n",
    "coordinates = RR[['axis-0', 'axis-1', 'axis-2']].values\n",
    "dist_matrix = distance_matrix(coordinates, coordinates) #Create a distance matrix between points\n",
    "import numpy as np\n",
    "np.fill_diagonal(dist_matrix, np.inf)\n",
    "\n",
    "# Find the nearest neighbor distance for each point\n",
    "nearest_distances = np.min(dist_matrix, axis=1)\n",
    "\n",
    "# Add the nearest distances to the dataframe\n",
    "RR['nearest_distance'] = nearest_distances\n",
    "RR\n",
    "mean_nearest_distance = RR['nearest_distance'].mean()\n",
    "mean_nearest_distance\n",
    "resample_ratio = mean_nearest_distance/10\n",
    "resample_ratio #Print your RR; use this to make your inference "
   ]
  },
  {
   "cell_type": "code",
   "execution_count": null,
   "id": "92",
   "metadata": {},
   "outputs": [],
   "source": [
    "!python main.py infer configs/primno_rhabdoms.yaml -v '/media/jake/Removable backup/Dropbox/Full body hyperiid scans/Head Scans_nifti/Primno_abyssalis_f359_u0000000/Primno_abyssalis_FEG221101_359.nii' -m ./logs/primno_rhabdoms/lightning_logs/version_1/ -rr 2.9493045478545903 -nx 1 -ny 1 -nz 1 -ipmv 0.5 -at 0.5 --infer_with_max_filter_fun\n"
   ]
  }
 ],
 "metadata": {
  "kernelspec": {
   "display_name": "venv",
   "language": "python",
   "name": "python3"
  },
  "language_info": {
   "codemirror_mode": {
    "name": "ipython",
    "version": 3
   },
   "file_extension": ".py",
   "mimetype": "text/x-python",
   "name": "python",
   "nbconvert_exporter": "python",
   "pygments_lexer": "ipython3",
   "version": "3.10.16"
  }
 },
 "nbformat": 4,
 "nbformat_minor": 5
}
