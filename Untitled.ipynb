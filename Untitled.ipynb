{
 "cells": [
  {
   "cell_type": "code",
   "execution_count": 1,
   "id": "323bc225-c317-4fc6-be25-e5214ad82037",
   "metadata": {},
   "outputs": [],
   "source": [
    "from mctnet.actions import locate_peaks\n",
    "from mctnet.data_loading import _load_point_data\n",
    "import torchio as tio"
   ]
  },
  {
   "cell_type": "code",
   "execution_count": 11,
   "id": "18a66072-d707-4ebe-98c2-a7087df82b64",
   "metadata": {},
   "outputs": [],
   "source": [
    "def estimate_error(peaks, ground_truth_peaks):\n",
    "    breakpoint()\n",
    "    return None\n",
    "\n",
    "\n",
    "def extract_coordinates_from_matfile(matfile_path, corneas=True):\n",
    "    \"\"\"Extract the ground truth coordinates from a matlab file.\n",
    "\n",
    "    Args:\n",
    "        matfile_path (str): Path to the matlab file.\n",
    "        corneas (bool): If True, extract corneal coordinates. If False, extract rhabdom coordinates.\n",
    "\n",
    "    Returns:\n",
    "        list: The list of ground truth coordinates (x, y, z).\n",
    "\n",
    "    \"\"\"\n",
    "    corneas, rhabdoms = _load_point_data(matfile_path, swap_xy=False)\n",
    "\n",
    "    if corneas:\n",
    "        return corneas\n",
    "    else:\n",
    "        return rhabdoms\n",
    "\n",
    "\n",
    "def test_different_peak_params(prediction_path, ground_truth_coords, min_distances, min_vals, plot_and_pause=False):\n",
    "    \"\"\"Estimate the error of the peaks with different peak parameters.\n",
    "    \n",
    "    Args: \n",
    "        prediction_path (str): Path to the prediction volume.\n",
    "        ground_truth_coords (list): List of ground truth coordinates (x, y, z).\n",
    "        min_distances (list): The list of minimum distances you want to try.\n",
    "        min_vals (list): The list of minimum values you want to try.\n",
    "        plot_and_pause (bool): If True, plot the results and pause after each parameter error measurement.\n",
    "        If False, don't plot and don't pause.\n",
    "\n",
    "    Returns:\n",
    "        list: The list of errors.\n",
    "    \"\"\"\n",
    "\n",
    "    errors = []\n",
    "    for min_distance in min_distances:\n",
    "        for min_val in min_vals:\n",
    "            peaks = locate_peaks(\n",
    "                prediction_path,\n",
    "                save=True,\n",
    "                plot=plot_and_pause,\n",
    "                peak_min_dist=min_distance,\n",
    "                peak_min_val=min_val\n",
    "            )\n",
    "\n",
    "            errors.append(estimate_error(peaks, ground_truth_coords))\n",
    "\n",
    "    return errors\n"
   ]
  },
  {
   "cell_type": "code",
   "execution_count": 10,
   "id": "93b425e1-719d-41ab-a9c9-d8e0276d60aa",
   "metadata": {},
   "outputs": [
    {
     "name": "stdout",
     "output_type": "stream",
     "text": [
      "Plotting heatmap...\n"
     ]
    },
    {
     "name": "stderr",
     "output_type": "stream",
     "text": [
      "/home/jake/projects/mctnet/venv/lib/python3.8/site-packages/napari/_vispy/vispy_camera.py:109: RuntimeWarning: divide by zero encountered in true_divide\n",
      "  zoom = np.min(canvas_size / scale)\n"
     ]
    },
    {
     "name": "stdout",
     "output_type": "stream",
     "text": [
      "Locating peaks...\n",
      "Plotting peaks...\n"
     ]
    }
   ],
   "source": [
    "errors_dampieri = test_different_peak_params(\n",
    "    prediction_path='/home/jake/projects/mctnet/dataset/fiddler/cropped/test_images_whole/dampieri_male_16-image.nii.prediction.nii.gz',\n",
    "    ground_truth_coords=extract_coordinates_from_matfile(\n",
    "        '//home/jake/projects/mctv_resfiles/fiddlercrabs/dampieri_20200219_male_right_1676/dampieri_20200219_male_right_1676.mat'\n",
    "    ),\n",
    "    min_distances=8,\n",
    "    min_vals=0.3,\n",
    "    # min_distances=[4, 8, 12],\n",
    "    # min_vals=[0.2, 0.3, 0.4, 0.5]\n",
    ")\n",
    "# errors_flammula = test_different_peak_params(\n",
    "#     prediction_path='/home/jake/projects/mctnet/dataset/fiddler/cropped/test_images_whole/flammula_20190925_male_left-image.prediction.nii.gz',\n",
    "#     ground_truth_coords=extract_coordinates_from_matfile(\n",
    "#         '//home/jake/projects/mctv_resfiles/fiddlercrabs/flammula_20190925_male_left/flammula_male_25_9_left_latest.mat'\n",
    "#     ),\n",
    "#     min_distances=[4, 8, 12],\n",
    "#     min_vals=[0.2, 0.3, 0.4, 0.5]\n",
    "# )"
   ]
  }
 ],
 "metadata": {
  "kernelspec": {
   "display_name": "Python 3 (ipykernel)",
   "language": "python",
   "name": "python3"
  },
  "language_info": {
   "codemirror_mode": {
    "name": "ipython",
    "version": 3
   },
   "file_extension": ".py",
   "mimetype": "text/x-python",
   "name": "python",
   "nbconvert_exporter": "python",
   "pygments_lexer": "ipython3",
   "version": "3.8.10"
  }
 },
 "nbformat": 4,
 "nbformat_minor": 5
}
