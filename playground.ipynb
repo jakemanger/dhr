{
 "cells": [
  {
   "cell_type": "code",
   "execution_count": 19,
   "metadata": {},
   "outputs": [],
   "source": [
    "import numpy as np\n",
    "import napari"
   ]
  },
  {
   "cell_type": "code",
   "execution_count": 7,
   "metadata": {},
   "outputs": [],
   "source": [
    "import torchio as tio\n",
    "\n",
    "image = tio.Image(\n",
    "    '/home/jake/projects/DeepRadiologist/dataset/fiddlercrab_corneas/cropped/test_images_10/flammula_20190925_male_left-0-image.nii.gz',\n",
    "    type=tio.IMAGE\n",
    ")"
   ]
  },
  {
   "cell_type": "code",
   "execution_count": 8,
   "metadata": {},
   "outputs": [
    {
     "data": {
      "text/plain": [
       "Image(shape: (1, 256, 256, 256); spacing: (0.86, 0.86, 0.86); orientation: LPS+; path: \"/home/jake/projects/DeepRadiologist/dataset/fiddlercrab_corneas/cropped/test_images_10/flammula_20190925_male_left-0-image.nii.gz\")"
      ]
     },
     "execution_count": 8,
     "metadata": {},
     "output_type": "execute_result"
    }
   ],
   "source": [
    "image"
   ]
  },
  {
   "cell_type": "code",
   "execution_count": 26,
   "metadata": {},
   "outputs": [
    {
     "name": "stderr",
     "output_type": "stream",
     "text": [
      "/home/jake/projects/deep_radiologist/venv/lib/python3.8/site-packages/napari/_vispy/vispy_camera.py:109: RuntimeWarning: divide by zero encountered in true_divide\n",
      "  zoom = np.min(canvas_size / scale)\n"
     ]
    },
    {
     "data": {
      "text/plain": [
       "Viewer(axes=Axes(visible=False, labels=True, colored=True, dashed=False, arrows=True), camera=Camera(center=(0.0, 4.0, 4.0), zoom=164.70624999999998, angles=(0.0, 0.0, 90.0), perspective=0.0, interactive=True), cursor=Cursor(position=(0.0, 0.0, 0.0), scaled=True, size=1, style='standard'), dims=Dims(ndim=3, ndisplay=2, last_used=2, range=((0.0, 8.0, 1.0), (0.0, 8.0, 1.0), (0.0, 8.0, 1.0)), current_step=(0, 0, 0), order=(0, 1, 2), axis_labels=('0', '1', '2')), grid=GridCanvas(enabled=False, stride=1, shape=(-1, -1)), layers=[<Image layer 'a' at 0x7fbc1bec4880>], scale_bar=ScaleBar(visible=False, colored=False, ticks=True, position='bottom_right', font_size=10.0, unit=None), text_overlay=TextOverlay(visible=False, color=array([1., 1., 1., 1.]), font_size=10.0, position='top_left', text=''), help='', status='Ready', tooltip=Tooltip(visible=True, text=''), theme='dark', title='napari', mouse_move_callbacks=[], mouse_drag_callbacks=[], mouse_wheel_callbacks=[<function dims_scroll at 0x7fbca704a3a0>], _persisted_mouse_event={}, _mouse_drag_gen={}, _mouse_wheel_gen={}, keymap={'Control-Shift-C': <bound method QtViewer.toggle_console_visibility of <napari._qt.qt_viewer.QtViewer object at 0x7fbbb82cc820>>})"
      ]
     },
     "execution_count": 26,
     "metadata": {},
     "output_type": "execute_result"
    }
   ],
   "source": [
    "n_dims = 3\n",
    "m = 9 \n",
    "n = (m-1) / 2\n",
    "# make a distance matrix\n",
    "if n_dims == 2:\n",
    "    x, y = np.meshgrid(np.arange(-n, n+1), np.arange(-n, n+1))\n",
    "    a = np.sqrt(x**2 + y**2)\n",
    "if n_dims == 3:\n",
    "    x, y, z = np.meshgrid(np.arange(-n, n+1), np.arange(-n, n+1), np.arange(-n, n+1))\n",
    "    a = np.sqrt(x**2 + y**2 + z**2)\n",
    "\n",
    "# change to go from 0 to 1\n",
    "a = (a - np.min(a)) / (np.max(a) - np.min(a))\n",
    "# change to go from 1 to 0\n",
    "a = 1 - a\n",
    "\n",
    "# plot\n",
    "napari.view_image(a)"
   ]
  },
  {
   "cell_type": "code",
   "execution_count": 2,
   "metadata": {},
   "outputs": [
    {
     "name": "stderr",
     "output_type": "stream",
     "text": [
      "/home/jake/projects/deep_radiologist/venv/lib/python3.8/site-packages/napari/_vispy/vispy_camera.py:109: RuntimeWarning: divide by zero encountered in true_divide\n",
      "  zoom = np.min(canvas_size / scale)\n"
     ]
    },
    {
     "data": {
      "text/plain": [
       "<Image layer 'Original image' at 0x7ff8958c8610>"
      ]
     },
     "execution_count": 2,
     "metadata": {},
     "output_type": "execute_result"
    }
   ],
   "source": [
    "import torchio as tio\n",
    "import napari\n",
    "\n",
    "image = tio.Image(\n",
    "    './dataset/fiddler/cropped_with_csv_labs/test_images_whole_10/dampieri_male_16-image.nii.gz',\n",
    "    type=tio.IMAGE\n",
    ")\n",
    "new_mod_45 = tio.Image(\n",
    "    '/home/jake/projects/deep_radiologist/output/dampieri_male_16-image.lightning_logs_version_4_checkpoints_last_prediction45deg.nii.gz',\n",
    "    type=tio.LABEL\n",
    ")\n",
    "new_mod_0 = tio.Image(\n",
    "    '/home/jake/projects/deep_radiologist/output/dampieri_male_16-image.lightning_logs_version_4_checkpoints_last_prediction0degs.nii.gz',\n",
    "    type=tio.LABEL\n",
    ")\n",
    "new_mod_4_dirs = tio.Image(\n",
    "    '/home/jake/projects/deep_radiologist/output/dampieri_male_16-image.lightning_logs_version_4_checkpoints_last_prediction.nii.gz',\n",
    "    type=tio.LABEL\n",
    ")\n",
    "\n",
    "viewer = napari.view_image(new_mod_45.numpy(), name='New model (v4) 45 degree rotation')\n",
    "viewer.add_image(new_mod_0.numpy(), name='New model (v4) 0 degree rotation')\n",
    "viewer.add_image(new_mod_4_dirs.numpy(), name='New model (v4) 4 direction average')\n",
    "viewer.add_image(image.numpy(), name='Original image')"
   ]
  }
 ],
 "metadata": {
  "kernelspec": {
   "display_name": "Python 3.8.10 64-bit",
   "language": "python",
   "name": "python3"
  },
  "language_info": {
   "codemirror_mode": {
    "name": "ipython",
    "version": 3
   },
   "file_extension": ".py",
   "mimetype": "text/x-python",
   "name": "python",
   "nbconvert_exporter": "python",
   "pygments_lexer": "ipython3",
   "version": "3.8.10"
  },
  "orig_nbformat": 4,
  "vscode": {
   "interpreter": {
    "hash": "916dbcbb3f70747c44a77c7bcd40155683ae19c65e1c03b4aa3499c5328201f1"
   }
  }
 },
 "nbformat": 4,
 "nbformat_minor": 2
}
