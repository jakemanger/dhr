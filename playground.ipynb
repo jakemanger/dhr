{
 "cells": [
  {
   "cell_type": "code",
   "execution_count": null,
   "metadata": {},
   "outputs": [],
   "source": [
    "import numpy as np\n",
    "import napari"
   ]
  },
  {
   "cell_type": "code",
   "execution_count": null,
   "metadata": {},
   "outputs": [],
   "source": [
    "import torchio as tio\n",
    "\n",
    "image = tio.Image(\n",
    "    '/home/jake/projects/DeepRadiologist/dataset/fiddlercrab_corneas/cropped/test_images_10/flammula_20190925_male_left-0-image.nii.gz',\n",
    "    type=tio.IMAGE\n",
    ")"
   ]
  },
  {
   "cell_type": "code",
   "execution_count": null,
   "metadata": {},
   "outputs": [],
   "source": [
    "image"
   ]
  },
  {
   "cell_type": "code",
   "execution_count": null,
   "metadata": {},
   "outputs": [],
   "source": [
    "n_dims = 3\n",
    "m = 9 \n",
    "n = (m-1) / 2\n",
    "# make a distance matrix\n",
    "if n_dims == 2:\n",
    "    x, y = np.meshgrid(np.arange(-n, n+1), np.arange(-n, n+1))\n",
    "    a = np.sqrt(x**2 + y**2)\n",
    "if n_dims == 3:\n",
    "    x, y, z = np.meshgrid(np.arange(-n, n+1), np.arange(-n, n+1), np.arange(-n, n+1))\n",
    "    a = np.sqrt(x**2 + y**2 + z**2)\n",
    "\n",
    "# change to go from 0 to 1\n",
    "a = (a - np.min(a)) / (np.max(a) - np.min(a))\n",
    "# change to go from 1 to 0\n",
    "a = 1 - a\n",
    "\n",
    "# plot\n",
    "napari.view_image(a)"
   ]
  },
  {
   "cell_type": "code",
   "execution_count": null,
   "metadata": {},
   "outputs": [],
   "source": [
    "import torchio as tio\n",
    "import napari\n",
    "\n",
    "image = tio.Image(\n",
    "    './dataset/fiddler/cropped_with_csv_labs/test_images_whole_10/dampieri_male_16-image.nii.gz',\n",
    "    type=tio.IMAGE\n",
    ")\n",
    "new_mod_45 = tio.Image(\n",
    "    '/home/jake/projects/deep_radiologist/output/dampieri_male_16-image.lightning_logs_version_4_checkpoints_last_prediction45deg.nii.gz',\n",
    "    type=tio.LABEL\n",
    ")\n",
    "new_mod_0 = tio.Image(\n",
    "    '/home/jake/projects/deep_radiologist/output/dampieri_male_16-image.lightning_logs_version_4_checkpoints_last_prediction0degs.nii.gz',\n",
    "    type=tio.LABEL\n",
    ")\n",
    "new_mod_4_dirs = tio.Image(\n",
    "    '/home/jake/projects/deep_radiologist/output/dampieri_male_16-image.lightning_logs_version_4_checkpoints_last_prediction.nii.gz',\n",
    "    type=tio.LABEL\n",
    ")\n",
    "\n",
    "viewer = napari.view_image(new_mod_45.numpy(), name='New model (v4) 45 degree rotation')\n",
    "viewer.add_image(new_mod_0.numpy(), name='New model (v4) 0 degree rotation')\n",
    "viewer.add_image(new_mod_4_dirs.numpy(), name='New model (v4) 4 direction average')\n",
    "viewer.add_image(image.numpy(), name='Original image')"
   ]
  }
 ],
 "metadata": {
  "kernelspec": {
   "display_name": "Python 3.8.10 64-bit",
   "language": "python",
   "name": "python3"
  },
  "language_info": {
   "codemirror_mode": {
    "name": "ipython",
    "version": 3
   },
   "file_extension": ".py",
   "mimetype": "text/x-python",
   "name": "python",
   "nbconvert_exporter": "python",
   "pygments_lexer": "ipython3",
   "version": "3.8.10"
  },
  "vscode": {
   "interpreter": {
    "hash": "916dbcbb3f70747c44a77c7bcd40155683ae19c65e1c03b4aa3499c5328201f1"
   }
  }
 },
 "nbformat": 4,
 "nbformat_minor": 2
}
