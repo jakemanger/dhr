{
 "cells": [
  {
   "cell_type": "markdown",
   "metadata": {},
   "source": [
    "Load dependencies"
   ]
  },
  {
   "cell_type": "code",
   "execution_count": 1,
   "metadata": {},
   "outputs": [],
   "source": [
    "import torchio as tio\n",
    "from mctnet.lightning_modules import DataModule\n",
    "import yaml\n",
    "from yaml.loader import SafeLoader\n",
    "import multiprocessing\n",
    "import napari\n",
    "\n",
    "with open('config.yaml', 'r') as f:\n",
    "    config = yaml.load(f, Loader=SafeLoader)\n",
    "\n",
    "\n",
    "data = DataModule(\n",
    "    batch_size=config['batch_size'],\n",
    "    train_val_ratio=config['train_val_ratio'],\n",
    "    train_images_dir=config['train_images_dir'],\n",
    "    train_labels_dir=config['train_labels_dir'],\n",
    "    test_images_dir=config['test_images_dir'],\n",
    "    test_labels_dir=config['test_labels_dir'],\n",
    "    patch_size=config['patch_size'],\n",
    "    samples_per_volume=config['samples_per_volume'],\n",
    "    max_length=config['max_length'],\n",
    "    num_workers=multiprocessing.cpu_count(),\n",
    "    balanced_sampler=config['balanced_sampler'],\n",
    "    label_suffix='corneas',\n",
    "    sigma=config['starting_sigma'],\n",
    "    learn_sigma=config['learn_sigma'],\n",
    "    heatmap_max_length=25,\n",
    "    balanced_sampler_length=9,\n",
    "    histogram_landmarks_path=config['histogram_landmarks_path'],\n",
    ")"
   ]
  },
  {
   "cell_type": "markdown",
   "metadata": {},
   "source": [
    "Lazy load the images and setup everything else"
   ]
  },
  {
   "cell_type": "code",
   "execution_count": 10,
   "metadata": {},
   "outputs": [
    {
     "name": "stderr",
     "output_type": "stream",
     "text": [
      "/home/jake/projects/mctnet/venv/lib/python3.8/site-packages/pytorch_lightning/core/datamodule.py:423: LightningDeprecationWarning: DataModule.setup has already been called, so it will not be called again. In v1.6 this behavior will change to always call DataModule.setup.\n",
      "  rank_zero_deprecation(\n"
     ]
    }
   ],
   "source": [
    "data.setup()\n",
    "images = data.subjects"
   ]
  },
  {
   "cell_type": "markdown",
   "metadata": {},
   "source": [
    "Select an image and plot it"
   ]
  },
  {
   "cell_type": "code",
   "execution_count": 26,
   "metadata": {},
   "outputs": [
    {
     "name": "stderr",
     "output_type": "stream",
     "text": [
      "/home/jake/projects/mctnet/venv/lib/python3.8/site-packages/napari/_vispy/vispy_camera.py:109: RuntimeWarning: divide by zero encountered in true_divide\n",
      "  zoom = np.min(canvas_size / scale)\n"
     ]
    }
   ],
   "source": [
    "example_img = images[1]\n",
    "viewr = napari.view_image(example_img.image.numpy(), name='original image')"
   ]
  },
  {
   "cell_type": "markdown",
   "metadata": {},
   "source": [
    "Now transform the image and plot it again"
   ]
  },
  {
   "cell_type": "code",
   "execution_count": 27,
   "metadata": {},
   "outputs": [],
   "source": [
    "random_affine = tio.Compose([\n",
    "    tio.RandomAffine(scales=0.3, degrees=360, p=1),\n",
    "])\n",
    "elastic_deformation = tio.Compose([\n",
    "    tio.RandomElasticDeformation(p=1),\n",
    "])\n",
    "random_affined_img = random_affine(example_img)\n",
    "elastic_deformed_img = elastic_deformation(example_img)"
   ]
  },
  {
   "cell_type": "code",
   "execution_count": 28,
   "metadata": {},
   "outputs": [
    {
     "data": {
      "text/plain": [
       "<Image layer 'elastic deformed' at 0x7f1a2111b280>"
      ]
     },
     "execution_count": 28,
     "metadata": {},
     "output_type": "execute_result"
    }
   ],
   "source": [
    "viewr.add_image(random_affined_img.image.numpy(), name='random affined')\n",
    "viewr.add_image(elastic_deformed_img.image.numpy(), name='elastic deformed')"
   ]
  },
  {
   "cell_type": "code",
   "execution_count": null,
   "metadata": {},
   "outputs": [],
   "source": []
  }
 ],
 "metadata": {
  "interpreter": {
   "hash": "31a48942190c568dca37d89b44406323423924f33afa458a3e4cc03984d7a785"
  },
  "kernelspec": {
   "display_name": "Python 3.8.10 64-bit ('venv': venv)",
   "language": "python",
   "name": "python3"
  },
  "language_info": {
   "codemirror_mode": {
    "name": "ipython",
    "version": 3
   },
   "file_extension": ".py",
   "mimetype": "text/x-python",
   "name": "python",
   "nbconvert_exporter": "python",
   "pygments_lexer": "ipython3",
   "version": "3.8.10"
  },
  "orig_nbformat": 4
 },
 "nbformat": 4,
 "nbformat_minor": 2
}
