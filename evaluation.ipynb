{
 "cells": [
  {
   "cell_type": "code",
   "execution_count": 7,
   "id": "323bc225-c317-4fc6-be25-e5214ad82037",
   "metadata": {},
   "outputs": [],
   "source": [
    "from deep_radiologist.actions import locate_peaks\n",
    "from deep_radiologist.data_loading import _load_point_data\n",
    "import torchio as tio\n",
    "import numpy as np\n",
    "from scipy import spatial\n",
    "import napari"
   ]
  },
  {
   "cell_type": "code",
   "execution_count": 12,
   "id": "d24ede48",
   "metadata": {},
   "outputs": [
    {
     "name": "stdout",
     "output_type": "stream",
     "text": [
      "True positives: 78, False positives: 5766, False negatives: 5174, N Real values: 5252, N Predicted values: 5844\n",
      "Percent correctly predicted 1.4851485148514851%\n",
      "Mean Localisation error: 3.847670550155179\n"
     ]
    },
    {
     "data": {
      "text/plain": [
       "<Points layer 'tp prediction' at 0x7f0545f3cfa0>"
      ]
     },
     "execution_count": 12,
     "metadata": {},
     "output_type": "execute_result"
    }
   ],
   "source": [
    "def get_acc_metrics(y_hat, y):\n",
    "    \"\"\"Calculates accuracy metrics for a set of predicted and ground truth coordinates.\n",
    "\n",
    "    Is a true positive if the distance between the predicted and closest ground truth coordinate\n",
    "    is less than the correct_prediction_distance config parameter. Is a false positive if the \n",
    "    distance is greater than the correct_prediction_distance parameter or it already has a closer\n",
    "    true positive. Is a false negative if the ground truth does not have a corresponding true\n",
    "    positive.\n",
    "\n",
    "    Args:\n",
    "        y_hat (np.ndarray): predicted coordinates\n",
    "        y (np.ndarray): ground truth coordinates\n",
    "\n",
    "    Returns:\n",
    "        tp (float): true positives\n",
    "        fp (float): false positives\n",
    "        fn (float): false negatives\n",
    "        loc_errs (np.ndarray): location errors\n",
    "    \"\"\"\n",
    "\n",
    "    tree = spatial.cKDTree(y)\n",
    "    closest_dists, closest_nbrs = tree.query(y_hat, k=1)\n",
    "\n",
    "    # if predictions are within distance of the same point, only keep the first one\n",
    "    # this is to avoid repeated counting of true positives that are actually false positives\n",
    "    # it doesn't matter which one is closer in this case, as we are just making a count\n",
    "    removed_dup_indx = np.unique(closest_nbrs, return_index=True)[1]\n",
    "    mask = np.zeros(closest_nbrs.shape, dtype='bool')\n",
    "    mask[removed_dup_indx] = True\n",
    "\n",
    "    true_positive = (closest_dists <= 5) & mask\n",
    "\n",
    "    tp = len(true_positive[true_positive])\n",
    "    fp = len(true_positive[~true_positive])\n",
    "    fn = y.shape[0] - tp\n",
    "    loc_errors = closest_dists[true_positive]\n",
    "\n",
    "    if len(loc_errors) == 0:\n",
    "        loc_errors = np.array([0])\n",
    "\n",
    "    tp_groundtruth = closest_nbrs[true_positive]\n",
    "    fn_mask = np.ones(y.shape[0], dtype='bool')\n",
    "    fn_mask[tp_groundtruth] = False\n",
    "\n",
    "    all_ground_truth = y\n",
    "    fp_prediction = y_hat[~true_positive]\n",
    "    fn_to_plot = y[fn_mask]\n",
    "    tp_groundtruth = y_hat[closest_nbrs[true_positive]]\n",
    "    tp_prediction = y_hat[true_positive]\n",
    "\n",
    "    things_to_plot = [all_ground_truth, fp_prediction, fn_to_plot, tp_groundtruth, tp_prediction]\n",
    "\n",
    "    print(f'True positives: {tp}, False positives: {fp}, False negatives: {fn}, N Real values: {y.shape[0]}, N Predicted values: {y_hat.shape[0]}')\n",
    "    print(f'Percent correctly predicted {tp / y.shape[0] * 100}%')\n",
    "    print(f'Mean Localisation error: {loc_errors.mean()}')\n",
    "\n",
    "    return tp, fp, fn, loc_errors, things_to_plot\n",
    "\n",
    "def evaluate(x, y, y_hat, plot=True):\n",
    "    mct = tio.ScalarImage(x)\n",
    "    prediction = tio.ScalarImage(y_hat)\n",
    "\n",
    "    prediction_locations = locate_peaks(\n",
    "        y_hat,\n",
    "        save=True,\n",
    "        plot=False,\n",
    "        peak_min_dist=4,\n",
    "        peak_min_val=0.2,\n",
    "    )\n",
    "    ground_truth_locations=np.loadtxt(\n",
    "        y,\n",
    "        delimiter=',',\n",
    "        dtype=np.float\n",
    "    ).astype(int).T\n",
    "\n",
    "    tp, fp, fn, loc_errors, things_to_plot = get_acc_metrics(prediction_locations, ground_truth_locations)\n",
    "\n",
    "    viewer = napari.view_points(things_to_plot[0], name='all ground truth', size=2, face_color='pink')\n",
    "    viewer.add_points(things_to_plot[1], name='fp prediction', size=2, face_color='red')\n",
    "    viewer.add_points(things_to_plot[2], name='fn', size=2, face_color='yellow')\n",
    "    viewer.add_points(things_to_plot[3], name='tp groundtruth', size=2, face_color='blue')\n",
    "    viewer.add_points(things_to_plot[4], name='tp prediction', size=2, face_color='green')\n",
    "\n",
    "    return tp, fp, fn, loc_errors"
   ]
  },
  {
   "cell_type": "markdown",
   "id": "f2a24583",
   "metadata": {},
   "source": [
    "# Evaluation\n",
    "\n",
    "Fiddler crab corneas"
   ]
  },
  {
   "cell_type": "code",
   "execution_count": null,
   "id": "f90dd396",
   "metadata": {},
   "outputs": [],
   "source": [
    "\n",
    "\n",
    "x = './dataset/fiddlercrab_corneas/whole/test_images_10/dampieri_male_16-image.nii.gz'\n",
    "y = './dataset/fiddlercrab_corneas/whole/test_labels_10/dampieri_male_16-rhabdoms.csv'\n",
    "y_hat = './output/dampieri_male_16-image.logs_fiddlercrab_rhabdoms_lightning_logs_version_4_checkpoints_last_prediction.nii.gz'\n",
    "\n",
    "evaluate(x, y, y_hat)"
   ]
  },
  {
   "cell_type": "markdown",
   "id": "b3cd5947",
   "metadata": {},
   "source": [
    "Fiddler crab rhabdoms"
   ]
  },
  {
   "cell_type": "code",
   "execution_count": 8,
   "id": "bb1ef78f",
   "metadata": {},
   "outputs": [],
   "source": [
    "x = './dataset/fiddlercrab_rhabdoms/whole/test_images_10/dampieri_male_16-image.nii.gz'\n",
    "y = './dataset/fiddlercrab_rhabdoms/whole/test_labels_10/dampieri_male_16-rhabdoms.csv'\n",
    "y_hat = './output/dampieri_male_16-image.logs_fiddlercrab_rhabdoms_lightning_logs_version_4_checkpoints_last_prediction.nii.gz'\n",
    "\n",
    "evaluate(x, y, y_hat)"
   ]
  }
 ],
 "metadata": {
  "interpreter": {
   "hash": "9e2de57d15965f72b89e8ca62bc4307d8ca62495ff41b03bd112e89b2b659458"
  },
  "kernelspec": {
   "display_name": "Python 3.8.10 ('venv': venv)",
   "language": "python",
   "name": "python3"
  },
  "language_info": {
   "codemirror_mode": {
    "name": "ipython",
    "version": 3
   },
   "file_extension": ".py",
   "mimetype": "text/x-python",
   "name": "python",
   "nbconvert_exporter": "python",
   "pygments_lexer": "ipython3",
   "version": "3.8.10"
  }
 },
 "nbformat": 4,
 "nbformat_minor": 5
}
