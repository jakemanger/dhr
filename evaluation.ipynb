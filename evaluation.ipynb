{
 "cells": [
  {
   "cell_type": "code",
   "execution_count": 1,
   "id": "323bc225-c317-4fc6-be25-e5214ad82037",
   "metadata": {},
   "outputs": [],
   "source": [
    "from mctnet.actions import locate_peaks\n",
    "from mctnet.data_loading import _load_point_data\n",
    "import torchio as tio\n",
    "import numpy as np\n",
    "from scipy import spatial\n",
    "import napari"
   ]
  },
  {
   "cell_type": "code",
   "execution_count": 2,
   "id": "522c0899",
   "metadata": {},
   "outputs": [],
   "source": [
    "mct = tio.ScalarImage('./dataset/fiddler/cropped_with_csv_labs/test_images_whole_10/dampieri_male_16-image.nii.gz')\n",
    "prediction = tio.ScalarImage('./output/dampieri_male_16-image.prediction_sigma_3.nii.gz')"
   ]
  },
  {
   "cell_type": "code",
   "execution_count": 3,
   "id": "7f91bbbc",
   "metadata": {},
   "outputs": [
    {
     "name": "stdout",
     "output_type": "stream",
     "text": [
      "Locating peaks...\n",
      "Saving peaks...\n"
     ]
    }
   ],
   "source": [
    "prediction_locations = locate_peaks(\n",
    "    './output/dampieri_male_16-image.prediction_sigma_3.nii.gz',\n",
    "    save=True,\n",
    "    plot=False,\n",
    "    peak_min_dist=4,\n",
    "    peak_min_val=0.5,\n",
    ")"
   ]
  },
  {
   "cell_type": "code",
   "execution_count": 4,
   "id": "efb95a90",
   "metadata": {},
   "outputs": [],
   "source": [
    "ground_truth_locations=np.loadtxt(\n",
    "    './dataset/fiddler/cropped_with_csv_labs/test_labels_whole_10/dampieri_male_16-corneas.csv',\n",
    "    delimiter=',',\n",
    "    dtype=np.float\n",
    ").astype(int).T"
   ]
  },
  {
   "cell_type": "code",
   "execution_count": 5,
   "id": "b67c4bb5",
   "metadata": {},
   "outputs": [
    {
     "name": "stderr",
     "output_type": "stream",
     "text": [
      "/home/jake/projects/mctnet/venv/lib/python3.8/site-packages/napari/_vispy/vispy_camera.py:109: RuntimeWarning: divide by zero encountered in true_divide\n",
      "  zoom = np.min(canvas_size / scale)\n"
     ]
    },
    {
     "data": {
      "text/plain": [
       "<Image layer 'prediction heatmap' at 0x7f7976cceeb0>"
      ]
     },
     "execution_count": 5,
     "metadata": {},
     "output_type": "execute_result"
    }
   ],
   "source": [
    "viewr = napari.view_points(ground_truth_locations, name='ground truths')\n",
    "viewr.add_points(prediction_locations, name='prediction locations')\n",
    "viewr.add_image(mct.numpy(), name='mct')\n",
    "viewr.add_image(prediction.numpy(), name='prediction heatmap')"
   ]
  },
  {
   "cell_type": "code",
   "execution_count": 16,
   "id": "d24ede48",
   "metadata": {},
   "outputs": [],
   "source": [
    "tree = spatial.KDTree(prediction_locations)\n",
    "closest_dists_1_and_2, closest_neighbours_1_and_2 = tree.query(ground_truth_locations, k=2)\n",
    "\n",
    "closest_dists = np.array([x[0] for x in closest_dists_1_and_2])\n",
    "second_closest_dists = np.array([x[1] for x in closest_dists_1_and_2])\n",
    "closest_neighbours = np.array([x[0] for x in closest_neighbours_1_and_2])\n",
    "second_closest_neighbours = np.array([x[1] for x in closest_neighbours_1_and_2])\n",
    "\n",
    "is_within_distance = closest_dists < 6\n",
    "correct_prediction_distances = closest_dists[is_within_distance]\n",
    "\n",
    "correct_prediction_coord_indx = closest_neighbours[is_within_distance]\n",
    "all_indxs = np.arange(0, len(prediction_locations))\n",
    "incorrect_prediction_coord_indx = [x for x in all_indxs if x not in correct_prediction_coord_indx]\n",
    "\n",
    "correct = prediction_locations[correct_prediction_coord_indx]\n",
    "false_positives = prediction_locations[incorrect_prediction_coord_indx]"
   ]
  },
  {
   "cell_type": "code",
   "execution_count": 17,
   "id": "848372d3",
   "metadata": {},
   "outputs": [
    {
     "data": {
      "text/plain": [
       "<Points layer 'false positive predicted corneas based on within distance [1]' at 0x7f7989c1a880>"
      ]
     },
     "execution_count": 17,
     "metadata": {},
     "output_type": "execute_result"
    }
   ],
   "source": [
    "viewr.add_points(correct, name='correctly predicted corneas based on within distance')\n",
    "viewr.add_points(false_positives, name='false positive predicted corneas based on within distance')"
   ]
  },
  {
   "cell_type": "code",
   "execution_count": 18,
   "id": "eb1d80f8",
   "metadata": {},
   "outputs": [
    {
     "name": "stdout",
     "output_type": "stream",
     "text": [
      "Evaluation summary:\n",
      "\tPercentage correctly predicted: 88.39642381586457\n",
      "\tNumber correctly predicted: 4647\n",
      "\tAverage distance (of correct predictions): 2.4498265422540166\n",
      "\tMedian distance (of correct predictions): 2.449489742783178\n",
      "\tStandard deviation (of correct predictions): 0.7374707771922006\n",
      "\tMinimum distance (of correct predictions): 0.0\n",
      "\tMaximum distance (of correct predictions): 5.916079783099616\n",
      "\tNumber missing: 610\n",
      "\tNumber of false positives: 1200\n",
      "\tNumber in ground truth: 5257\n",
      "\tNumber in prediction: 5843\n"
     ]
    }
   ],
   "source": [
    "# print summary of evaluation\n",
    "print('Evaluation summary:')\n",
    "print('\\tPercentage correctly predicted:', len(correct) / len(ground_truth_locations) * 100)\n",
    "print('\\tNumber correctly predicted:', len(correct))\n",
    "print('\\tAverage distance (of correct predictions):', np.mean(correct_prediction_distances))\n",
    "print('\\tMedian distance (of correct predictions):', np.median(correct_prediction_distances))\n",
    "print('\\tStandard deviation (of correct predictions):', np.std(correct_prediction_distances))\n",
    "print('\\tMinimum distance (of correct predictions):', np.min(correct_prediction_distances))\n",
    "print('\\tMaximum distance (of correct predictions):', np.max(correct_prediction_distances))\n",
    "print('\\tNumber missing:', len(ground_truth_locations) - len(correct))\n",
    "print('\\tNumber of false positives:', len(false_positives))\n",
    "print('\\tNumber in ground truth:', len(ground_truth_locations))\n",
    "print('\\tNumber in prediction:', len(prediction_locations))"
   ]
  },
  {
   "cell_type": "code",
   "execution_count": 19,
   "id": "1903c077",
   "metadata": {},
   "outputs": [
    {
     "data": {
      "text/plain": [
       "array([[483, 589, 179],\n",
       "       [498, 590, 195],\n",
       "       [498, 594, 203],\n",
       "       ...,\n",
       "       [173, 412, 502],\n",
       "       [176, 405, 510],\n",
       "       [178, 399, 519]])"
      ]
     },
     "execution_count": 19,
     "metadata": {},
     "output_type": "execute_result"
    }
   ],
   "source": [
    "correct"
   ]
  },
  {
   "cell_type": "code",
   "execution_count": 21,
   "id": "18a66072-d707-4ebe-98c2-a7087df82b64",
   "metadata": {},
   "outputs": [],
   "source": [
    "# def estimate_error(peaks, ground_truth_peaks):\n",
    "#     breakpoint()\n",
    "#     return None\n",
    "\n",
    "\n",
    "# def test_different_peak_params(prediction_path, ground_truth_coords, min_distances, min_vals, plot_and_pause=False):\n",
    "#     \"\"\"Estimate the error of the peaks with different peak-finding parameters.\n",
    "    \n",
    "#     Args: \n",
    "#         prediction_path (str): Path to the prediction volume.\n",
    "#         ground_truth_coords (list): List of ground truth coordinates (x, y, z).\n",
    "#         min_distances (list): The list of minimum distances you want to try.\n",
    "#         min_vals (list): The list of minimum values (float) you want to try.\n",
    "#         plot_and_pause (bool): If True, plot the results and pause after each parameter error measurement.\n",
    "#         If False, don't plot and don't pause.\n",
    "\n",
    "#     Returns:\n",
    "#         list: The list of errors.\n",
    "#     \"\"\"\n",
    "#     if type(min_distances) == int:\n",
    "#         min_distances = [min_distances]\n",
    "#     if type(min_vals) == float:\n",
    "#         min_vals = [min_vals]\n",
    "\n",
    "#     errors = []\n",
    "#     for min_distance in min_distances:\n",
    "#         for min_val in min_vals:\n",
    "#             peaks = locate_peaks(\n",
    "#                 prediction_path,\n",
    "#                 save=True,\n",
    "#                 plot=plot_and_pause,\n",
    "#                 peak_min_dist=min_distance,\n",
    "#                 peak_min_val=min_val\n",
    "#             )\n",
    "\n",
    "#             errors.append(estimate_error(peaks, ground_truth_coords))\n",
    "\n",
    "#     return errors\n"
   ]
  },
  {
   "cell_type": "code",
   "execution_count": 22,
   "id": "93b425e1-719d-41ab-a9c9-d8e0276d60aa",
   "metadata": {},
   "outputs": [],
   "source": [
    "# errors_dampieri = test_different_peak_params(\n",
    "#     prediction_path='/home/jake/projects/mctnet/dataset/fiddler/cropped/test_images_whole/dampieri_male_16-image.nii.prediction.nii.gz',\n",
    "#     ground_truth_coords=np.loadtxt(\n",
    "#         './dataset/fiddler/cropped_with_csv_labs/test_labels_whole_10/dampieri_male_16-corneas.csv',\n",
    "#         delimiter=',',\n",
    "#         dtype=np.float\n",
    "#     ).astype(int),\n",
    "#     min_distances=8,\n",
    "#     min_vals=0.3,\n",
    "#     # min_distances=[4, 8, 12],\n",
    "#     # min_vals=[0.2, 0.3, 0.4, 0.5]\n",
    "# )\n",
    "# errors_flammula = test_different_peak_params(\n",
    "#     prediction_path='/home/jake/projects/mctnet/dataset/fiddler/cropped/test_images_whole/flammula_20190925_male_left-image.prediction.nii.gz',\n",
    "#     ground_truth_coords=np.loadtxt(\n",
    "#         '',\n",
    "#         delimiter=',',\n",
    "#         dtype=np.float\n",
    "#     ).astype(int),\n",
    "#     min_distances=[4, 8, 12],\n",
    "#     min_vals=[0.2, 0.3, 0.4, 0.5]\n",
    "# )"
   ]
  },
  {
   "cell_type": "code",
   "execution_count": 37,
   "id": "1a7bc3ae",
   "metadata": {},
   "outputs": [
    {
     "name": "stdout",
     "output_type": "stream",
     "text": [
      "Locating peaks...\n",
      "Saving peaks...\n"
     ]
    }
   ],
   "source": [
    "# # testing only\n",
    "# peaks, ground_truth_coords = test_different_peak_params(\n",
    "#     prediction_path='./dataset/fiddler/cropped/test_images_whole/dampieri_male_16-image.nii.prediction.nii.gz',\n",
    "#     ground_truth_coords=np.loadtxt(\n",
    "#         './dataset/fiddler/cropped_with_csv_labs/test_labels_whole_10/dampieri_male_16-corneas.csv',\n",
    "#         delimiter=',',\n",
    "#         dtype=np.float\n",
    "#     ).astype(int),\n",
    "#     min_distances=8,\n",
    "#     min_vals=0.3,\n",
    "# )\n"
   ]
  }
 ],
 "metadata": {
  "kernelspec": {
   "display_name": "Python 3 (ipykernel)",
   "language": "python",
   "name": "python3"
  },
  "language_info": {
   "codemirror_mode": {
    "name": "ipython",
    "version": 3
   },
   "file_extension": ".py",
   "mimetype": "text/x-python",
   "name": "python",
   "nbconvert_exporter": "python",
   "pygments_lexer": "ipython3",
   "version": "3.8.10"
  }
 },
 "nbformat": 4,
 "nbformat_minor": 5
}
