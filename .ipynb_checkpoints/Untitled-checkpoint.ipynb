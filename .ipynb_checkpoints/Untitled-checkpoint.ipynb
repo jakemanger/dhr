{
 "cells": [
  {
   "cell_type": "code",
   "execution_count": 10,
   "id": "323bc225-c317-4fc6-be25-e5214ad82037",
   "metadata": {},
   "outputs": [],
   "source": [
    "import napari\n",
    "import torchio as tio\n",
    "from mctnet.heatmap_peaker import locate_peaks_in_volume\n",
    "import numpy as np"
   ]
  },
  {
   "cell_type": "code",
   "execution_count": 11,
   "id": "18a66072-d707-4ebe-98c2-a7087df82b64",
   "metadata": {},
   "outputs": [],
   "source": [
    "def locate_peaks(heatmap_path, plot=True):\n",
    "    heatmap = tio.Image(heatmap_path, type=tio.LABEL)\n",
    "\n",
    "    if plot:\n",
    "        print('Plotting heatmap...')\n",
    "        viewer = napari.view_image(heatmap.numpy(), name='heatmap')\n",
    "\n",
    "    print('Locating peaks...')\n",
    "    peaks = locate_peaks_in_volume(heatmap.numpy(), min_distance=8, min_val=0.4)\n",
    "\n",
    "    if plot:\n",
    "        print('Plotting peaks...')\n",
    "        viewer.add_points(peaks, name='peaks')\n",
    "\n",
    "    return peaks, viewer"
   ]
  },
  {
   "cell_type": "code",
   "execution_count": 12,
   "id": "93b425e1-719d-41ab-a9c9-d8e0276d60aa",
   "metadata": {},
   "outputs": [
    {
     "name": "stdout",
     "output_type": "stream",
     "text": [
      "Plotting heatmap...\n"
     ]
    },
    {
     "name": "stderr",
     "output_type": "stream",
     "text": [
      "/home/jake/projects/mctnet/venv/lib/python3.8/site-packages/napari/_vispy/vispy_camera.py:109: RuntimeWarning: divide by zero encountered in true_divide\n",
      "  zoom = np.min(canvas_size / scale)\n"
     ]
    },
    {
     "name": "stdout",
     "output_type": "stream",
     "text": [
      "Locating peaks...\n",
      "Plotting peaks...\n"
     ]
    }
   ],
   "source": [
    "peaks, viewer = locate_peaks('/home/jake/projects/mctnet/dataset/fiddler/uncropped_old/test_inference_whole/old_flammula_20180307_prediction.nii')"
   ]
  },
  {
   "cell_type": "code",
   "execution_count": null,
   "id": "8bf29445-1a7b-4aa6-9c85-76f20534fdf7",
   "metadata": {},
   "outputs": [],
   "source": []
  }
 ],
 "metadata": {
  "kernelspec": {
   "display_name": "Python 3 (ipykernel)",
   "language": "python",
   "name": "python3"
  },
  "language_info": {
   "codemirror_mode": {
    "name": "ipython",
    "version": 3
   },
   "file_extension": ".py",
   "mimetype": "text/x-python",
   "name": "python",
   "nbconvert_exporter": "python",
   "pygments_lexer": "ipython3",
   "version": "3.8.10"
  }
 },
 "nbformat": 4,
 "nbformat_minor": 5
}
