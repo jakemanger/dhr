{
 "cells": [
  {
   "cell_type": "markdown",
   "metadata": {},
   "source": [
    "## Dependencies\n",
    "\n",
    "The below analysis is has the following python dependencies:\n",
    "- napari\n",
    "- dask-image"
   ]
  },
  {
   "cell_type": "code",
   "execution_count": 1,
   "metadata": {},
   "outputs": [],
   "source": [
    "%gui qt5\n",
    "# needed to launch a PyQt5 application (napari)"
   ]
  },
  {
   "cell_type": "markdown",
   "metadata": {},
   "source": [
    "## Loading the data\n",
    "We are using the `dask-image` package to load a *Paraphronima crassipes* DICOM dataset and the `napari` package to visualise this data."
   ]
  },
  {
   "cell_type": "code",
   "execution_count": 2,
   "metadata": {},
   "outputs": [],
   "source": [
    "from dask_image.imread import imread\n",
    "\n",
    "stack = imread(\"P_crassipes_FEG191022_077A/new/*.dcm\")"
   ]
  },
  {
   "cell_type": "markdown",
   "metadata": {},
   "source": [
    "Let's inspect the data:"
   ]
  },
  {
   "cell_type": "code",
   "execution_count": 3,
   "metadata": {},
   "outputs": [
    {
     "data": {
      "text/html": [
       "<table>\n",
       "<tr>\n",
       "<td>\n",
       "<table>\n",
       "  <thead>\n",
       "    <tr><td> </td><th> Array </th><th> Chunk </th></tr>\n",
       "  </thead>\n",
       "  <tbody>\n",
       "    <tr><th> Bytes </th><td> 351.36 MB </td> <td> 575.06 kB </td></tr>\n",
       "    <tr><th> Shape </th><td> (611, 652, 441) </td> <td> (1, 652, 441) </td></tr>\n",
       "    <tr><th> Count </th><td> 1833 Tasks </td><td> 611 Chunks </td></tr>\n",
       "    <tr><th> Type </th><td> int16 </td><td> numpy.ndarray </td></tr>\n",
       "  </tbody>\n",
       "</table>\n",
       "</td>\n",
       "<td>\n",
       "<svg width=\"207\" height=\"236\" style=\"stroke:rgb(0,0,0);stroke-width:1\" >\n",
       "\n",
       "  <!-- Horizontal lines -->\n",
       "  <line x1=\"10\" y1=\"0\" x2=\"76\" y2=\"66\" style=\"stroke-width:2\" />\n",
       "  <line x1=\"10\" y1=\"120\" x2=\"76\" y2=\"186\" style=\"stroke-width:2\" />\n",
       "\n",
       "  <!-- Vertical lines -->\n",
       "  <line x1=\"10\" y1=\"0\" x2=\"10\" y2=\"120\" style=\"stroke-width:2\" />\n",
       "  <line x1=\"13\" y1=\"3\" x2=\"13\" y2=\"123\" />\n",
       "  <line x1=\"16\" y1=\"6\" x2=\"16\" y2=\"126\" />\n",
       "  <line x1=\"20\" y1=\"10\" x2=\"20\" y2=\"130\" />\n",
       "  <line x1=\"23\" y1=\"13\" x2=\"23\" y2=\"133\" />\n",
       "  <line x1=\"27\" y1=\"17\" x2=\"27\" y2=\"137\" />\n",
       "  <line x1=\"30\" y1=\"20\" x2=\"30\" y2=\"140\" />\n",
       "  <line x1=\"34\" y1=\"24\" x2=\"34\" y2=\"144\" />\n",
       "  <line x1=\"37\" y1=\"27\" x2=\"37\" y2=\"147\" />\n",
       "  <line x1=\"41\" y1=\"31\" x2=\"41\" y2=\"151\" />\n",
       "  <line x1=\"44\" y1=\"34\" x2=\"44\" y2=\"154\" />\n",
       "  <line x1=\"48\" y1=\"38\" x2=\"48\" y2=\"158\" />\n",
       "  <line x1=\"51\" y1=\"41\" x2=\"51\" y2=\"161\" />\n",
       "  <line x1=\"55\" y1=\"45\" x2=\"55\" y2=\"165\" />\n",
       "  <line x1=\"58\" y1=\"48\" x2=\"58\" y2=\"168\" />\n",
       "  <line x1=\"62\" y1=\"52\" x2=\"62\" y2=\"172\" />\n",
       "  <line x1=\"65\" y1=\"55\" x2=\"65\" y2=\"175\" />\n",
       "  <line x1=\"69\" y1=\"59\" x2=\"69\" y2=\"179\" />\n",
       "  <line x1=\"72\" y1=\"62\" x2=\"72\" y2=\"182\" />\n",
       "  <line x1=\"76\" y1=\"66\" x2=\"76\" y2=\"186\" style=\"stroke-width:2\" />\n",
       "\n",
       "  <!-- Colored Rectangle -->\n",
       "  <polygon points=\"10.0,0.0 76.14940454709492,66.14940454709492 76.14940454709492,186.14940454709492 10.0,120.0\" style=\"fill:#8B4903A0;stroke-width:0\"/>\n",
       "\n",
       "  <!-- Horizontal lines -->\n",
       "  <line x1=\"10\" y1=\"0\" x2=\"91\" y2=\"0\" style=\"stroke-width:2\" />\n",
       "  <line x1=\"13\" y1=\"3\" x2=\"94\" y2=\"3\" />\n",
       "  <line x1=\"16\" y1=\"6\" x2=\"98\" y2=\"6\" />\n",
       "  <line x1=\"20\" y1=\"10\" x2=\"101\" y2=\"10\" />\n",
       "  <line x1=\"23\" y1=\"13\" x2=\"105\" y2=\"13\" />\n",
       "  <line x1=\"27\" y1=\"17\" x2=\"108\" y2=\"17\" />\n",
       "  <line x1=\"30\" y1=\"20\" x2=\"111\" y2=\"20\" />\n",
       "  <line x1=\"34\" y1=\"24\" x2=\"115\" y2=\"24\" />\n",
       "  <line x1=\"37\" y1=\"27\" x2=\"118\" y2=\"27\" />\n",
       "  <line x1=\"41\" y1=\"31\" x2=\"122\" y2=\"31\" />\n",
       "  <line x1=\"44\" y1=\"34\" x2=\"125\" y2=\"34\" />\n",
       "  <line x1=\"48\" y1=\"38\" x2=\"129\" y2=\"38\" />\n",
       "  <line x1=\"51\" y1=\"41\" x2=\"132\" y2=\"41\" />\n",
       "  <line x1=\"55\" y1=\"45\" x2=\"136\" y2=\"45\" />\n",
       "  <line x1=\"58\" y1=\"48\" x2=\"139\" y2=\"48\" />\n",
       "  <line x1=\"62\" y1=\"52\" x2=\"143\" y2=\"52\" />\n",
       "  <line x1=\"65\" y1=\"55\" x2=\"146\" y2=\"55\" />\n",
       "  <line x1=\"69\" y1=\"59\" x2=\"150\" y2=\"59\" />\n",
       "  <line x1=\"72\" y1=\"62\" x2=\"153\" y2=\"62\" />\n",
       "  <line x1=\"76\" y1=\"66\" x2=\"157\" y2=\"66\" style=\"stroke-width:2\" />\n",
       "\n",
       "  <!-- Vertical lines -->\n",
       "  <line x1=\"10\" y1=\"0\" x2=\"76\" y2=\"66\" style=\"stroke-width:2\" />\n",
       "  <line x1=\"91\" y1=\"0\" x2=\"157\" y2=\"66\" style=\"stroke-width:2\" />\n",
       "\n",
       "  <!-- Colored Rectangle -->\n",
       "  <polygon points=\"10.0,0.0 91.16564417177914,0.0 157.31504871887404,66.14940454709492 76.14940454709492,66.14940454709492\" style=\"fill:#8B4903A0;stroke-width:0\"/>\n",
       "\n",
       "  <!-- Horizontal lines -->\n",
       "  <line x1=\"76\" y1=\"66\" x2=\"157\" y2=\"66\" style=\"stroke-width:2\" />\n",
       "  <line x1=\"76\" y1=\"186\" x2=\"157\" y2=\"186\" style=\"stroke-width:2\" />\n",
       "\n",
       "  <!-- Vertical lines -->\n",
       "  <line x1=\"76\" y1=\"66\" x2=\"76\" y2=\"186\" style=\"stroke-width:2\" />\n",
       "  <line x1=\"157\" y1=\"66\" x2=\"157\" y2=\"186\" style=\"stroke-width:2\" />\n",
       "\n",
       "  <!-- Colored Rectangle -->\n",
       "  <polygon points=\"76.14940454709492,66.14940454709492 157.31504871887404,66.14940454709492 157.31504871887404,186.14940454709492 76.14940454709492,186.14940454709492\" style=\"fill:#ECB172A0;stroke-width:0\"/>\n",
       "\n",
       "  <!-- Text -->\n",
       "  <text x=\"116.732227\" y=\"206.149405\" font-size=\"1.0rem\" font-weight=\"100\" text-anchor=\"middle\" >441</text>\n",
       "  <text x=\"177.315049\" y=\"126.149405\" font-size=\"1.0rem\" font-weight=\"100\" text-anchor=\"middle\" transform=\"rotate(-90,177.315049,126.149405)\">652</text>\n",
       "  <text x=\"33.074702\" y=\"173.074702\" font-size=\"1.0rem\" font-weight=\"100\" text-anchor=\"middle\" transform=\"rotate(45,33.074702,173.074702)\">611</text>\n",
       "</svg>\n",
       "</td>\n",
       "</tr>\n",
       "</table>"
      ],
      "text/plain": [
       "dask.array<concatenate, shape=(611, 652, 441), dtype=int16, chunksize=(1, 652, 441), chunktype=numpy.ndarray>"
      ]
     },
     "execution_count": 3,
     "metadata": {},
     "output_type": "execute_result"
    }
   ],
   "source": [
    "stack"
   ]
  },
  {
   "cell_type": "markdown",
   "metadata": {},
   "source": [
    "## Plotting the data\n",
    "Now let's view the volumetric data using napari"
   ]
  },
  {
   "cell_type": "code",
   "execution_count": 4,
   "metadata": {},
   "outputs": [
    {
     "data": {
      "text/plain": [
       "<Image layer 'stack' at 0x10a9f06a0>"
      ]
     },
     "execution_count": 4,
     "metadata": {},
     "output_type": "execute_result"
    }
   ],
   "source": [
    "import napari\n",
    "\n",
    "# setup the viewer\n",
    "viewer = napari.Viewer()\n",
    "viewer.dims.ndisplay = 3 # toggle 3 dimensional view\n",
    "\n",
    "viewer.add_image(stack, contrast_limits=(18000, 32800))"
   ]
  },
  {
   "cell_type": "markdown",
   "metadata": {},
   "source": [
    "To see inside, lets cut the volume in half and plot again"
   ]
  },
  {
   "cell_type": "code",
   "execution_count": 5,
   "metadata": {},
   "outputs": [
    {
     "data": {
      "text/plain": [
       "<Image layer 'half_stack' at 0x166104ba8>"
      ]
     },
     "execution_count": 5,
     "metadata": {},
     "output_type": "execute_result"
    }
   ],
   "source": [
    "half_stack = stack[:, 0:326, :]\n",
    "viewer.add_image(half_stack, contrast_limits=(18000, 32800))"
   ]
  },
  {
   "cell_type": "markdown",
   "metadata": {},
   "source": [
    "Let's read in the annotated point data and add this to the plot"
   ]
  },
  {
   "cell_type": "code",
   "execution_count": 6,
   "metadata": {},
   "outputs": [],
   "source": [
    "import scipy.io\n",
    "mat = scipy.io.loadmat('P_crassipes_FEG191022_077A.mat')"
   ]
  },
  {
   "cell_type": "code",
   "execution_count": 7,
   "metadata": {},
   "outputs": [
    {
     "data": {
      "text/plain": [
       "dict_keys(['__header__', '__version__', '__globals__', 'save_dat', '__function_workspace__'])"
      ]
     },
     "execution_count": 7,
     "metadata": {},
     "output_type": "execute_result"
    }
   ],
   "source": [
    "type(mat)\n",
    "mat.keys()"
   ]
  },
  {
   "cell_type": "code",
   "execution_count": 8,
   "metadata": {},
   "outputs": [
    {
     "data": {
      "text/html": [
       "<div>\n",
       "<style scoped>\n",
       "    .dataframe tbody tr th:only-of-type {\n",
       "        vertical-align: middle;\n",
       "    }\n",
       "\n",
       "    .dataframe tbody tr th {\n",
       "        vertical-align: top;\n",
       "    }\n",
       "\n",
       "    .dataframe thead th {\n",
       "        text-align: right;\n",
       "    }\n",
       "</style>\n",
       "<table border=\"1\" class=\"dataframe\">\n",
       "  <thead>\n",
       "    <tr style=\"text-align: right;\">\n",
       "      <th></th>\n",
       "      <th>x</th>\n",
       "      <th>y</th>\n",
       "      <th>z</th>\n",
       "    </tr>\n",
       "  </thead>\n",
       "  <tbody>\n",
       "    <tr>\n",
       "      <th>0</th>\n",
       "      <td>40.481631</td>\n",
       "      <td>147.725003</td>\n",
       "      <td>199.015571</td>\n",
       "    </tr>\n",
       "    <tr>\n",
       "      <th>1</th>\n",
       "      <td>267.238732</td>\n",
       "      <td>79.774611</td>\n",
       "      <td>154.688388</td>\n",
       "    </tr>\n",
       "    <tr>\n",
       "      <th>2</th>\n",
       "      <td>40.195919</td>\n",
       "      <td>144.879549</td>\n",
       "      <td>247.636955</td>\n",
       "    </tr>\n",
       "    <tr>\n",
       "      <th>3</th>\n",
       "      <td>25.693888</td>\n",
       "      <td>181.412526</td>\n",
       "      <td>214.614645</td>\n",
       "    </tr>\n",
       "    <tr>\n",
       "      <th>4</th>\n",
       "      <td>257.335501</td>\n",
       "      <td>88.203109</td>\n",
       "      <td>153.242276</td>\n",
       "    </tr>\n",
       "    <tr>\n",
       "      <th>...</th>\n",
       "      <td>...</td>\n",
       "      <td>...</td>\n",
       "      <td>...</td>\n",
       "    </tr>\n",
       "    <tr>\n",
       "      <th>420</th>\n",
       "      <td>351.756917</td>\n",
       "      <td>141.633198</td>\n",
       "      <td>131.476212</td>\n",
       "    </tr>\n",
       "    <tr>\n",
       "      <th>421</th>\n",
       "      <td>348.101522</td>\n",
       "      <td>138.402087</td>\n",
       "      <td>123.711460</td>\n",
       "    </tr>\n",
       "    <tr>\n",
       "      <th>422</th>\n",
       "      <td>355.190020</td>\n",
       "      <td>137.432012</td>\n",
       "      <td>116.417385</td>\n",
       "    </tr>\n",
       "    <tr>\n",
       "      <th>423</th>\n",
       "      <td>389.251064</td>\n",
       "      <td>189.948370</td>\n",
       "      <td>131.885950</td>\n",
       "    </tr>\n",
       "    <tr>\n",
       "      <th>424</th>\n",
       "      <td>481.118988</td>\n",
       "      <td>227.562210</td>\n",
       "      <td>109.472328</td>\n",
       "    </tr>\n",
       "  </tbody>\n",
       "</table>\n",
       "<p>425 rows × 3 columns</p>\n",
       "</div>"
      ],
      "text/plain": [
       "              x           y           z\n",
       "0     40.481631  147.725003  199.015571\n",
       "1    267.238732   79.774611  154.688388\n",
       "2     40.195919  144.879549  247.636955\n",
       "3     25.693888  181.412526  214.614645\n",
       "4    257.335501   88.203109  153.242276\n",
       "..          ...         ...         ...\n",
       "420  351.756917  141.633198  131.476212\n",
       "421  348.101522  138.402087  123.711460\n",
       "422  355.190020  137.432012  116.417385\n",
       "423  389.251064  189.948370  131.885950\n",
       "424  481.118988  227.562210  109.472328\n",
       "\n",
       "[425 rows x 3 columns]"
      ]
     },
     "execution_count": 8,
     "metadata": {},
     "output_type": "execute_result"
    }
   ],
   "source": [
    "import pandas as pb\n",
    "points = pb.DataFrame(mat['save_dat'][0]['data'][0][0][0][0])\n",
    "\n",
    "points = pb.DataFrame(mat['save_dat'][0]['data'][0][0][0][0]).iloc[:,[2, 0, 1]]\n",
    "points.columns = ['x', 'y', 'z']\n",
    "points"
   ]
  },
  {
   "cell_type": "code",
   "execution_count": 9,
   "metadata": {},
   "outputs": [
    {
     "data": {
      "text/plain": [
       "<Points layer 'Points' at 0x16605f898>"
      ]
     },
     "execution_count": 9,
     "metadata": {},
     "output_type": "execute_result"
    }
   ],
   "source": [
    "viewer.add_points(points)"
   ]
  },
  {
   "cell_type": "markdown",
   "metadata": {},
   "source": [
    "Let's plot a rhabdom"
   ]
  },
  {
   "cell_type": "code",
   "execution_count": 10,
   "metadata": {},
   "outputs": [
    {
     "data": {
      "text/plain": [
       "<Image layer 'cube_around_point' at 0x19d086d30>"
      ]
     },
     "execution_count": 10,
     "metadata": {},
     "output_type": "execute_result"
    }
   ],
   "source": [
    "import numpy as np\n",
    "\n",
    "buffer = 30\n",
    "\n",
    "# rhabdom\n",
    "point_row = 50\n",
    "\n",
    "x_min = round(points.iloc[point_row, 0] - buffer)\n",
    "x_max = round(points.iloc[point_row, 0] + buffer)\n",
    "y_min = round(points.iloc[point_row, 1] - buffer)\n",
    "y_max = round(points.iloc[point_row, 1] + buffer)\n",
    "z_min = round(points.iloc[point_row, 2] - buffer)\n",
    "z_max = round(points.iloc[point_row, 2] + buffer)\n",
    "cube_around_point = stack[x_min:x_max, y_min:y_max, z_min:z_max]\n",
    "\n",
    "# setup the viewer\n",
    "cube_viewer = napari.Viewer()\n",
    "cube_viewer.dims.ndisplay = 3 # toggle 3 dimensional view\n",
    "\n",
    "cube_viewer.add_image(cube_around_point, contrast_limits=(18000, 32800))"
   ]
  },
  {
   "cell_type": "markdown",
   "metadata": {},
   "source": [
    "Now lets plot a cornea"
   ]
  },
  {
   "cell_type": "code",
   "execution_count": 11,
   "metadata": {},
   "outputs": [
    {
     "data": {
      "text/plain": [
       "<Image layer 'cube_around_point' at 0x1a0ab7eb8>"
      ]
     },
     "execution_count": 11,
     "metadata": {},
     "output_type": "execute_result"
    }
   ],
   "source": [
    "buffer = 30\n",
    "\n",
    "# cornea\n",
    "point_row = 200\n",
    "\n",
    "x_min = round(points.iloc[point_row, 0] - buffer)\n",
    "x_max = round(points.iloc[point_row, 0] + buffer)\n",
    "y_min = round(points.iloc[point_row, 1] - buffer)\n",
    "y_max = round(points.iloc[point_row, 1] + buffer)\n",
    "z_min = round(points.iloc[point_row, 2] - buffer)\n",
    "z_max = round(points.iloc[point_row, 2] + buffer)\n",
    "cube_around_point = stack[x_min:x_max, y_min:y_max, z_min:z_max]\n",
    "\n",
    "# setup the viewer\n",
    "cube_viewer = napari.Viewer()\n",
    "cube_viewer.dims.ndisplay = 3 # toggle 3 dimensional view\n",
    "\n",
    "cube_viewer.add_image(cube_around_point, contrast_limits=(18000, 32800))"
   ]
  },
  {
   "cell_type": "code",
   "execution_count": null,
   "metadata": {},
   "outputs": [],
   "source": []
  },
  {
   "cell_type": "code",
   "execution_count": null,
   "metadata": {},
   "outputs": [],
   "source": []
  }
 ],
 "metadata": {
  "kernelspec": {
   "display_name": "Python 3",
   "language": "python",
   "name": "python3"
  },
  "language_info": {
   "codemirror_mode": {
    "name": "ipython",
    "version": 3
   },
   "file_extension": ".py",
   "mimetype": "text/x-python",
   "name": "python",
   "nbconvert_exporter": "python",
   "pygments_lexer": "ipython3",
   "version": "3.6.8"
  }
 },
 "nbformat": 4,
 "nbformat_minor": 4
}
