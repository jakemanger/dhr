{
 "cells": [
  {
   "cell_type": "markdown",
   "id": "e6408c0f-327f-4552-ae3f-47d5f823627d",
   "metadata": {},
   "source": [
    "# View files\n",
    "\n",
    "Now that we have the raw images and the raw labels, we can start viewing each file to see whether they look correct or additional data is needed. To view these files, we will use napari and torchio and some other dependencies which we will load in below."
   ]
  },
  {
   "cell_type": "code",
   "execution_count": 1,
   "id": "5e82312c-2669-4dce-829d-5ae7707591da",
   "metadata": {},
   "outputs": [],
   "source": [
    "import napari\n",
    "import torchio as tio\n",
    "import os\n",
    "from pathlib import Path"
   ]
  },
  {
   "cell_type": "code",
   "execution_count": 2,
   "id": "a9cf4e20-a100-45b4-b13e-8d9cfcaf9e2c",
   "metadata": {},
   "outputs": [],
   "source": [
    "img_dir = '//mnt/d37c99c5-3b94-47b9-9965-c66fd9a16e23/jake/mctnet_data/raw_images/'\n",
    "label_dir = '//mnt/d37c99c5-3b94-47b9-9965-c66fd9a16e23/jake/mctnet_data/raw_labels/'"
   ]
  },
  {
   "cell_type": "code",
   "execution_count": 3,
   "id": "fb88da60-e8c4-41e4-a8fb-ef313196928d",
   "metadata": {},
   "outputs": [],
   "source": [
    "imgs = []\n",
    "labels = []\n",
    "\n",
    "for file in os.listdir(img_dir):\n",
    "    if file.endswith('.nii'):\n",
    "        imgs.append(img_dir + file)\n",
    "        \n",
    "for file in os.listdir(label_dir):\n",
    "    if file.endswith('.nii'):\n",
    "        labels.append(label_dir + file)"
   ]
  },
  {
   "cell_type": "code",
   "execution_count": 4,
   "id": "63ffd768-f347-4ac9-8905-fc2b1e332290",
   "metadata": {},
   "outputs": [
    {
     "data": {
      "text/plain": [
       "['//mnt/d37c99c5-3b94-47b9-9965-c66fd9a16e23/jake/mctnet_data/raw_images/Paraphronima_head_05_FEG200130_102.nii',\n",
       " '//mnt/d37c99c5-3b94-47b9-9965-c66fd9a16e23/jake/mctnet_data/raw_images/Vibilia_FEG191112_081_blurrya.nii',\n",
       " '//mnt/d37c99c5-3b94-47b9-9965-c66fd9a16e23/jake/mctnet_data/raw_images/streetsia_20180409.nii',\n",
       " '//mnt/d37c99c5-3b94-47b9-9965-c66fd9a16e23/jake/mctnet_data/raw_images/Phronima_01_head_sp_5_USNM1450842.nii',\n",
       " '//mnt/d37c99c5-3b94-47b9-9965-c66fd9a16e23/jake/mctnet_data/raw_images/FEG191028_078_dcm.nii']"
      ]
     },
     "execution_count": 4,
     "metadata": {},
     "output_type": "execute_result"
    }
   ],
   "source": [
    "imgs[:5]"
   ]
  },
  {
   "cell_type": "code",
   "execution_count": 5,
   "id": "befac5d4-182e-4eb1-b0ba-fd0e96b57f29",
   "metadata": {},
   "outputs": [
    {
     "data": {
      "text/plain": [
       "['//mnt/d37c99c5-3b94-47b9-9965-c66fd9a16e23/jake/mctnet_data/raw_labels/Paraphronima_head_05_FEG200130_102.nii',\n",
       " '//mnt/d37c99c5-3b94-47b9-9965-c66fd9a16e23/jake/mctnet_data/raw_labels/psyllid_20190906_female_eye.nii',\n",
       " '//mnt/d37c99c5-3b94-47b9-9965-c66fd9a16e23/jake/mctnet_data/raw_labels/phronima_20180403.nii',\n",
       " '//mnt/d37c99c5-3b94-47b9-9965-c66fd9a16e23/jake/mctnet_data/raw_labels/dampieri_20200218_male_left_1676.nii',\n",
       " '//mnt/d37c99c5-3b94-47b9-9965-c66fd9a16e23/jake/mctnet_data/raw_labels/P_crassipes_FEG200129_099_highpriority.nii']"
      ]
     },
     "execution_count": 5,
     "metadata": {},
     "output_type": "execute_result"
    }
   ],
   "source": [
    "labels[:5]"
   ]
  },
  {
   "cell_type": "markdown",
   "id": "8332f777-f777-47d3-bddf-1629171ec4f9",
   "metadata": {},
   "source": [
    "Let's find the imgs and labels with matching pairs and put the filename of these in a variable called `filenames`."
   ]
  },
  {
   "cell_type": "code",
   "execution_count": 6,
   "id": "0eef7da1-2136-40d4-bed9-75ee8a425057",
   "metadata": {},
   "outputs": [],
   "source": [
    "imgs_p = []\n",
    "for img in imgs:\n",
    "    imgs_p.append(Path(img).stem)\n",
    "    \n",
    "labels_p = []\n",
    "for label in labels:\n",
    "    labels_p.append(Path(label).stem)\n",
    "    \n",
    "filenames = sorted(list(set(imgs_p) & set(labels_p)))"
   ]
  },
  {
   "cell_type": "markdown",
   "id": "e3fd3639-9579-40cc-a327-413b63062918",
   "metadata": {},
   "source": [
    "Now let's loop through each filename and plot the data to see if it needs to be altered at all"
   ]
  },
  {
   "cell_type": "code",
   "execution_count": 7,
   "id": "b07bcb95-3780-4295-b0da-e17c659a50f2",
   "metadata": {},
   "outputs": [],
   "source": [
    "i = 0"
   ]
  },
  {
   "cell_type": "markdown",
   "id": "1b407fad-87c7-4b57-b4fb-288c2ab2b5ab",
   "metadata": {},
   "source": [
    "Load all of the subjects"
   ]
  },
  {
   "cell_type": "code",
   "execution_count": 11,
   "id": "a102cbab-c688-42dd-90b1-a5d10ad00526",
   "metadata": {},
   "outputs": [],
   "source": [
    "subjects = []\n",
    "\n",
    "for filename in filenames:\n",
    "    subject = tio.Subject(\n",
    "        image=tio.ScalarImage(img_dir + filename + '.nii'),\n",
    "        label=tio.LabelMap(label_dir + filename + '.nii'),\n",
    "        filename=filename\n",
    "    )\n",
    "    subjects.append(subject)"
   ]
  },
  {
   "cell_type": "markdown",
   "id": "508e6d53-0766-4ff9-a184-f09d23e4ccb0",
   "metadata": {},
   "source": [
    "Now plot each subject"
   ]
  },
  {
   "cell_type": "code",
   "execution_count": null,
   "id": "18dd375c-e2e2-4fef-853a-e5a9ab1af004",
   "metadata": {},
   "outputs": [],
   "source": [
    "subject[0].plot()"
   ]
  },
  {
   "cell_type": "code",
   "execution_count": null,
   "id": "4b209a48-4504-4d17-99e5-2744bf1d19a1",
   "metadata": {},
   "outputs": [],
   "source": [
    "i += 1"
   ]
  },
  {
   "cell_type": "markdown",
   "id": "a7fb9539-38b7-4b2c-907f-654928dcb7a4",
   "metadata": {},
   "source": [
    "Let's double check that the affine matrices are the same"
   ]
  },
  {
   "cell_type": "code",
   "execution_count": null,
   "id": "9a136fad-376d-4ecc-92d2-da08b2e361f2",
   "metadata": {},
   "outputs": [],
   "source": [
    "img.affine"
   ]
  },
  {
   "cell_type": "code",
   "execution_count": null,
   "id": "9cc372a2-ab8f-4694-ab50-46d028f1b52a",
   "metadata": {},
   "outputs": [],
   "source": [
    "lab.affine"
   ]
  },
  {
   "cell_type": "markdown",
   "id": "d75be4de-dfb3-4a45-a9bc-4080c667dd90",
   "metadata": {},
   "source": [
    "Now let's do a plot to make sure everything looks ok"
   ]
  },
  {
   "cell_type": "markdown",
   "id": "bf80c597-b222-4f2c-9aac-8e17361a0e3e",
   "metadata": {},
   "source": [
    "Now we can load this data quickly during training and testing. This can be done with the approach below."
   ]
  },
  {
   "cell_type": "code",
   "execution_count": null,
   "id": "b01af62a-144e-43ad-9033-0a2ce202924d",
   "metadata": {},
   "outputs": [],
   "source": [
    "img = tio.ScalarImage(\n",
    "    \n",
    ")\n",
    "ann = tio.LabelMap(\n",
    "    'data/'+ id + '/' + id + '_label.nii.gz',\n",
    "    affine=img.affine\n",
    ")\n",
    "subject = tio.Subject(\n",
    "    mct=img,\n",
    "    labels=ann,\n",
    "    id=id\n",
    ")\n",
    "# subject.plot()\n",
    "\n",
    "viewer = napari.Viewer()\n",
    "viewer.dims.ndisplay = 3 # toggle 3 dimensional view\n",
    "viewer.add_image(img.data.numpy())\n",
    "viewer.add_image(ann.data.numpy())"
   ]
  }
 ],
 "metadata": {
  "kernelspec": {
   "display_name": "Python 3 (ipykernel)",
   "language": "python",
   "name": "python3"
  },
  "language_info": {
   "codemirror_mode": {
    "name": "ipython",
    "version": 3
   },
   "file_extension": ".py",
   "mimetype": "text/x-python",
   "name": "python",
   "nbconvert_exporter": "python",
   "pygments_lexer": "ipython3",
   "version": "3.8.10"
  }
 },
 "nbformat": 4,
 "nbformat_minor": 5
}
