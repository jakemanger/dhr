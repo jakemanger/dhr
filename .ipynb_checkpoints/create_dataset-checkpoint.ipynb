{
 "cells": [
  {
   "cell_type": "markdown",
   "metadata": {},
   "source": [
    "# Initial setup\n",
    "## Load dependencies"
   ]
  },
  {
   "cell_type": "code",
   "execution_count": 30,
   "metadata": {},
   "outputs": [],
   "source": [
    "import os\n",
    "import dicom2nifti\n",
    "from pathlib import Path\n",
    "import multiprocessing\n",
    "import time\n",
    "from shutil import copyfile"
   ]
  },
  {
   "cell_type": "markdown",
   "metadata": {},
   "source": [
    "## Define locations for data\n",
    "We seperate output directories into raw and non-raw/final. This is because we need to do a set of preprocessing stages to the raw data before we make the final dataset."
   ]
  },
  {
   "cell_type": "code",
   "execution_count": 38,
   "metadata": {},
   "outputs": [],
   "source": [
    "# inputs\n",
    "input_image_dir = '/media/jake/1tb_ssd/mctv_analysis/head_scans'\n",
    "input_labels_dir = '/media/jake/1tb_ssd/mctv_analysis/mctv_resfiles'\n",
    "\n",
    "# outputs\n",
    "main_dir = '/media/jake/data/jake/mctnet_data'\n",
    "raw_image_dir = '/media/jake/data/jake/mctnet_data/raw_images'\n",
    "raw_labels_dir = '/media/jake/data/jake/mctnet_data/raw_labels'\n",
    "image_dir = '/media/jake/data/jake/mctnet_data/images'\n",
    "labels_dir = '/media/jake/data/jake/mctnet_data/labels'\n",
    "\n",
    "if not os.path.isdir(image_dir):\n",
    "    os.makedirs(image_dir)\n",
    "\n",
    "if not os.path.isdir(labels_dir):\n",
    "    os.makedirs(labels_dir)"
   ]
  },
  {
   "cell_type": "markdown",
   "metadata": {},
   "source": [
    "# Collate images\n",
    "Our original images are organised in a messy way. Let's collate them together and fix that up.\n",
    "\n",
    "First, let's find all the images in the input image directory"
   ]
  },
  {
   "cell_type": "code",
   "execution_count": 39,
   "metadata": {
    "tags": []
   },
   "outputs": [
    {
     "name": "stdout",
     "output_type": "stream",
     "text": [
      "Found 26 nifti files\n",
      "Found 70 dicom directories\n"
     ]
    }
   ],
   "source": [
    "nii_files = []\n",
    "dicom_dirs = []\n",
    "for root, dirs, files in os.walk(input_image_dir):\n",
    "    for i, file in enumerate(files):\n",
    "        if file.endswith('.nii'):\n",
    "            nii_files.append(root + '/' + file)\n",
    "        if file.endswith('.dcm'):\n",
    "            dicom_dirs.append(root)\n",
    "\n",
    "# remove duplicate dicom_dirs\n",
    "dicom_dirs = list(set(dicom_dirs))\n",
    "\n",
    "print('Found ' + str(len(nii_files)) + ' nifti files')\n",
    "print('Found ' + str(len(dicom_dirs)) + ' dicom directories')"
   ]
  },
  {
   "cell_type": "markdown",
   "metadata": {},
   "source": [
    "Let's plot the first 10"
   ]
  },
  {
   "cell_type": "code",
   "execution_count": 40,
   "metadata": {},
   "outputs": [
    {
     "data": {
      "text/plain": [
       "['/media/jake/1tb_ssd/mctv_analysis/head_scans/Brachyscelus.nii',\n",
       " '/media/jake/1tb_ssd/mctv_analysis/head_scans/Vibilia_01_FEG191211_087_filterted.nii',\n",
       " '/media/jake/1tb_ssd/mctv_analysis/head_scans/Paraphronima_FEG200130_103_head_04.nii',\n",
       " '/media/jake/1tb_ssd/mctv_analysis/head_scans/Scypholanceola_head_02_FEG191022_076.nii',\n",
       " '/media/jake/1tb_ssd/mctv_analysis/head_scans/Platyscelus_02_FEG191112_082.nii',\n",
       " '/media/jake/1tb_ssd/mctv_analysis/head_scans/Phronima_05_FEG200107_090.nii',\n",
       " '/media/jake/1tb_ssd/mctv_analysis/head_scans/Paraphronima_FEG200130_102_head_05.nii',\n",
       " '/media/jake/1tb_ssd/mctv_analysis/head_scans/Hyperia 01_segmented eyes.nii',\n",
       " '/media/jake/1tb_ssd/mctv_analysis/head_scans/Phronima_04_FEG200107_089.nii',\n",
       " '/media/jake/1tb_ssd/mctv_analysis/head_scans/psyllid_20190906_male_eye/psyllid_20190906_male_eye.nii']"
      ]
     },
     "execution_count": 40,
     "metadata": {},
     "output_type": "execute_result"
    }
   ],
   "source": [
    "nii_files[:10]"
   ]
  },
  {
   "cell_type": "code",
   "execution_count": 41,
   "metadata": {},
   "outputs": [
    {
     "data": {
      "text/plain": [
       "['/media/jake/1tb_ssd/mctv_analysis/head_scans/Phronima_1450842_body_1_slices',\n",
       " '/media/jake/1tb_ssd/mctv_analysis/head_scans/Streetsia_head_sp_4_USNM1450785_2',\n",
       " '/media/jake/1tb_ssd/mctv_analysis/head_scans/Cystisoma_FEG190801_035_brain',\n",
       " '/media/jake/1tb_ssd/mctv_analysis/head_scans/P_crassipes_FEG200129_099_cropped',\n",
       " '/media/jake/1tb_ssd/mctv_analysis/head_scans/P_crassipes_FEG190213_002_head_eyesdamaged',\n",
       " '/media/jake/1tb_ssd/mctv_analysis/head_scans/Lanceola_FEG20190212_02b_head_slices',\n",
       " '/media/jake/1tb_ssd/mctv_analysis/head_scans/Paraphronima_head_04_FEG200130_103',\n",
       " '/media/jake/1tb_ssd/mctv_analysis/head_scans/Pronoe_sp6_1450786F',\n",
       " '/media/jake/1tb_ssd/mctv_analysis/head_scans/P_crassipes_FEG190213_003b_02_head',\n",
       " '/media/jake/1tb_ssd/mctv_analysis/head_scans/Vibilia_FEG191112_081_blurry']"
      ]
     },
     "execution_count": 41,
     "metadata": {},
     "output_type": "execute_result"
    }
   ],
   "source": [
    "dicom_dirs[:10]"
   ]
  },
  {
   "cell_type": "code",
   "execution_count": null,
   "metadata": {},
   "outputs": [],
   "source": []
  },
  {
   "cell_type": "markdown",
   "metadata": {},
   "source": [
    "# Move nifti to raw images folder\n",
    "Let's move all the nifti files to the raw_images directory.\n"
   ]
  },
  {
   "cell_type": "code",
   "execution_count": 42,
   "metadata": {},
   "outputs": [
    {
     "name": "stdout",
     "output_type": "stream",
     "text": [
      "File /media/jake/data/jake/mctnet_data/raw_images/Brachyscelus.nii already exists, so skipped this copy\n",
      "\n",
      "File /media/jake/data/jake/mctnet_data/raw_images/Vibilia_01_FEG191211_087_filterted.nii already exists, so skipped this copy\n",
      "\n",
      "File /media/jake/data/jake/mctnet_data/raw_images/Paraphronima_FEG200130_103_head_04.nii already exists, so skipped this copy\n",
      "\n",
      "File /media/jake/data/jake/mctnet_data/raw_images/Scypholanceola_head_02_FEG191022_076.nii already exists, so skipped this copy\n",
      "\n",
      "File /media/jake/data/jake/mctnet_data/raw_images/Platyscelus_02_FEG191112_082.nii already exists, so skipped this copy\n",
      "\n",
      "File /media/jake/data/jake/mctnet_data/raw_images/Phronima_05_FEG200107_090.nii already exists, so skipped this copy\n",
      "\n",
      "File /media/jake/data/jake/mctnet_data/raw_images/Paraphronima_FEG200130_102_head_05.nii already exists, so skipped this copy\n",
      "\n",
      "File /media/jake/data/jake/mctnet_data/raw_images/Hyperia 01_segmented eyes.nii already exists, so skipped this copy\n",
      "\n",
      "File /media/jake/data/jake/mctnet_data/raw_images/Phronima_04_FEG200107_089.nii already exists, so skipped this copy\n",
      "\n",
      "File /media/jake/data/jake/mctnet_data/raw_images/psyllid_20190906_male_eye.nii already exists, so skipped this copy\n",
      "\n",
      "File /media/jake/data/jake/mctnet_data/raw_images/crab-eyestalk_FOV3mm-PIX2.9micron.nii already exists, so skipped this copy\n",
      "\n",
      "File /media/jake/data/jake/mctnet_data/raw_images/dampieri_male_16.nii already exists, so skipped this copy\n",
      "\n",
      "File /media/jake/data/jake/mctnet_data/raw_images/diurnal_tarsata.nii already exists, so skipped this copy\n",
      "\n",
      "File /media/jake/data/jake/mctnet_data/raw_images/flammula_20180307.nii already exists, so skipped this copy\n",
      "\n",
      "File /media/jake/data/jake/mctnet_data/raw_images/flammula_20190925_male_left.nii already exists, so skipped this copy\n",
      "\n",
      "File /media/jake/data/jake/mctnet_data/raw_images/flammula_20200327_female_left_178_fullres_cropped.nii already exists, so skipped this copy\n",
      "\n",
      "File /media/jake/data/jake/mctnet_data/raw_images/neohelice_20190616_1_cropped.nii already exists, so skipped this copy\n",
      "\n",
      "File /media/jake/data/jake/mctnet_data/raw_images/phronima_20180403.nii already exists, so skipped this copy\n",
      "\n",
      "File /media/jake/data/jake/mctnet_data/raw_images/psyllid_20190906_female_eye.nii already exists, so skipped this copy\n",
      "\n",
      "File /media/jake/data/jake/mctnet_data/raw_images/dampieri_20181221_female_left.nii already exists, so skipped this copy\n",
      "\n",
      "File /media/jake/data/jake/mctnet_data/raw_images/20181221L_female_cropped.nii already exists, so skipped this copy\n",
      "\n",
      "File /media/jake/data/jake/mctnet_data/raw_images/flammula_female_left_17.nii already exists, so skipped this copy\n",
      "\n",
      "Copied nifti /media/jake/1tb_ssd/mctv_analysis/head_scans/dampieri_20191121_female_right_1820/dampieri_female_18.nii to /media/jake/data/jake/mctnet_data/raw_images/dampieri_female_18.nii\n",
      "\n",
      "Copied nifti /media/jake/1tb_ssd/mctv_analysis/head_scans/dampieri_20200120_female_right_1930/dampieri_female_right_19.nii to /media/jake/data/jake/mctnet_data/raw_images/dampieri_female_right_19.nii\n",
      "\n",
      "Copied nifti /media/jake/1tb_ssd/mctv_analysis/head_scans/dampieri_20200218_male_left_1676/dampieri_20200218_male_left_1676.nii to /media/jake/data/jake/mctnet_data/raw_images/dampieri_20200218_male_left_1676.nii\n",
      "\n",
      "Copied nifti /media/jake/1tb_ssd/mctv_analysis/head_scans/dampieri_20200218_male_right_1667/dampieri_20200218_male_right_1676.nii to /media/jake/data/jake/mctnet_data/raw_images/dampieri_20200218_male_right_1676.nii\n",
      "\n"
     ]
    }
   ],
   "source": [
    "for d in nii_files:\n",
    "    p = Path(d)\n",
    "    filename = p.stem\n",
    "    new_path = raw_image_dir + \"/\" + filename + '.nii'\n",
    "    if not os.path.isfile(new_path):\n",
    "        copyfile(d, new_path)\n",
    "        print(f'Copied nifti {d} to {new_path}\\n')\n",
    "    else:\n",
    "        print(f'File {new_path} already exists, so skipped this copy\\n')\n"
   ]
  },
  {
   "cell_type": "markdown",
   "metadata": {},
   "source": [
    "# Convert dicom to nifti\n",
    "A bunch of files are in the dicom format. Let's convert these to nifti, so that all our data are consistent and in single files."
   ]
  },
  {
   "cell_type": "code",
   "execution_count": null,
   "metadata": {},
   "outputs": [],
   "source": [
    "print(f'Converting {len(dicom_dirs)} dicom scans to nifti')\n",
    "\n",
    "def convert_nifti_to_dicom(d):\n",
    "    print(f'Starting conversion of {d} \\n...')\n",
    "    p = Path(d)\n",
    "    filename = p.stem\n",
    "    new_path = raw_image_dir + \"/\" + filename + '.nii'\n",
    "    if not os.path.isfile(new_path):\n",
    "        dicom2nifti.dicom_series_to_nifti(d, new_path, reorient_nifti=True)\n",
    "        print(f'Converted dicom {d} to {new_path}\\n')\n",
    "    else:\n",
    "        print(f'File {new_path} already exists, so skipped this conversion\\n')\n",
    "\n",
    "\n",
    "starttime = time.time()\n",
    "pool = multiprocessing.Pool(processes=3)\n",
    "pool.map(convert_nifti_to_dicom, dicom_dirs)\n",
    "pool.close()\n",
    "# for d in dicom_dirs:\n",
    "#     convert_nifti_to_dicom(d)\n",
    "print('That took {} seconds'.format(time.time() - starttime))"
   ]
  },
  {
   "cell_type": "code",
   "execution_count": null,
   "metadata": {},
   "outputs": [],
   "source": []
  },
  {
   "cell_type": "code",
   "execution_count": null,
   "metadata": {},
   "outputs": [],
   "source": []
  },
  {
   "cell_type": "code",
   "execution_count": null,
   "metadata": {},
   "outputs": [],
   "source": []
  }
 ],
 "metadata": {
  "interpreter": {
   "hash": "f726fa9e3d96265230c4503e543f5c3f73ae5ded033c480caee9e2a2a13a4b04"
  },
  "kernelspec": {
   "display_name": "Python 3 (ipykernel)",
   "language": "python",
   "name": "python3"
  },
  "language_info": {
   "codemirror_mode": {
    "name": "ipython",
    "version": 3
   },
   "file_extension": ".py",
   "mimetype": "text/x-python",
   "name": "python",
   "nbconvert_exporter": "python",
   "pygments_lexer": "ipython3",
   "version": "3.8.10"
  }
 },
 "nbformat": 4,
 "nbformat_minor": 2
}
