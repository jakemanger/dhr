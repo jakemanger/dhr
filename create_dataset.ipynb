{
 "metadata": {
  "language_info": {
   "codemirror_mode": {
    "name": "ipython",
    "version": 3
   },
   "file_extension": ".py",
   "mimetype": "text/x-python",
   "name": "python",
   "nbconvert_exporter": "python",
   "pygments_lexer": "ipython3",
   "version": "3.7.3"
  },
  "orig_nbformat": 4,
  "kernelspec": {
   "name": "python3",
   "display_name": "Python 3.7.3 64-bit ('base': conda)"
  },
  "interpreter": {
   "hash": "010499ab46c6785e63264747f2985450b597b831410646ba5a2b3bc2c10f076a"
  }
 },
 "nbformat": 4,
 "nbformat_minor": 2,
 "cells": [
  {
   "source": [
    "# Initial setup\n",
    "## Load dependencies"
   ],
   "cell_type": "markdown",
   "metadata": {}
  },
  {
   "cell_type": "code",
   "execution_count": 51,
   "metadata": {},
   "outputs": [
    {
     "output_type": "error",
     "ename": "ModuleNotFoundError",
     "evalue": "No module named 'dicom2nifti'",
     "traceback": [
      "\u001b[0;31m---------------------------------------------------------------------------\u001b[0m",
      "\u001b[0;31mModuleNotFoundError\u001b[0m                       Traceback (most recent call last)",
      "\u001b[0;32m<ipython-input-51-3cc498bf46b3>\u001b[0m in \u001b[0;36m<module>\u001b[0;34m\u001b[0m\n\u001b[1;32m      1\u001b[0m \u001b[0;32mimport\u001b[0m \u001b[0mos\u001b[0m\u001b[0;34m\u001b[0m\u001b[0;34m\u001b[0m\u001b[0m\n\u001b[0;32m----> 2\u001b[0;31m \u001b[0;32mimport\u001b[0m \u001b[0mdicom2nifti\u001b[0m\u001b[0;34m\u001b[0m\u001b[0;34m\u001b[0m\u001b[0m\n\u001b[0m",
      "\u001b[0;31mModuleNotFoundError\u001b[0m: No module named 'dicom2nifti'"
     ]
    }
   ],
   "source": [
    "import os\n",
    "import dicom2nifti"
   ]
  },
  {
   "source": [
    "## Define locations for data\n",
    "We seperate output directories into raw and non-raw/final. This is because we need to do a set of preprocessing stages to the raw data before we make the final dataset."
   ],
   "cell_type": "markdown",
   "metadata": {}
  },
  {
   "cell_type": "code",
   "execution_count": 10,
   "metadata": {},
   "outputs": [],
   "source": [
    "# inputs\n",
    "input_image_dir = '/media/jake/1tb_ssd/mctv_analysis/head_scans'\n",
    "input_labels_dir = '/media/jake/1tb_ssd/mctv_analysis/mctv_resfiles'\n",
    "\n",
    "# outputs\n",
    "main_dir = '/media/jake/1tb_ssd/mctnet_data'\n",
    "raw_image_dir = '/media/jake/1tb_ssd/mctnet_data/raw_images'\n",
    "raw_labels_dir = '/media/jake/1tb_ssd/mctnet_data/raw_labels'\n",
    "image_dir = '/media/jake/1tb_ssd/mctnet_data/raw_images'\n",
    "labels_dir = '/media/jake/1tb_ssd/mctnet_data/raw_labels'\n",
    "\n",
    "if not os.path.isdir(image_dir):\n",
    "    os.makedirs(image_dir)\n",
    "\n",
    "if not os.path.isdir(labels_dir):\n",
    "    os.makedirs(labels_dir)"
   ]
  },
  {
   "source": [
    "# Collate images\n",
    "Our original images are organised in a messy way. Let's collate them together and fix that up.\n",
    "\n",
    "First, let's find all the images in the input image directory"
   ],
   "cell_type": "markdown",
   "metadata": {}
  },
  {
   "source": [
    "nii_files = []\n",
    "dicom_dirs = []\n",
    "for root, dirs, files in os.walk(input_image_dir):\n",
    "    for i, file in enumerate(files):\n",
    "        if file.endswith('.nii'):\n",
    "            nii_files.append(root + '/' + file)\n",
    "        if file.endswith('.dcm'):\n",
    "            dicom_dirs.append(root)\n",
    "\n",
    "# remove duplicate dicom_dirs\n",
    "dicom_dirs = list(set(dicom_dirs))\n",
    "\n",
    "print('Found ' + str(len(nii_files)) + ' nifti files')\n",
    "print('Found ' + str(len(dicom_dirs)) + ' dicom directories')"
   ],
   "cell_type": "code",
   "metadata": {
    "tags": []
   },
   "execution_count": 41,
   "outputs": [
    {
     "output_type": "stream",
     "name": "stdout",
     "text": [
      "Found 26 nifti files\nFound 70 dicom directories\n"
     ]
    }
   ]
  },
  {
   "source": [
    "Let's plot the first 10"
   ],
   "cell_type": "markdown",
   "metadata": {}
  },
  {
   "cell_type": "code",
   "execution_count": 54,
   "metadata": {},
   "outputs": [
    {
     "output_type": "execute_result",
     "data": {
      "text/plain": [
       "['/media/jake/1tb_ssd/mctv_analysis/head_scans/Brachyscelus.nii',\n",
       " '/media/jake/1tb_ssd/mctv_analysis/head_scans/Vibilia_01_FEG191211_087_filterted.nii',\n",
       " '/media/jake/1tb_ssd/mctv_analysis/head_scans/Paraphronima_FEG200130_103_head_04.nii',\n",
       " '/media/jake/1tb_ssd/mctv_analysis/head_scans/Scypholanceola_head_02_FEG191022_076.nii',\n",
       " '/media/jake/1tb_ssd/mctv_analysis/head_scans/Platyscelus_02_FEG191112_082.nii',\n",
       " '/media/jake/1tb_ssd/mctv_analysis/head_scans/Phronima_05_FEG200107_090.nii',\n",
       " '/media/jake/1tb_ssd/mctv_analysis/head_scans/Paraphronima_FEG200130_102_head_05.nii',\n",
       " '/media/jake/1tb_ssd/mctv_analysis/head_scans/Hyperia 01_segmented eyes.nii',\n",
       " '/media/jake/1tb_ssd/mctv_analysis/head_scans/Phronima_04_FEG200107_089.nii',\n",
       " '/media/jake/1tb_ssd/mctv_analysis/head_scans/psyllid_20190906_male_eye/psyllid_20190906_male_eye.nii']"
      ]
     },
     "metadata": {},
     "execution_count": 54
    }
   ],
   "source": [
    "nii_files[:10]"
   ]
  },
  {
   "cell_type": "code",
   "execution_count": 53,
   "metadata": {},
   "outputs": [
    {
     "output_type": "execute_result",
     "data": {
      "text/plain": [
       "['/media/jake/1tb_ssd/mctv_analysis/head_scans/P_crassipes_FEG190213_002_head_eyesdamaged',\n",
       " '/media/jake/1tb_ssd/mctv_analysis/head_scans/Paraphronima_FEG191028_078/FEG191028_078_dcm',\n",
       " '/media/jake/1tb_ssd/mctv_analysis/head_scans/P_gracilis_FEG190730_032B_01_head',\n",
       " '/media/jake/1tb_ssd/mctv_analysis/head_scans/Paraphronima_FEG181024_03_head_sp3_1423158b',\n",
       " '/media/jake/1tb_ssd/mctv_analysis/head_scans/P_crassipes_FEG200129_099_cropped',\n",
       " '/media/jake/1tb_ssd/mctv_analysis/head_scans/Hyperia_head_7_1432188B',\n",
       " '/media/jake/1tb_ssd/mctv_analysis/head_scans/Pronoe_sp_6_E',\n",
       " '/media/jake/1tb_ssd/mctv_analysis/head_scans/P_gracilis_FEG190213_003a_head_HIGHESTpriority',\n",
       " '/media/jake/1tb_ssd/mctv_analysis/head_scans/P_crassipes_FEG191022_077B_highpriority',\n",
       " '/media/jake/1tb_ssd/mctv_analysis/head_scans/Scina_02_sp_2_1450794_slices']"
      ]
     },
     "metadata": {},
     "execution_count": 53
    }
   ],
   "source": [
    "dicom_dirs[:10]"
   ]
  },
  {
   "cell_type": "code",
   "execution_count": null,
   "metadata": {},
   "outputs": [],
   "source": [
    "# dicom2nifti.convert all dicoms to nifti"
   ]
  }
 ]
}