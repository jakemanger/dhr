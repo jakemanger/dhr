{
 "cells": [
  {
   "cell_type": "markdown",
   "source": [
    "# View files\n",
    "\n",
    "Now that we have the raw images and the raw labels, we can start viewing each file to see whether they look correct or additional data is needed. To view these files, we will use napari and torchio and some other dependencies which we will load in below."
   ],
   "metadata": {}
  },
  {
   "cell_type": "code",
   "execution_count": 1,
   "source": [
    "import napari\n",
    "import torchio as tio\n",
    "import os\n",
    "from pathlib import Path\n",
    "import numpy as np"
   ],
   "outputs": [],
   "metadata": {}
  },
  {
   "cell_type": "code",
   "execution_count": 2,
   "source": [
    "img_dir = '//mnt/d37c99c5-3b94-47b9-9965-c66fd9a16e23/jake/mctnet_data/raw_images/'\n",
    "label_dir = '//mnt/d37c99c5-3b94-47b9-9965-c66fd9a16e23/jake/mctnet_data/raw_labels/'"
   ],
   "outputs": [],
   "metadata": {}
  },
  {
   "cell_type": "code",
   "execution_count": 3,
   "source": [
    "imgs = []\n",
    "labels = []\n",
    "\n",
    "for file in os.listdir(img_dir):\n",
    "    if file.endswith('.nii'):\n",
    "        imgs.append(img_dir + file)\n",
    "        \n",
    "for file in os.listdir(label_dir):\n",
    "    if file.endswith('.nii'):\n",
    "        labels.append(label_dir + file)"
   ],
   "outputs": [],
   "metadata": {}
  },
  {
   "cell_type": "code",
   "execution_count": 4,
   "source": [
    "imgs[:5]"
   ],
   "outputs": [
    {
     "output_type": "execute_result",
     "data": {
      "text/plain": [
       "['//mnt/d37c99c5-3b94-47b9-9965-c66fd9a16e23/jake/mctnet_data/raw_images/Paraphronima_head_05_FEG200130_102.nii',\n",
       " '//mnt/d37c99c5-3b94-47b9-9965-c66fd9a16e23/jake/mctnet_data/raw_images/Vibilia_FEG191112_081_blurrya.nii',\n",
       " '//mnt/d37c99c5-3b94-47b9-9965-c66fd9a16e23/jake/mctnet_data/raw_images/streetsia_20180409.nii',\n",
       " '//mnt/d37c99c5-3b94-47b9-9965-c66fd9a16e23/jake/mctnet_data/raw_images/Phronima_01_head_sp_5_USNM1450842.nii',\n",
       " '//mnt/d37c99c5-3b94-47b9-9965-c66fd9a16e23/jake/mctnet_data/raw_images/FEG191028_078_dcm.nii']"
      ]
     },
     "metadata": {},
     "execution_count": 4
    }
   ],
   "metadata": {}
  },
  {
   "cell_type": "code",
   "execution_count": 5,
   "source": [
    "labels[:5]"
   ],
   "outputs": [
    {
     "output_type": "execute_result",
     "data": {
      "text/plain": [
       "['//mnt/d37c99c5-3b94-47b9-9965-c66fd9a16e23/jake/mctnet_data/raw_labels/Paraphronima_head_05_FEG200130_102.nii',\n",
       " '//mnt/d37c99c5-3b94-47b9-9965-c66fd9a16e23/jake/mctnet_data/raw_labels/streetsia_20180409.nii',\n",
       " '//mnt/d37c99c5-3b94-47b9-9965-c66fd9a16e23/jake/mctnet_data/raw_labels/psyllid_20190906_female_eye.nii',\n",
       " '//mnt/d37c99c5-3b94-47b9-9965-c66fd9a16e23/jake/mctnet_data/raw_labels/phronima_20180403.nii',\n",
       " '//mnt/d37c99c5-3b94-47b9-9965-c66fd9a16e23/jake/mctnet_data/raw_labels/dampieri_20200218_male_left_1676.nii']"
      ]
     },
     "metadata": {},
     "execution_count": 5
    }
   ],
   "metadata": {}
  },
  {
   "cell_type": "markdown",
   "source": [
    "Let's find the imgs and labels with matching pairs and put the filename of these in a variable called `filenames`."
   ],
   "metadata": {}
  },
  {
   "cell_type": "code",
   "execution_count": 6,
   "source": [
    "imgs_p = []\n",
    "for img in imgs:\n",
    "    imgs_p.append(Path(img).stem)\n",
    "    \n",
    "labels_p = []\n",
    "for label in labels:\n",
    "    labels_p.append(Path(label).stem)\n",
    "    \n",
    "filenames = sorted(list(set(imgs_p) & set(labels_p)))"
   ],
   "outputs": [],
   "metadata": {}
  },
  {
   "cell_type": "code",
   "execution_count": 7,
   "source": [
    "print(f'Found {len(filenames)} labelled images for analysis')"
   ],
   "outputs": [
    {
     "output_type": "stream",
     "name": "stdout",
     "text": [
      "Found 38 labelled images for analysis\n"
     ]
    }
   ],
   "metadata": {}
  },
  {
   "cell_type": "markdown",
   "source": [
    "Load all of the subjects"
   ],
   "metadata": {}
  },
  {
   "cell_type": "code",
   "execution_count": 8,
   "source": [
    "subjects_list = []\n",
    "\n",
    "for filename in filenames:\n",
    "    subject = tio.Subject(\n",
    "        image=tio.ScalarImage(img_dir + filename + '.nii'),\n",
    "        label=tio.LabelMap(label_dir + filename + '.nii'),\n",
    "        filename=filename\n",
    "    )\n",
    "    subjects_list.append(subject)\n",
    "\n",
    "subjects = tio.SubjectsDataset(subjects_list)"
   ],
   "outputs": [],
   "metadata": {}
  },
  {
   "cell_type": "markdown",
   "source": [
    "To make sure that these files are how we intended them to be, let's print some details about each. "
   ],
   "metadata": {}
  },
  {
   "cell_type": "code",
   "execution_count": 9,
   "source": [
    "    # with open('scan_info.csv', 'w') as f:\n",
    "    # for subject in subjects_list:\n",
    "    #     print(\n",
    "    #         f'Subject name: {subject.filename} \\n \\\n",
    "    #         Image shape: {subject.image.shape} \\n \\\n",
    "    #         Image spacing: {subject.image.spacing} \\n \\\n",
    "    #         Image spatial shape: {subject.image.spatial_shape} \\n \\\n",
    "    #         Image affine : {subject.image.affine} \\n \\\n",
    "    #         Image bounds : {subject.image.get_bounds()} \\n \\\n",
    "    #         Image itemsize : {subject.image.itemsize} \\n \\\n",
    "    #         Image num_channels : {subject.image.num_channels} \\n \\\n",
    "    #         Image oritentation : {subject.image.orientation} \\n \\\n",
    "    #         Image min : {np.min(subject.image)}, max:{np.max(subject.image)} \\n \\\n",
    "    #         ____ \\n \\\n",
    "    #         Label shape: {subject.label.shape} \\n \\\n",
    "    #         Label spacing: {subject.label.spacing} \\n \\\n",
    "    #         Label spatial shape: {subject.label.spatial_shape} \\n \\\n",
    "    #         Label affine : {subject.label.affine} \\n \\\n",
    "    #         Label bounds : {subject.label.get_bounds()} \\n \\\n",
    "    #         Label itemsize : {subject.label.itemsize} \\n \\\n",
    "    #         Label num_channels : {subject.label.num_channels} \\n \\\n",
    "    #         Label oritentation : {subject.label.orientation} \\n \\\n",
    "    #         Label min : {np.min(subject.label)}, max:{np.max(subject.label)} \\n \\\n",
    "    #         \\n \\\n",
    "    #     ',\n",
    "    #     file=f)"
   ],
   "outputs": [],
   "metadata": {}
  },
  {
   "cell_type": "markdown",
   "source": [
    "Let's plot an image to see if it looks ok"
   ],
   "metadata": {}
  },
  {
   "cell_type": "code",
   "execution_count": 10,
   "source": [
    "sample = subjects[0]\n",
    "sample.load()\n",
    "sample.plot()"
   ],
   "outputs": [
    {
     "output_type": "display_data",
     "data": {
      "text/plain": [
       "<Figure size 432x288 with 6 Axes>"
      ],
      "image/png": "[encoded data removed]"
     },
     "metadata": {
      "needs_background": "light"
     }
    }
   ],
   "metadata": {}
  },
  {
   "cell_type": "markdown",
   "source": [
    "These files are huge, so let's crop them down to small patches of size 256x256x256 and then plot them to see if they look ok.\n",
    "We will use the LabelSampler from torchio to do this, so we can inspect areas around where labels have been made."
   ],
   "metadata": {}
  },
  {
   "cell_type": "code",
   "execution_count": 12,
   "source": [
    "viewer = napari.Viewer()\n",
    "viewer.dims.ndisplay = 3 # toggle 3 dimensional view\n",
    "viewer.add_image(sample['image'].data.numpy())\n",
    "viewer.add_image(sample['label'].data.numpy())"
   ],
   "outputs": [],
   "metadata": {}
  }
 ],
 "metadata": {
  "interpreter": {
   "hash": "f726fa9e3d96265230c4503e543f5c3f73ae5ded033c480caee9e2a2a13a4b04"
  },
  "kernelspec": {
   "name": "python3",
   "display_name": "Python 3.8.10 64-bit ('venv': venv)"
  },
  "language_info": {
   "codemirror_mode": {
    "name": "ipython",
    "version": 3
   },
   "file_extension": ".py",
   "mimetype": "text/x-python",
   "name": "python",
   "nbconvert_exporter": "python",
   "pygments_lexer": "ipython3",
   "version": "3.8.10"
  }
 },
 "nbformat": 4,
 "nbformat_minor": 5
}