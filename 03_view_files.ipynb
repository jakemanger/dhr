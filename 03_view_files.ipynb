{
 "cells": [
  {
   "cell_type": "markdown",
   "id": "e6408c0f-327f-4552-ae3f-47d5f823627d",
   "metadata": {},
   "source": [
    "# View files\n",
    "\n",
    "Now that we have the raw images and the raw labels, we can start viewing each file to see whether they look correct or additional data is needed. To view these files, we will use napari and torchio and some other dependencies which we will load in below."
   ]
  },
  {
   "cell_type": "code",
   "execution_count": 7,
   "id": "5e82312c-2669-4dce-829d-5ae7707591da",
   "metadata": {},
   "outputs": [],
   "source": [
    "import napari\n",
    "import torchio as tio\n",
    "import os"
   ]
  },
  {
   "cell_type": "code",
   "execution_count": 8,
   "id": "a9cf4e20-a100-45b4-b13e-8d9cfcaf9e2c",
   "metadata": {},
   "outputs": [],
   "source": [
    "img_dir = '//mnt/d37c99c5-3b94-47b9-9965-c66fd9a16e23/jake/mctnet_data/raw_images/'\n",
    "label_dir = '//mnt/d37c99c5-3b94-47b9-9965-c66fd9a16e23/jake/mctnet_data/raw_labels/'"
   ]
  },
  {
   "cell_type": "code",
   "execution_count": 13,
   "id": "fb88da60-e8c4-41e4-a8fb-ef313196928d",
   "metadata": {},
   "outputs": [],
   "source": [
    "imgs = []\n",
    "labels = []\n",
    "\n",
    "for file in os.listdir(img_dir):\n",
    "    if file.endswith('.nii'):\n",
    "        imgs.append(img_dir + file)\n",
    "        \n",
    "for file in os.listdir(label_dir):\n",
    "    if file.endswith('.nii'):\n",
    "        labels.append(label_dir + file)"
   ]
  },
  {
   "cell_type": "code",
   "execution_count": 14,
   "id": "63ffd768-f347-4ac9-8905-fc2b1e332290",
   "metadata": {},
   "outputs": [
    {
     "data": {
      "text/plain": [
       "['//mnt/d37c99c5-3b94-47b9-9965-c66fd9a16e23/jake/mctnet_data/raw_images/Vibilia_FEG191112_081_blurrya.nii',\n",
       " '//mnt/d37c99c5-3b94-47b9-9965-c66fd9a16e23/jake/mctnet_data/raw_images/streetsia_20180409.nii',\n",
       " '//mnt/d37c99c5-3b94-47b9-9965-c66fd9a16e23/jake/mctnet_data/raw_images/Phronima_01_head_sp_5_USNM1450842.nii',\n",
       " '//mnt/d37c99c5-3b94-47b9-9965-c66fd9a16e23/jake/mctnet_data/raw_images/FEG191028_078_dcm.nii',\n",
       " '//mnt/d37c99c5-3b94-47b9-9965-c66fd9a16e23/jake/mctnet_data/raw_images/dampieri_female_18.nii']"
      ]
     },
     "execution_count": 14,
     "metadata": {},
     "output_type": "execute_result"
    }
   ],
   "source": [
    "imgs[:5]"
   ]
  },
  {
   "cell_type": "code",
   "execution_count": 15,
   "id": "befac5d4-182e-4eb1-b0ba-fd0e96b57f29",
   "metadata": {},
   "outputs": [
    {
     "data": {
      "text/plain": [
       "['//mnt/d37c99c5-3b94-47b9-9965-c66fd9a16e23/jake/mctnet_data/raw_labels/dampieri_20200218_male_left_1676.nii',\n",
       " '//mnt/d37c99c5-3b94-47b9-9965-c66fd9a16e23/jake/mctnet_data/raw_labels/flammula_20190925_male_left.nii',\n",
       " '//mnt/d37c99c5-3b94-47b9-9965-c66fd9a16e23/jake/mctnet_data/raw_labels/diurnal_tarsata.nii',\n",
       " '//mnt/d37c99c5-3b94-47b9-9965-c66fd9a16e23/jake/mctnet_data/raw_labels/flammula_20180307.nii',\n",
       " '//mnt/d37c99c5-3b94-47b9-9965-c66fd9a16e23/jake/mctnet_data/raw_labels/dampieri_male_16.nii']"
      ]
     },
     "execution_count": 15,
     "metadata": {},
     "output_type": "execute_result"
    }
   ],
   "source": [
    "labels[:5]"
   ]
  },
  {
   "cell_type": "code",
   "execution_count": null,
   "id": "b07bcb95-3780-4295-b0da-e17c659a50f2",
   "metadata": {},
   "outputs": [],
   "source": [
    "for i in range(len(imgs)):\n",
    "    img = tio.ScalarImage(imgs[i])\n",
    "    ann = tio.LabelMap(labels[i])"
   ]
  },
  {
   "cell_type": "markdown",
   "id": "a7fb9539-38b7-4b2c-907f-654928dcb7a4",
   "metadata": {},
   "source": [
    "Let's double check that the affine matrices are the same"
   ]
  },
  {
   "cell_type": "code",
   "execution_count": null,
   "id": "9a136fad-376d-4ecc-92d2-da08b2e361f2",
   "metadata": {},
   "outputs": [],
   "source": [
    "img.affine"
   ]
  },
  {
   "cell_type": "code",
   "execution_count": null,
   "id": "9cc372a2-ab8f-4694-ab50-46d028f1b52a",
   "metadata": {},
   "outputs": [],
   "source": [
    "ann.affine"
   ]
  },
  {
   "cell_type": "markdown",
   "id": "d75be4de-dfb3-4a45-a9bc-4080c667dd90",
   "metadata": {},
   "source": [
    "Now let's do a plot to make sure everything looks ok"
   ]
  },
  {
   "cell_type": "markdown",
   "id": "bf80c597-b222-4f2c-9aac-8e17361a0e3e",
   "metadata": {},
   "source": [
    "Now we can load this data quickly during training and testing. This can be done with the approach below."
   ]
  },
  {
   "cell_type": "code",
   "execution_count": null,
   "id": "b01af62a-144e-43ad-9033-0a2ce202924d",
   "metadata": {},
   "outputs": [],
   "source": [
    "img = tio.ScalarImage(\n",
    "    \n",
    ")\n",
    "ann = tio.LabelMap(\n",
    "    'data/'+ id + '/' + id + '_label.nii.gz',\n",
    "    affine=img.affine\n",
    ")\n",
    "subject = tio.Subject(\n",
    "    mct=img,\n",
    "    labels=ann,\n",
    "    id=id\n",
    ")\n",
    "subject.plot()"
   ]
  }
 ],
 "metadata": {
  "kernelspec": {
   "display_name": "Python 3 (ipykernel)",
   "language": "python",
   "name": "python3"
  },
  "language_info": {
   "codemirror_mode": {
    "name": "ipython",
    "version": 3
   },
   "file_extension": ".py",
   "mimetype": "text/x-python",
   "name": "python",
   "nbconvert_exporter": "python",
   "pygments_lexer": "ipython3",
   "version": "3.8.10"
  }
 },
 "nbformat": 4,
 "nbformat_minor": 5
}
