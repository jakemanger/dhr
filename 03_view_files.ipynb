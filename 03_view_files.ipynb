{
 "cells": [
  {
   "cell_type": "markdown",
   "id": "e6408c0f-327f-4552-ae3f-47d5f823627d",
   "metadata": {},
   "source": [
    "# View files\n",
    "\n",
    "You can start viewing each file to see what they look correct or additional data is needed."
   ]
  },
  {
   "cell_type": "markdown",
   "id": "b5a94c8d-ed64-4115-82e4-ce53db2e6906",
   "metadata": {},
   "source": [
    "Let's first load in the data"
   ]
  },
  {
   "cell_type": "code",
   "execution_count": 2,
   "id": "852bb9b3-1bf5-407c-9314-0cbe849a3978",
   "metadata": {},
   "outputs": [
    {
     "data": {
      "text/html": [
       "<div>\n",
       "<style scoped>\n",
       "    .dataframe tbody tr th:only-of-type {\n",
       "        vertical-align: middle;\n",
       "    }\n",
       "\n",
       "    .dataframe tbody tr th {\n",
       "        vertical-align: top;\n",
       "    }\n",
       "\n",
       "    .dataframe thead th {\n",
       "        text-align: right;\n",
       "    }\n",
       "</style>\n",
       "<table border=\"1\" class=\"dataframe\">\n",
       "  <thead>\n",
       "    <tr style=\"text-align: right;\">\n",
       "      <th></th>\n",
       "      <th>image_file_path</th>\n",
       "      <th>raw_annotated_file_path</th>\n",
       "    </tr>\n",
       "  </thead>\n",
       "  <tbody>\n",
       "    <tr>\n",
       "      <th>0</th>\n",
       "      <td>//mnt/d37c99c5-3b94-47b9-9965-c66fd9a16e23/jak...</td>\n",
       "      <td>//home/jake/projects/mctv_resfiles/ants/diurna...</td>\n",
       "    </tr>\n",
       "    <tr>\n",
       "      <th>1</th>\n",
       "      <td>//mnt/d37c99c5-3b94-47b9-9965-c66fd9a16e23/jak...</td>\n",
       "      <td>//home/jake/projects/mctv_resfiles/fiddlercrab...</td>\n",
       "    </tr>\n",
       "    <tr>\n",
       "      <th>2</th>\n",
       "      <td>//mnt/d37c99c5-3b94-47b9-9965-c66fd9a16e23/jak...</td>\n",
       "      <td>//home/jake/projects/mctv_resfiles/fiddlercrab...</td>\n",
       "    </tr>\n",
       "    <tr>\n",
       "      <th>3</th>\n",
       "      <td>//mnt/d37c99c5-3b94-47b9-9965-c66fd9a16e23/jak...</td>\n",
       "      <td>//home/jake/projects/mctv_resfiles/fiddlercrab...</td>\n",
       "    </tr>\n",
       "    <tr>\n",
       "      <th>4</th>\n",
       "      <td>//mnt/d37c99c5-3b94-47b9-9965-c66fd9a16e23/jak...</td>\n",
       "      <td>//home/jake/projects/mctv_resfiles/fiddlercrab...</td>\n",
       "    </tr>\n",
       "    <tr>\n",
       "      <th>...</th>\n",
       "      <td>...</td>\n",
       "      <td>...</td>\n",
       "    </tr>\n",
       "    <tr>\n",
       "      <th>152</th>\n",
       "      <td>//mnt/d37c99c5-3b94-47b9-9965-c66fd9a16e23/jak...</td>\n",
       "      <td>NaN</td>\n",
       "    </tr>\n",
       "    <tr>\n",
       "      <th>153</th>\n",
       "      <td>//mnt/d37c99c5-3b94-47b9-9965-c66fd9a16e23/jak...</td>\n",
       "      <td>NaN</td>\n",
       "    </tr>\n",
       "    <tr>\n",
       "      <th>154</th>\n",
       "      <td>//mnt/d37c99c5-3b94-47b9-9965-c66fd9a16e23/jak...</td>\n",
       "      <td>NaN</td>\n",
       "    </tr>\n",
       "    <tr>\n",
       "      <th>155</th>\n",
       "      <td>//mnt/d37c99c5-3b94-47b9-9965-c66fd9a16e23/jak...</td>\n",
       "      <td>NaN</td>\n",
       "    </tr>\n",
       "    <tr>\n",
       "      <th>156</th>\n",
       "      <td>//mnt/d37c99c5-3b94-47b9-9965-c66fd9a16e23/jak...</td>\n",
       "      <td>NaN</td>\n",
       "    </tr>\n",
       "  </tbody>\n",
       "</table>\n",
       "<p>157 rows × 2 columns</p>\n",
       "</div>"
      ],
      "text/plain": [
       "                                       image_file_path  \\\n",
       "0    //mnt/d37c99c5-3b94-47b9-9965-c66fd9a16e23/jak...   \n",
       "1    //mnt/d37c99c5-3b94-47b9-9965-c66fd9a16e23/jak...   \n",
       "2    //mnt/d37c99c5-3b94-47b9-9965-c66fd9a16e23/jak...   \n",
       "3    //mnt/d37c99c5-3b94-47b9-9965-c66fd9a16e23/jak...   \n",
       "4    //mnt/d37c99c5-3b94-47b9-9965-c66fd9a16e23/jak...   \n",
       "..                                                 ...   \n",
       "152  //mnt/d37c99c5-3b94-47b9-9965-c66fd9a16e23/jak...   \n",
       "153  //mnt/d37c99c5-3b94-47b9-9965-c66fd9a16e23/jak...   \n",
       "154  //mnt/d37c99c5-3b94-47b9-9965-c66fd9a16e23/jak...   \n",
       "155  //mnt/d37c99c5-3b94-47b9-9965-c66fd9a16e23/jak...   \n",
       "156  //mnt/d37c99c5-3b94-47b9-9965-c66fd9a16e23/jak...   \n",
       "\n",
       "                               raw_annotated_file_path  \n",
       "0    //home/jake/projects/mctv_resfiles/ants/diurna...  \n",
       "1    //home/jake/projects/mctv_resfiles/fiddlercrab...  \n",
       "2    //home/jake/projects/mctv_resfiles/fiddlercrab...  \n",
       "3    //home/jake/projects/mctv_resfiles/fiddlercrab...  \n",
       "4    //home/jake/projects/mctv_resfiles/fiddlercrab...  \n",
       "..                                                 ...  \n",
       "152                                                NaN  \n",
       "153                                                NaN  \n",
       "154                                                NaN  \n",
       "155                                                NaN  \n",
       "156                                                NaN  \n",
       "\n",
       "[157 rows x 2 columns]"
      ]
     },
     "execution_count": 2,
     "metadata": {},
     "output_type": "execute_result"
    }
   ],
   "source": []
  },
  {
   "cell_type": "markdown",
   "id": "bad2995e-36e7-4a47-acbb-999ade45faf2",
   "metadata": {},
   "source": [
    "First, we need to define functions that "
   ]
  }
 ],
 "metadata": {
  "kernelspec": {
   "display_name": "Python 3 (ipykernel)",
   "language": "python",
   "name": "python3"
  },
  "language_info": {
   "codemirror_mode": {
    "name": "ipython",
    "version": 3
   },
   "file_extension": ".py",
   "mimetype": "text/x-python",
   "name": "python",
   "nbconvert_exporter": "python",
   "pygments_lexer": "ipython3",
   "version": "3.8.10"
  }
 },
 "nbformat": 4,
 "nbformat_minor": 5
}
