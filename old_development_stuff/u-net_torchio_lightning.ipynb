{
 "cells": [
  {
   "cell_type": "markdown",
   "source": [
    "# Setup"
   ],
   "metadata": {}
  },
  {
   "cell_type": "markdown",
   "source": [
    "The following is a u-net analysis based off the templates for torchio found at https://colab.research.google.com/github/fepegar/torchio-notebooks/blob/main/notebooks/TorchIO_MONAI_PyTorch_Lightning.ipynb#scrollTo=gduPdIturUIB"
   ],
   "metadata": {}
  },
  {
   "cell_type": "code",
   "execution_count": 1,
   "source": [
    "%%bash\n",
    "pip install -q torchio==0.18.39\n",
    "pip install -q monai==0.5.2\n",
    "pip install -q pytorch-lightning==1.2.10\n",
    "pip install -q gdown==3.6.4 matplotlib==3.2.2 pandas==1.1.5 seaborn==0.11.1"
   ],
   "outputs": [
    {
     "output_type": "stream",
     "name": "stderr",
     "text": [
      "ERROR: open3d 0.13.0 has requirement pyyaml>=5.4.1, but you'll have pyyaml 5.3.1 which is incompatible.\n",
      "ERROR: open3d 0.13.0 has requirement pyyaml>=5.4.1, but you'll have pyyaml 5.3.1 which is incompatible.\n"
     ]
    }
   ],
   "metadata": {}
  },
  {
   "cell_type": "code",
   "execution_count": 2,
   "source": [
    "from pathlib import Path\n",
    "from datetime import datetime\n",
    "\n",
    "import torch\n",
    "from torch.utils.data import random_split, DataLoader\n",
    "import monai\n",
    "import gdown\n",
    "import pandas as pd\n",
    "import torchio as tio\n",
    "import pytorch_lightning as pl\n",
    "import matplotlib.pyplot as plt\n",
    "import seaborn as sns\n",
    "\n",
    "sns.set()\n",
    "plt.rcParams['figure.figsize'] = 12, 8\n",
    "monai.utils.set_determinism()\n",
    "\n",
    "%load_ext tensorboard"
   ],
   "outputs": [],
   "metadata": {}
  },
  {
   "cell_type": "markdown",
   "source": [
    "# Define a data module"
   ],
   "metadata": {}
  },
  {
   "cell_type": "code",
   "execution_count": null,
   "source": [
    "class DataModule(pl.LightningDataModule):\n",
    "    def __init__(self, task, batch_size, train_val_ratio):\n",
    "        super().__init__()\n",
    "        self.task = task\n",
    "        self.batch_size = batch_size\n",
    "        self.dataset_dir = Path(task)\n",
    "        self.train_val_ratio = train_val_ratio\n",
    "        self.subjects = None\n",
    "        self.test_subjects = None\n",
    "        self.preprocess = None\n",
    "        self.transform = None\n",
    "        self.train_set = None\n",
    "        self.val_set = None\n",
    "        self.test_set = None\n",
    "    \n",
    "    def get_max_shape(self, subjects):\n",
    "        import numpy as np\n",
    "        dataset = tio.SubjectsDataset(subjects)\n",
    "        shapes = np.array([s.spatial_shape for s in dataset])\n",
    "        return shapes.max(axis=0)\n",
    "    \n",
    "    def download_data(self):\n",
    "        if not self.dataset_dir.is_dir():\n",
    "            url = f'https://drive.google.com/uc?id={self.google_id}'\n",
    "            output = f'{self.task}.tar'\n",
    "            gdown.download(url, output, quiet=False)\n",
    "            !tar xf {output}\n",
    "\n",
    "        def get_niis(d):\n",
    "            return sorted(p for p in d.glob('*.nii*') if not p.name.startswith('.'))\n",
    "\n",
    "        image_training_paths = get_niis(self.dataset_dir / 'imagesTr')\n",
    "        label_training_paths = get_niis(self.dataset_dir / 'labelsTr')\n",
    "        image_test_paths = get_niis(self.dataset_dir / 'imagesTs')\n",
    "        return image_training_paths, label_training_paths, image_test_paths\n",
    "\n",
    "    def prepare_data(self):\n",
    "        image_training_paths, label_training_paths, image_test_paths = self.download_data()\n",
    "\n",
    "        self.subjects = []\n",
    "        for image_path, label_path in zip(image_training_paths, label_training_paths):\n",
    "            # 'image' and 'label' are arbitrary names for the images\n",
    "            subject = tio.Subject(\n",
    "                image=tio.ScalarImage(image_path),\n",
    "                label=tio.LabelMap(label_path)\n",
    "            )\n",
    "            self.subjects.append(subject)\n",
    "        \n",
    "        self.test_subjects = []\n",
    "        for image_path in image_test_paths:\n",
    "            subject = tio.Subject(image=tio.ScalarImage(image_path))\n",
    "            self.test_subjects.append(subject)\n",
    "    \n",
    "    def get_preprocessing_transform(self):\n",
    "        preprocess = tio.Compose([\n",
    "            tio.RescaleIntensity((-1, 1)),\n",
    "            tio.CropOrPad(self.get_max_shape(self.subjects + self.test_subjects)),\n",
    "            tio.EnsureShapeMultiple(8),  # for the U-Net\n",
    "            tio.OneHot(),\n",
    "        ])\n",
    "        return preprocess\n",
    "    \n",
    "    def get_augmentation_transform(self):\n",
    "        augment = tio.Compose([\n",
    "            tio.RandomAffine(),\n",
    "            tio.RandomGamma(p=0.5),\n",
    "            tio.RandomNoise(p=0.5),\n",
    "            tio.RandomMotion(p=0.1),\n",
    "            tio.RandomBiasField(p=0.25),\n",
    "        ])\n",
    "        return augment\n",
    "\n",
    "    def setup(self, stage=None):\n",
    "        num_subjects = len(self.subjects)\n",
    "        num_train_subjects = int(round(num_subjects * self.train_val_ratio))\n",
    "        num_val_subjects = num_subjects - num_train_subjects\n",
    "        splits = num_train_subjects, num_val_subjects\n",
    "        train_subjects, val_subjects = random_split(self.subjects, splits)\n",
    "\n",
    "        self.preprocess = self.get_preprocessing_transform()\n",
    "        augment = self.get_augmentation_transform()\n",
    "        self.transform = tio.Compose([self.preprocess, augment])\n",
    "\n",
    "        self.train_set = tio.SubjectsDataset(train_subjects, transform=self.transform)\n",
    "        self.val_set = tio.SubjectsDataset(val_subjects, transform=self.preprocess)\n",
    "        self.test_set = tio.SubjectsDataset(self.test_subjects, transform=self.preprocess)\n",
    "\n",
    "    def train_dataloader(self):\n",
    "        return DataLoader(self.train_set, self.batch_size)\n",
    "\n",
    "    def val_dataloader(self):\n",
    "        return DataLoader(self.val_set, self.batch_size)\n",
    "\n",
    "    def test_dataloader(self):\n",
    "        return DataLoader(self.test_set, self.batch_size)"
   ],
   "outputs": [],
   "metadata": {}
  },
  {
   "cell_type": "code",
   "execution_count": null,
   "source": [
    "data = MedicalDecathlonDataModule(\n",
    "    task='Task04_Hippocampus',\n",
    "    batch_size=16,\n",
    "    train_val_ratio=0.8,\n",
    ")"
   ],
   "outputs": [],
   "metadata": {}
  },
  {
   "cell_type": "markdown",
   "source": [
    "Let's see how many images we are working with"
   ],
   "metadata": {}
  },
  {
   "cell_type": "markdown",
   "source": [],
   "metadata": {}
  }
 ],
 "metadata": {
  "orig_nbformat": 4,
  "language_info": {
   "name": "python",
   "version": "3.8.10",
   "mimetype": "text/x-python",
   "codemirror_mode": {
    "name": "ipython",
    "version": 3
   },
   "pygments_lexer": "ipython3",
   "nbconvert_exporter": "python",
   "file_extension": ".py"
  },
  "kernelspec": {
   "name": "python3",
   "display_name": "Python 3.8.10 64-bit ('venv': venv)"
  },
  "interpreter": {
   "hash": "f726fa9e3d96265230c4503e543f5c3f73ae5ded033c480caee9e2a2a13a4b04"
  }
 },
 "nbformat": 4,
 "nbformat_minor": 2
}