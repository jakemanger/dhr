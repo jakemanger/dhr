{
  "cells": [
    {
      "cell_type": "code",
      "execution_count": null,
      "metadata": {
        "collapsed": false
      },
      "outputs": [],
      "source": [
        "%matplotlib inline"
      ]
    },
    {
      "cell_type": "markdown",
      "metadata": {},
      "source": [
        "\nVolume object (VolumeObj) : complete tutorial\n=============================================\n\nIllustration of the main functionalities and inputs of the volume object :\n\n    * Volume rendering methods (MIP, translucent, additive, Iso)\n    * Colormap choice\n    * Select volume levels\n    * Load an MRI (nii.gz) file\n\n"
      ]
    },
    {
      "cell_type": "code",
      "execution_count": null,
      "metadata": {
        "collapsed": false
      },
      "outputs": [],
      "source": [
        "from visbrain.objects import VolumeObj, SceneObj\nfrom visbrain.io import download_file\n\n\n# Define the scene\nsc = SceneObj(size=(1000, 600))"
      ]
    },
    {
      "cell_type": "markdown",
      "metadata": {},
      "source": [
        "MIP rendering\n##############################################################################\n MIP rendering with an opaque fire colormap\n\n"
      ]
    },
    {
      "cell_type": "code",
      "execution_count": null,
      "metadata": {
        "collapsed": false
      },
      "outputs": [],
      "source": [
        "v_obj_mip = VolumeObj('brodmann', method='mip', cmap='OpaqueFire')\nsc.add_to_subplot(v_obj_mip, row=0, col=0, title='MIP rendering', zoom=.7)"
      ]
    },
    {
      "cell_type": "markdown",
      "metadata": {},
      "source": [
        "Translucent rendering\n##############################################################################\n Translucent rendering with a translucent fire colormap\n\n"
      ]
    },
    {
      "cell_type": "code",
      "execution_count": null,
      "metadata": {
        "collapsed": false
      },
      "outputs": [],
      "source": [
        "v_obj_trans = VolumeObj('aal', method='translucent', cmap='TransFire')\nsc.add_to_subplot(v_obj_trans, row=0, col=1, title='Translucent rendering',\n                  zoom=.7)"
      ]
    },
    {
      "cell_type": "markdown",
      "metadata": {},
      "source": [
        "Additive rendering\n##############################################################################\n Additive rendering with a translucent grays colormap\n\n"
      ]
    },
    {
      "cell_type": "code",
      "execution_count": null,
      "metadata": {
        "collapsed": false
      },
      "outputs": [],
      "source": [
        "v_obj_add = VolumeObj('talairach', method='additive', cmap='TransGrays')\nsc.add_to_subplot(v_obj_add, row=0, col=2, title='Additive rendering', zoom=.6)"
      ]
    },
    {
      "cell_type": "markdown",
      "metadata": {},
      "source": [
        "Iso rendering\n##############################################################################\n Iso rendering. Note that here, no threshold are used\n\n"
      ]
    },
    {
      "cell_type": "code",
      "execution_count": null,
      "metadata": {
        "collapsed": false
      },
      "outputs": [],
      "source": [
        "v_obj_iso = VolumeObj('brodmann', method='iso')\nsc.add_to_subplot(v_obj_iso, row=0, col=3, title='Iso rendering', zoom=.7)"
      ]
    },
    {
      "cell_type": "markdown",
      "metadata": {},
      "source": [
        "Volume thresholding\n##############################################################################\n Similarly to the example above, here, we use a threshold to cut the volume\n\n"
      ]
    },
    {
      "cell_type": "code",
      "execution_count": null,
      "metadata": {
        "collapsed": false
      },
      "outputs": [],
      "source": [
        "path = download_file('GG-853-WM-0.7mm.nii.gz', astype='example_data')\nvol_obj_th = VolumeObj(path, method='iso', threshold=.1)\nsc.add_to_subplot(vol_obj_th, row=1, col=0, title='Threshold selection',\n                  zoom=.7)"
      ]
    },
    {
      "cell_type": "markdown",
      "metadata": {},
      "source": [
        "Select volume levels\n##############################################################################\n The volume contains certain levels and you can use the `select` input to\n select only certain levels\n\n"
      ]
    },
    {
      "cell_type": "code",
      "execution_count": null,
      "metadata": {
        "collapsed": false
      },
      "outputs": [],
      "source": [
        "v_obj_select = VolumeObj('brodmann', method='iso', cmap='OpaqueFire',\n                         select=[4, 6])\nsc.add_to_subplot(v_obj_select, row=1, col=1, zoom=.7,\n                  title='Select Brodmann area 4 and 6')"
      ]
    },
    {
      "cell_type": "markdown",
      "metadata": {},
      "source": [
        "MRI file : mip rendering\n##############################################################################\n\n"
      ]
    },
    {
      "cell_type": "code",
      "execution_count": null,
      "metadata": {
        "collapsed": false
      },
      "outputs": [],
      "source": [
        "path = download_file('GG-853-GM-0.7mm.nii.gz', astype='example_data')\nv_obj_nii = VolumeObj(path, method='mip', cmap='OpaqueGrays', threshold=.7)\nsc.add_to_subplot(v_obj_nii, row=1, col=2, title='MRI file (MIP rendering)',\n                  zoom=.7)"
      ]
    },
    {
      "cell_type": "markdown",
      "metadata": {},
      "source": [
        "MRI file : translucent rendering\n##############################################################################\n\n"
      ]
    },
    {
      "cell_type": "code",
      "execution_count": null,
      "metadata": {
        "collapsed": false
      },
      "outputs": [],
      "source": [
        "path = download_file('GG-853-WM-0.7mm.nii.gz', astype='example_data')\nvol_obj_sec = VolumeObj(path, method='translucent', cmap='TransGrays')\nsc.add_to_subplot(vol_obj_sec, row=1, col=3, zoom=.7,\n                  title='MRI file (translucent rendering)')\n\n# Finally, display the scene\nsc.preview()"
      ]
    }
  ],
  "metadata": {
    "kernelspec": {
      "display_name": "Python 3",
      "language": "python",
      "name": "python3"
    },
    "language_info": {
      "codemirror_mode": {
        "name": "ipython",
        "version": 3
      },
      "file_extension": ".py",
      "mimetype": "text/x-python",
      "name": "python",
      "nbconvert_exporter": "python",
      "pygments_lexer": "ipython3",
      "version": "3.6.6"
    }
  },
  "nbformat": 4,
  "nbformat_minor": 0
}