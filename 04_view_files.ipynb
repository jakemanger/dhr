{
 "cells": [
  {
   "cell_type": "markdown",
   "id": "2075eec4",
   "metadata": {},
   "source": [
    "# View files\n",
    "\n",
    "Now that we have the raw images and the raw labels, we can start viewing each file to see whether they look correct or additional data is needed. To view these files, we will use napari and torchio and some other dependencies which we will load in below."
   ]
  },
  {
   "cell_type": "code",
   "execution_count": 35,
   "id": "8d332889",
   "metadata": {},
   "outputs": [],
   "source": [
    "import napari\n",
    "import torchio as tio\n",
    "import os\n",
    "from pathlib import Path\n",
    "import numpy as np"
   ]
  },
  {
   "cell_type": "code",
   "execution_count": 36,
   "id": "5aed8e3c",
   "metadata": {},
   "outputs": [],
   "source": [
    "img_dir = './dataset/images/'\n",
    "label_dir = './dataset/labels/'"
   ]
  },
  {
   "cell_type": "code",
   "execution_count": 37,
   "id": "22ec7ed2",
   "metadata": {},
   "outputs": [],
   "source": [
    "imgs = []\n",
    "labels = []\n",
    "\n",
    "for file in os.listdir(img_dir):\n",
    "    if file.endswith('.nii.gz'):\n",
    "        imgs.append(img_dir + file)\n",
    "        \n",
    "for file in os.listdir(label_dir):\n",
    "    if file.endswith('.nii.gz'):\n",
    "        labels.append(label_dir + file)"
   ]
  },
  {
   "cell_type": "code",
   "execution_count": 38,
   "id": "c125bc91",
   "metadata": {},
   "outputs": [
    {
     "data": {
      "text/plain": [
       "['./dataset/images/dampieri_20200218_male_left_1676.nii.gz',\n",
       " './dataset/images/phronima_20180403.nii.gz',\n",
       " './dataset/images/P_crassipes_FEG190213_003b_02_head.nii.gz',\n",
       " './dataset/images/dampieri_male_16.nii.gz',\n",
       " './dataset/images/Phronima_04_FEG200107_089.nii.gz']"
      ]
     },
     "execution_count": 38,
     "metadata": {},
     "output_type": "execute_result"
    }
   ],
   "source": [
    "imgs[:5]"
   ]
  },
  {
   "cell_type": "code",
   "execution_count": 39,
   "id": "1e878fc1",
   "metadata": {},
   "outputs": [
    {
     "data": {
      "text/plain": [
       "[]"
      ]
     },
     "execution_count": 39,
     "metadata": {},
     "output_type": "execute_result"
    }
   ],
   "source": [
    "labels[:5]"
   ]
  },
  {
   "cell_type": "markdown",
   "id": "583f51ce",
   "metadata": {},
   "source": [
    "Let's find the imgs and labels with matching pairs and put the filename of these in a variable called `filenames`."
   ]
  },
  {
   "cell_type": "code",
   "execution_count": 10,
   "id": "86bc8019",
   "metadata": {},
   "outputs": [],
   "source": [
    "imgs_p = []\n",
    "for img in imgs:\n",
    "    imgs_p.append(Path(img).stem)\n",
    "    \n",
    "labels_p = []\n",
    "for label in labels:\n",
    "    labels_p.append(Path(label).stem)\n",
    "    \n",
    "filenames = sorted(list(set(imgs_p) & set(labels_p)))"
   ]
  },
  {
   "cell_type": "code",
   "execution_count": 11,
   "id": "aab9b133",
   "metadata": {},
   "outputs": [
    {
     "name": "stdout",
     "output_type": "stream",
     "text": [
      "Found 37 labelled images for analysis\n"
     ]
    }
   ],
   "source": [
    "print(f'Found {len(filenames)} labelled images for analysis')"
   ]
  },
  {
   "cell_type": "code",
   "execution_count": 12,
   "id": "0ef9b0c3-18de-40b1-ba50-d0aec4e69a6d",
   "metadata": {},
   "outputs": [
    {
     "data": {
      "text/plain": [
       "['20190608_phronima',\n",
       " 'Brachyscelus',\n",
       " 'Hyperia_01_head_FEG190604_014B',\n",
       " 'Leptocotis_02_head_FEG190214_005b',\n",
       " 'P_crassipes_FEG190213_003b_02_head',\n",
       " 'P_crassipes_FEG190801_034_00001_new',\n",
       " 'P_crassipes_FEG191022_077A_highpriority',\n",
       " 'P_crassipes_FEG191022_077B',\n",
       " 'P_crassipes_FEG200129_099_cropped',\n",
       " 'P_crassipes_FEG200205_108_crop',\n",
       " 'P_gracilis_FEG190213_003a_head',\n",
       " 'P_robisoni_FEG200205_105-head',\n",
       " 'Paraphronima_FEG181024_03_head_sp3_1423158b',\n",
       " 'Paraphronima_FEG181024_head_sp_3_1423158a',\n",
       " 'Paraphronima_FEG181024_head_sp_8_1423158',\n",
       " 'Paraphronima_FEG191028_078',\n",
       " 'Paraphronima_head_04_FEG200130_103',\n",
       " 'Paraphronima_head_05_FEG200130_102',\n",
       " 'Phronima_04_FEG200107_089',\n",
       " 'Phronima_05_FEG200107_090',\n",
       " 'Platyscelus_02_FEG191112_082_downsampled',\n",
       " 'dampieri_20151218',\n",
       " 'dampieri_20200218_male_left_1676',\n",
       " 'dampieri_male_16',\n",
       " 'diurnal_tarsata',\n",
       " 'flammula_20180307',\n",
       " 'flammula_20190925_male_left',\n",
       " 'flammula_20200327_female_left_178_fullres_cropped',\n",
       " 'flammula_male_23_6_left',\n",
       " 'neohelice_20190616_1_cropped',\n",
       " 'phronima_20180403',\n",
       " 'platyscelus_01_downsampled',\n",
       " 'psyllid_20190906_female_eye',\n",
       " 'psyllid_20190906_male_eye',\n",
       " 'streetsia_20180409',\n",
       " 'streetsia_20190308',\n",
       " 'streetsia_20190325']"
      ]
     },
     "execution_count": 12,
     "metadata": {},
     "output_type": "execute_result"
    }
   ],
   "source": [
    "filenames"
   ]
  },
  {
   "cell_type": "markdown",
   "id": "4d1d5894",
   "metadata": {},
   "source": [
    "These files are huge, so we need to use nibabel proxy slicing to collect only the data we need for the plot.\n",
    "Let's prepare by making a nice function that can load all our images, get the slices we need and plot them."
   ]
  },
  {
   "cell_type": "code",
   "execution_count": 52,
   "id": "01971faf-1968-4ce0-bc45-3adf33784e28",
   "metadata": {},
   "outputs": [],
   "source": [
    "import matplotlib.pyplot as plt\n",
    "import nibabel as nib\n",
    "import math\n",
    "\n",
    "def show_slices(slices):\n",
    "   \"\"\" Function to display row of image slices \"\"\"\n",
    "   fig, axes = plt.subplots(1, len(slices))\n",
    "   for i, slice in enumerate(slices):\n",
    "       axes[i].imshow(slice.T, cmap=\"gray\", origin=\"lower\")\n",
    "        \n",
    "def load_and_plot(name, return_array=False):\n",
    "    \"\"\" Load x y and z middle slices of volume and plot efficiently, using nibabel proxy slicing \"\"\"\n",
    "    proxy_img = nib.load(name)\n",
    "    img_shape = proxy_img.shape\n",
    "    vol1 = proxy_img.dataobj[math.floor(img_shape[0]/2), :, :]\n",
    "    vol2 = proxy_img.dataobj[:, math.floor(img_shape[1]/2), :]\n",
    "    vol3 = proxy_img.dataobj[:, :, math.floor(img_shape[2]/2)]\n",
    "    array = [\n",
    "        vol1,\n",
    "        vol2,\n",
    "        vol3\n",
    "    ]   \n",
    "    show_slices(array)\n",
    "    if return_array:\n",
    "        return array\n",
    "    \n",
    "def load_and_plot_pair(name1, name2, index=0, return_array=False):\n",
    "    \"\"\" Load single z axis slice of volume and plot efficiently, using nibabel proxy slicing \"\"\"\n",
    "    proxy_img = nib.load(name1)\n",
    "    img_shape = proxy_img.shape\n",
    "    vol1 = proxy_img.dataobj[..., index] \n",
    "    proxy_img = nib.load(name2)\n",
    "    img_shape = proxy_img.shape\n",
    "    vol2 = proxy_img.dataobj[..., index]\n",
    "    array = [\n",
    "        vol1,\n",
    "        vol2\n",
    "    ]   \n",
    "    show_slices(array)\n",
    "    if return_array:\n",
    "        return array"
   ]
  },
  {
   "cell_type": "markdown",
   "id": "2b940b48-6da3-4a1f-92ed-298d948b861f",
   "metadata": {},
   "source": [
    "Now let's go through each animal and make sure the data points match up correctly."
   ]
  },
  {
   "cell_type": "code",
   "execution_count": 53,
   "id": "85e0297b-aae5-43fe-98b0-53e82b788929",
   "metadata": {},
   "outputs": [],
   "source": [
    "name1 = img_dir + 'streetsia_20180409.nii.gz'\n",
    "name2 = label_dir + 'streetsia_20180409.nii'"
   ]
  },
  {
   "cell_type": "code",
   "execution_count": 60,
   "id": "33e5337c-bb94-4d34-948c-0bc1bb6a565b",
   "metadata": {},
   "outputs": [
    {
     "data": {
      "image/png": "[encoded data removed]",
      "text/plain": [
       "<Figure size 432x288 with 2 Axes>"
      ]
     },
     "metadata": {
      "needs_background": "light"
     },
     "output_type": "display_data"
    }
   ],
   "source": [
    "array = load_and_plot_pair(name1, name2, index=200, return_array = True)"
   ]
  },
  {
   "cell_type": "code",
   "execution_count": 61,
   "id": "607c0358-0985-4945-bbe6-4abcd261ba64",
   "metadata": {},
   "outputs": [
    {
     "data": {
      "text/plain": [
       "array([0, 1, 2], dtype=int32)"
      ]
     },
     "execution_count": 61,
     "metadata": {},
     "output_type": "execute_result"
    }
   ],
   "source": [
    "np.unique(array[1])"
   ]
  },
  {
   "cell_type": "code",
   "execution_count": null,
   "id": "6be9690a-5742-4600-bb73-2dbaa6cb67f8",
   "metadata": {},
   "outputs": [],
   "source": []
  }
 ],
 "metadata": {
  "interpreter": {
   "hash": "f726fa9e3d96265230c4503e543f5c3f73ae5ded033c480caee9e2a2a13a4b04"
  },
  "kernelspec": {
   "display_name": "Python 3 (ipykernel)",
   "language": "python",
   "name": "python3"
  },
  "language_info": {
   "codemirror_mode": {
    "name": "ipython",
    "version": 3
   },
   "file_extension": ".py",
   "mimetype": "text/x-python",
   "name": "python",
   "nbconvert_exporter": "python",
   "pygments_lexer": "ipython3",
   "version": "3.8.10"
  }
 },
 "nbformat": 4,
 "nbformat_minor": 5
}
